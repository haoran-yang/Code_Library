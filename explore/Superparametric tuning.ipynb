{
 "cells": [
  {
   "cell_type": "code",
   "execution_count": 241,
   "metadata": {},
   "outputs": [],
   "source": [
    "import numpy as np \n",
    "import pandas as pd \n",
    "from sklearn.preprocessing import LabelEncoder\n",
    "from sklearn.model_selection import train_test_split, StratifiedKFold, KFold\n",
    "from bayes_opt import BayesianOptimization\n",
    "from datetime import datetime\n",
    "from sklearn.metrics import precision_score, recall_score, confusion_matrix, accuracy_score, roc_auc_score, f1_score, roc_curve, auc,precision_recall_curve\n",
    "from sklearn import metrics\n",
    "from sklearn import preprocessing\n",
    "import lightgbm as lgb\n",
    "import seaborn as sns\n",
    "import matplotlib.pyplot as plt\n",
    "%matplotlib inline\n",
    "from sklearn import datasets\n",
    "from sklearn.model_selection import GridSearchCV, RandomizedSearchCV, cross_val_score\n",
    "from collections import Counter\n",
    "import warnings\n",
    "warnings.filterwarnings(\"ignore\")"
   ]
  },
  {
   "cell_type": "code",
   "execution_count": 2,
   "metadata": {
    "scrolled": true
   },
   "outputs": [],
   "source": [
    "#加载数据集\n",
    "dataset = datasets.load_breast_cancer()"
   ]
  },
  {
   "cell_type": "code",
   "execution_count": 3,
   "metadata": {},
   "outputs": [],
   "source": [
    "X = dataset['data']\n",
    "y = dataset['target']"
   ]
  },
  {
   "cell_type": "code",
   "execution_count": 4,
   "metadata": {},
   "outputs": [
    {
     "data": {
      "text/plain": [
       "((569, 30), Counter({0: 212, 1: 357}))"
      ]
     },
     "execution_count": 4,
     "metadata": {},
     "output_type": "execute_result"
    }
   ],
   "source": [
    "X.shape, Counter(y)"
   ]
  },
  {
   "cell_type": "code",
   "execution_count": 5,
   "metadata": {},
   "outputs": [],
   "source": [
    "X_train, X_test, y_train, y_test = train_test_split(X,y,test_size=0.2, random_state=2)"
   ]
  },
  {
   "cell_type": "code",
   "execution_count": 6,
   "metadata": {},
   "outputs": [
    {
     "data": {
      "text/plain": [
       "((455, 30), (114, 30), Counter({1: 288, 0: 167}), Counter({1: 69, 0: 45}))"
      ]
     },
     "execution_count": 6,
     "metadata": {},
     "output_type": "execute_result"
    }
   ],
   "source": [
    "X_train.shape, X_test.shape, Counter(y_train), Counter(y_test)"
   ]
  },
  {
   "cell_type": "code",
   "execution_count": 216,
   "metadata": {},
   "outputs": [],
   "source": [
    "# 使用默认参数\n",
    "params = {'num_leaves':31, 'max_depth':-1, 'learning_rate':0.1, 'n_estimators':100, 'subsample_for_bin':200000, 'objective':'binary', \n",
    "         'min_split_gain':0.0, 'min_child_weight':0.001, 'min_child_samples':20, 'subsample':1.0, 'subsample_freq':0, 'colsample_bytree':1.0, \n",
    "         'reg_alpha':0.0, 'reg_lambda':0.0, 'random_state':6, 'metric':'auc'}\n",
    "lgbc = lgb.LGBMClassifier(**params)"
   ]
  },
  {
   "cell_type": "markdown",
   "metadata": {},
   "source": [
    "# 网格搜索（Grid Search）"
   ]
  },
  {
   "cell_type": "markdown",
   "metadata": {},
   "source": [
    "## 全局搜索"
   ]
  },
  {
   "cell_type": "markdown",
   "metadata": {},
   "source": [
    "- 对全部需要调节的参数设置范围和步长，对所有的参数组合进行搜索，找出最优"
   ]
  },
  {
   "cell_type": "code",
   "execution_count": 217,
   "metadata": {},
   "outputs": [],
   "source": [
    "def GridSearch(clf, params, X, y):\n",
    "    cscv = GridSearchCV(clf, params, scoring='roc_auc', n_jobs=-1, cv=5)\n",
    "    cscv.fit(X, y)\n",
    "    return cscv"
   ]
  },
  {
   "cell_type": "code",
   "execution_count": null,
   "metadata": {},
   "outputs": [],
   "source": [
    "%%time\n",
    "adj_params = {'num_leaves': range(6, 100, 5),\n",
    "              'max_depth': range(3, 15, 3),\n",
    "              'min_child_weight': np.arange(0.001, 0.010, 0.001),\n",
    "              'min_child_samples': np.arange(4, 30, 2),\n",
    "              'subsample': [round(i,1) for i in np.arange(0.4,1.1,0.2)],\n",
    "              'subsample_freq': range(0,6,1),\n",
    "              'colsample_bytree': [round(i,1) for i in np.arange(0.4,1.1,0.2)],\n",
    "              'reg_alpha': [round(i,2) for i in np.arange(0.0,0.1,0.01)],\n",
    "              'reg_lambda': [round(i,2) for i in np.arange(0.0,0.1,0.01)]\n",
    "             }\n",
    "cscv = GridSearch(lgbc , adj_params , X_train, y_train)"
   ]
  },
  {
   "cell_type": "markdown",
   "metadata": {},
   "source": [
    "## 手动搜索"
   ]
  },
  {
   "cell_type": "code",
   "execution_count": 218,
   "metadata": {},
   "outputs": [
    {
     "data": {
      "text/plain": [
       "(28, 0.9929415323298103)"
      ]
     },
     "execution_count": 218,
     "metadata": {},
     "output_type": "execute_result"
    }
   ],
   "source": [
    "train_set = lgb.Dataset( X_train, y_train)\n",
    "\n",
    "cv_result =lgb.cv(params=params,train_set=train_set,num_boost_round=1000,nfold=5,metrics='auc',early_stopping_rounds=50)\n",
    "\n",
    "len(cv_result['auc-mean']), cv_result['auc-mean'][-1]"
   ]
  },
  {
   "cell_type": "code",
   "execution_count": 219,
   "metadata": {},
   "outputs": [],
   "source": [
    "params.update({'n_estimators':28})\n",
    "lgbc = lgb.LGBMClassifier(**params)"
   ]
  },
  {
   "cell_type": "code",
   "execution_count": 220,
   "metadata": {},
   "outputs": [
    {
     "name": "stdout",
     "output_type": "stream",
     "text": [
      "0.9922602147861035 {'max_depth': 6, 'num_leaves': 11}\n",
      "Wall time: 2.75 s\n"
     ]
    }
   ],
   "source": [
    "%%time\n",
    "adj_params = {'num_leaves': range(6, 100, 5),\n",
    "             'max_depth': range(3, 15, 3)\n",
    "             }\n",
    "cscv = GridSearch(lgbc , adj_params , X_train, y_train)\n",
    "print(cscv.best_score_, cscv.best_params_)"
   ]
  },
  {
   "cell_type": "code",
   "execution_count": 221,
   "metadata": {},
   "outputs": [
    {
     "name": "stdout",
     "output_type": "stream",
     "text": [
      "0.9922602147861035 {'max_depth': 6, 'num_leaves': 11}\n",
      "Wall time: 388 ms\n"
     ]
    }
   ],
   "source": [
    "%%time\n",
    "adj_params = {'num_leaves': [8,11,14],\n",
    "             'max_depth': [5, 6, 7]\n",
    "             }\n",
    "cscv = GridSearch(lgbc , adj_params , X_train, y_train)\n",
    "print(cscv.best_score_, cscv.best_params_)"
   ]
  },
  {
   "cell_type": "code",
   "execution_count": 222,
   "metadata": {},
   "outputs": [],
   "source": [
    "params.update({'max_depth': 6, 'num_leaves': 11})\n",
    "lgbc = lgb.LGBMClassifier(**params)"
   ]
  },
  {
   "cell_type": "code",
   "execution_count": 223,
   "metadata": {},
   "outputs": [
    {
     "name": "stdout",
     "output_type": "stream",
     "text": [
      "0.9932855941610078 {'min_child_samples': 16, 'min_child_weight': 0.001}\n",
      "Wall time: 3.77 s\n"
     ]
    }
   ],
   "source": [
    "%%time\n",
    "adj_params = {'min_child_weight': np.arange(0.001, 0.010, 0.001),\n",
    "             'min_child_samples': np.arange(4, 30, 2)\n",
    "             }\n",
    "cscv = GridSearch(lgbc , adj_params , X_train, y_train)\n",
    "print(cscv.best_score_, cscv.best_params_)"
   ]
  },
  {
   "cell_type": "code",
   "execution_count": 224,
   "metadata": {
    "scrolled": true
   },
   "outputs": [],
   "source": [
    "params.update({'min_child_weight': 0.001, 'min_child_samples': 16})\n",
    "lgbc = lgb.LGBMClassifier(**params)"
   ]
  },
  {
   "cell_type": "code",
   "execution_count": 225,
   "metadata": {
    "scrolled": true
   },
   "outputs": [
    {
     "name": "stdout",
     "output_type": "stream",
     "text": [
      "0.9934524960467098 {'colsample_bytree': 0.4, 'subsample': 0.4, 'subsample_freq': 0}\n",
      "Wall time: 2.31 s\n"
     ]
    }
   ],
   "source": [
    "%%time\n",
    "adj_params = {'subsample': [round(i,1) for i in np.arange(0.4,1.1,0.2)],\n",
    "             'subsample_freq': range(0,6,1),\n",
    "             'colsample_bytree': [round(i,1) for i in np.arange(0.4,1.1,0.2)]\n",
    "             }\n",
    "cscv = GridSearch(lgbc , adj_params , X_train, y_train)\n",
    "print(cscv.best_score_, cscv.best_params_)"
   ]
  },
  {
   "cell_type": "code",
   "execution_count": 226,
   "metadata": {},
   "outputs": [],
   "source": [
    "params.update({'colsample_bytree': 0.4, 'subsample': 0.4, 'subsample_freq': 0})\n",
    "lgbc = lgb.LGBMClassifier(**params)"
   ]
  },
  {
   "cell_type": "code",
   "execution_count": 227,
   "metadata": {},
   "outputs": [
    {
     "name": "stdout",
     "output_type": "stream",
     "text": [
      "0.9938586803751743 {'reg_alpha': 0.04, 'reg_lambda': 0.07}\n",
      "Wall time: 1.69 s\n"
     ]
    }
   ],
   "source": [
    "%%time\n",
    "adj_params = {'reg_alpha': [round(i,2) for i in np.arange(0.0,0.1,0.01)],\n",
    "              'reg_lambda': [round(i,2) for i in np.arange(0.0,0.1,0.01)]\n",
    "             }\n",
    "cscv = GridSearch(lgbc , adj_params , X_train, y_train)\n",
    "print(cscv.best_score_, cscv.best_params_)"
   ]
  },
  {
   "cell_type": "code",
   "execution_count": 249,
   "metadata": {},
   "outputs": [],
   "source": [
    "params.update({'reg_alpha': 0.04, 'reg_lambda': 0.07})"
   ]
  },
  {
   "cell_type": "code",
   "execution_count": 230,
   "metadata": {},
   "outputs": [
    {
     "name": "stdout",
     "output_type": "stream",
     "text": [
      "{'num_leaves': 11, 'max_depth': 6, 'learning_rate': 0.1, 'n_estimators': 28, 'subsample_for_bin': 200000, 'objective': 'binary', 'min_split_gain': 0.0, 'min_child_weight': 0.001, 'min_child_samples': 16, 'subsample': 0.4, 'subsample_freq': 0, 'colsample_bytree': 0.4, 'reg_alpha': 0.04, 'reg_lambda': 0.07, 'random_state': 6, 'metric': 'auc'}\n"
     ]
    }
   ],
   "source": [
    "print(params)"
   ]
  },
  {
   "cell_type": "code",
   "execution_count": 250,
   "metadata": {},
   "outputs": [],
   "source": [
    "lgbc = lgb.LGBMClassifier(**params)"
   ]
  },
  {
   "cell_type": "code",
   "execution_count": 251,
   "metadata": {},
   "outputs": [
    {
     "name": "stdout",
     "output_type": "stream",
     "text": [
      "0.9915777611404863\n"
     ]
    }
   ],
   "source": [
    "cv_score = cross_val_score(estimator=lgbc,X=X,y=y,scoring='roc_auc',cv=5,n_jobs=-1).mean()\n",
    "print(cv_score)"
   ]
  },
  {
   "cell_type": "code",
   "execution_count": 252,
   "metadata": {
    "scrolled": true
   },
   "outputs": [
    {
     "name": "stdout",
     "output_type": "stream",
     "text": [
      "0.9826086956521739\n"
     ]
    }
   ],
   "source": [
    "lgbc.fit(X_train,y_train)\n",
    "\n",
    "probs = lgbc.predict_proba(X_test)[:,1]\n",
    "\n",
    "test_score = roc_auc_score(y_true=y_test,y_score=probs)\n",
    "print(test_score)"
   ]
  },
  {
   "cell_type": "markdown",
   "metadata": {},
   "source": [
    "# 随机搜索（Randomized Search）"
   ]
  },
  {
   "cell_type": "code",
   "execution_count": 233,
   "metadata": {},
   "outputs": [],
   "source": [
    "params = {'num_leaves':31, 'max_depth':-1, 'learning_rate':0.1, 'n_estimators':100, 'subsample_for_bin':200000, 'objective':'binary', \n",
    "         'min_split_gain':0.0, 'min_child_weight':0.001, 'min_child_samples':20, 'subsample':1.0, 'subsample_freq':0, 'colsample_bytree':1.0, \n",
    "         'reg_alpha':0.0, 'reg_lambda':0.0, 'random_state':6, 'metric':'auc'}"
   ]
  },
  {
   "cell_type": "code",
   "execution_count": 206,
   "metadata": {},
   "outputs": [],
   "source": [
    "def RandomSearch(clf, params, X, y, n_iter):\n",
    "    cscv = RandomizedSearchCV(clf, params, n_iter=n_iter, scoring='roc_auc', n_jobs=-1, cv=5)\n",
    "    cscv.fit(X, y)\n",
    "    return cscv"
   ]
  },
  {
   "cell_type": "code",
   "execution_count": 234,
   "metadata": {},
   "outputs": [],
   "source": [
    "params.update({'n_estimators':28})\n",
    "lgbc = lgb.LGBMClassifier(**params)"
   ]
  },
  {
   "cell_type": "code",
   "execution_count": 235,
   "metadata": {
    "scrolled": true
   },
   "outputs": [
    {
     "name": "stdout",
     "output_type": "stream",
     "text": [
      "Wall time: 22.5 s\n"
     ]
    }
   ],
   "source": [
    "%%time\n",
    "adj_params = {'num_leaves': range(6, 100, 5),\n",
    "              'max_depth': range(3, 15, 3),\n",
    "              'min_child_weight': np.arange(0.001, 0.010, 0.001),\n",
    "              'min_child_samples': np.arange(4, 30, 2),\n",
    "              'subsample': [round(i,1) for i in np.arange(0.4,1.1,0.2)],\n",
    "              'subsample_freq': range(0,6,1),\n",
    "              'colsample_bytree': [round(i,1) for i in np.arange(0.4,1.1,0.2)],\n",
    "              'reg_alpha': [round(i,2) for i in np.arange(0.0,0.1,0.01)],\n",
    "              'reg_lambda': [round(i,2) for i in np.arange(0.0,0.1,0.01)]\n",
    "             }\n",
    "cscv = RandomSearch(lgbc , adj_params , X_train, y_train, 1000)"
   ]
  },
  {
   "cell_type": "code",
   "execution_count": 236,
   "metadata": {},
   "outputs": [
    {
     "name": "stdout",
     "output_type": "stream",
     "text": [
      "{'subsample_freq': 3, 'subsample': 0.8, 'reg_lambda': 0.03, 'reg_alpha': 0.07, 'num_leaves': 36, 'min_child_weight': 0.002, 'min_child_samples': 8, 'max_depth': 9, 'colsample_bytree': 0.6} 0.9943397800022118\n"
     ]
    }
   ],
   "source": [
    "print(cscv.best_params_, cscv.best_score_)"
   ]
  },
  {
   "cell_type": "code",
   "execution_count": 237,
   "metadata": {},
   "outputs": [],
   "source": [
    "params.update(cscv.best_params_)"
   ]
  },
  {
   "cell_type": "code",
   "execution_count": 238,
   "metadata": {},
   "outputs": [
    {
     "name": "stdout",
     "output_type": "stream",
     "text": [
      "{'num_leaves': 36, 'max_depth': 9, 'learning_rate': 0.1, 'n_estimators': 28, 'subsample_for_bin': 200000, 'objective': 'binary', 'min_split_gain': 0.0, 'min_child_weight': 0.002, 'min_child_samples': 8, 'subsample': 0.8, 'subsample_freq': 3, 'colsample_bytree': 0.6, 'reg_alpha': 0.07, 'reg_lambda': 0.03, 'random_state': 6, 'metric': 'auc'}\n"
     ]
    }
   ],
   "source": [
    "print(params)"
   ]
  },
  {
   "cell_type": "code",
   "execution_count": 255,
   "metadata": {},
   "outputs": [],
   "source": [
    "lgbc = lgb.LGBMClassifier(**params)"
   ]
  },
  {
   "cell_type": "code",
   "execution_count": 256,
   "metadata": {},
   "outputs": [
    {
     "name": "stdout",
     "output_type": "stream",
     "text": [
      "0.9916970817150969\n"
     ]
    }
   ],
   "source": [
    "cv_score = cross_val_score(estimator=lgbc,X=X,y=y,scoring='roc_auc',cv=5,n_jobs=-1).mean()\n",
    "print(cv_score)"
   ]
  },
  {
   "cell_type": "code",
   "execution_count": 257,
   "metadata": {},
   "outputs": [
    {
     "data": {
      "text/plain": [
       "0.9864734299516907"
      ]
     },
     "execution_count": 257,
     "metadata": {},
     "output_type": "execute_result"
    }
   ],
   "source": [
    "lgbc.fit(X_train,y_train)\n",
    "probs = lgbc.predict_proba(X_test)[:,1]\n",
    "roc_auc_score(y_true=y_test,y_score=probs)"
   ]
  },
  {
   "cell_type": "markdown",
   "metadata": {},
   "source": [
    "# 贝叶斯优化（Bayesian Optimization）"
   ]
  },
  {
   "cell_type": "code",
   "execution_count": 292,
   "metadata": {},
   "outputs": [],
   "source": [
    "def BayesianSearch(clf, params):\n",
    "    \"\"\"贝叶斯优化器\"\"\"\n",
    "    # 迭代次数\n",
    "    num_iter = 25\n",
    "    init_points = 5\n",
    "    # 创建一个贝叶斯优化对象，输入为自定义的模型评估函数与超参数的范围\n",
    "    bayes = BayesianOptimization(clf, params)\n",
    "    # 开始优化\n",
    "    bayes.maximize(init_points=init_points, n_iter=num_iter)\n",
    "    return bayes"
   ]
  },
  {
   "cell_type": "code",
   "execution_count": 274,
   "metadata": {},
   "outputs": [],
   "source": [
    "def GBM_evaluate(num_leaves, max_depth, min_child_weight, min_child_samples, subsample, subsample_freq, colsample_bytree, reg_alpha, reg_lambda):\n",
    "    \"\"\"自定义的模型评估函数\"\"\"\n",
    "\n",
    "    # 模型固定的超参数\n",
    "    param = {\n",
    "        'objective': 'binary',\n",
    "        'n_estimators': 28,\n",
    "        'metric': 'auc',\n",
    "        'learning_rate':0.1,\n",
    "        'random_state': 6}\n",
    "\n",
    "    # 贝叶斯优化器生成的超参数\n",
    "    param['min_child_weight'] = int(num_leaves)\n",
    "    param['max_depth'] = int(max_depth)\n",
    "    param['min_child_weight'] = float(min_child_weight)\n",
    "    param['min_child_samples'] = int(min_child_samples)\n",
    "    param['subsample'] = float(subsample)\n",
    "    param['subsample_freq'] = int(subsample_freq)\n",
    "    param['colsample_bytree'] = float(colsample_bytree)\n",
    "    param['reg_lambda'] = float(reg_lambda)\n",
    "    param['reg_alpha'] = float(reg_alpha)\n",
    "    \n",
    "    # 5-flod 交叉检验，注意BayesianOptimization会向最大评估值的方向优化，因此对于回归任务需要取负数。\n",
    "    val = cross_val_score(lgb.LGBMClassifier(**param),X_train, y_train ,scoring='roc_auc', cv=5).mean()\n",
    "    return val"
   ]
  },
  {
   "cell_type": "code",
   "execution_count": 275,
   "metadata": {
    "scrolled": true
   },
   "outputs": [
    {
     "name": "stdout",
     "output_type": "stream",
     "text": [
      "|   iter    |  target   | colsam... | max_depth | min_ch... | min_ch... | num_le... | reg_alpha | reg_la... | subsample | subsam... |\n",
      "-------------------------------------------------------------------------------------------------------------------------------------\n",
      "| \u001b[0m 1       \u001b[0m | \u001b[0m 0.992   \u001b[0m | \u001b[0m 0.6131  \u001b[0m | \u001b[0m 6.529   \u001b[0m | \u001b[0m 21.09   \u001b[0m | \u001b[0m 0.008365\u001b[0m | \u001b[0m 12.43   \u001b[0m | \u001b[0m 0.07952 \u001b[0m | \u001b[0m 0.03076 \u001b[0m | \u001b[0m 0.8642  \u001b[0m | \u001b[0m 2.161   \u001b[0m |\n",
      "| \u001b[95m 2       \u001b[0m | \u001b[95m 0.992   \u001b[0m | \u001b[95m 0.6005  \u001b[0m | \u001b[95m 14.37   \u001b[0m | \u001b[95m 21.94   \u001b[0m | \u001b[95m 0.001349\u001b[0m | \u001b[95m 59.36   \u001b[0m | \u001b[95m 0.01041 \u001b[0m | \u001b[95m 0.08223 \u001b[0m | \u001b[95m 0.8218  \u001b[0m | \u001b[95m 3.593   \u001b[0m |\n",
      "| \u001b[95m 3       \u001b[0m | \u001b[95m 0.9922  \u001b[0m | \u001b[95m 0.7575  \u001b[0m | \u001b[95m 7.302   \u001b[0m | \u001b[95m 23.36   \u001b[0m | \u001b[95m 0.009218\u001b[0m | \u001b[95m 52.97   \u001b[0m | \u001b[95m 0.08787 \u001b[0m | \u001b[95m 0.0914  \u001b[0m | \u001b[95m 0.8791  \u001b[0m | \u001b[95m 3.026   \u001b[0m |\n",
      "| \u001b[0m 4       \u001b[0m | \u001b[0m 0.989   \u001b[0m | \u001b[0m 0.5944  \u001b[0m | \u001b[0m 3.12    \u001b[0m | \u001b[0m 5.041   \u001b[0m | \u001b[0m 0.004724\u001b[0m | \u001b[0m 12.66   \u001b[0m | \u001b[0m 0.09395 \u001b[0m | \u001b[0m 0.09204 \u001b[0m | \u001b[0m 0.4741  \u001b[0m | \u001b[0m 0.537   \u001b[0m |\n",
      "| \u001b[0m 5       \u001b[0m | \u001b[0m 0.9914  \u001b[0m | \u001b[0m 0.861   \u001b[0m | \u001b[0m 8.03    \u001b[0m | \u001b[0m 22.39   \u001b[0m | \u001b[0m 0.001921\u001b[0m | \u001b[0m 60.9    \u001b[0m | \u001b[0m 0.07612 \u001b[0m | \u001b[0m 0.0383  \u001b[0m | \u001b[0m 0.8636  \u001b[0m | \u001b[0m 5.986   \u001b[0m |\n",
      "| \u001b[0m 6       \u001b[0m | \u001b[0m 0.9898  \u001b[0m | \u001b[0m 0.9407  \u001b[0m | \u001b[0m 4.135   \u001b[0m | \u001b[0m 29.81   \u001b[0m | \u001b[0m 0.002876\u001b[0m | \u001b[0m 99.97   \u001b[0m | \u001b[0m 0.05714 \u001b[0m | \u001b[0m 0.02759 \u001b[0m | \u001b[0m 0.5534  \u001b[0m | \u001b[0m 1.71    \u001b[0m |\n",
      "| \u001b[0m 7       \u001b[0m | \u001b[0m 0.9903  \u001b[0m | \u001b[0m 0.695   \u001b[0m | \u001b[0m 14.94   \u001b[0m | \u001b[0m 5.531   \u001b[0m | \u001b[0m 0.00903 \u001b[0m | \u001b[0m 99.74   \u001b[0m | \u001b[0m 0.01618 \u001b[0m | \u001b[0m 0.07275 \u001b[0m | \u001b[0m 0.8278  \u001b[0m | \u001b[0m 5.66    \u001b[0m |\n",
      "| \u001b[0m 8       \u001b[0m | \u001b[0m 0.9874  \u001b[0m | \u001b[0m 0.9468  \u001b[0m | \u001b[0m 13.0    \u001b[0m | \u001b[0m 29.63   \u001b[0m | \u001b[0m 0.005387\u001b[0m | \u001b[0m 6.173   \u001b[0m | \u001b[0m 0.07618 \u001b[0m | \u001b[0m 0.08057 \u001b[0m | \u001b[0m 0.5694  \u001b[0m | \u001b[0m 5.388   \u001b[0m |\n",
      "| \u001b[95m 9       \u001b[0m | \u001b[95m 0.9923  \u001b[0m | \u001b[95m 0.6939  \u001b[0m | \u001b[95m 3.535   \u001b[0m | \u001b[95m 4.161   \u001b[0m | \u001b[95m 0.008265\u001b[0m | \u001b[95m 99.78   \u001b[0m | \u001b[95m 0.06751 \u001b[0m | \u001b[95m 0.07202 \u001b[0m | \u001b[95m 0.5371  \u001b[0m | \u001b[95m 1.768   \u001b[0m |\n",
      "| \u001b[0m 10      \u001b[0m | \u001b[0m 0.992   \u001b[0m | \u001b[0m 0.7932  \u001b[0m | \u001b[0m 4.247   \u001b[0m | \u001b[0m 4.003   \u001b[0m | \u001b[0m 0.003177\u001b[0m | \u001b[0m 99.99   \u001b[0m | \u001b[0m 0.009365\u001b[0m | \u001b[0m 0.001658\u001b[0m | \u001b[0m 0.985   \u001b[0m | \u001b[0m 4.743   \u001b[0m |\n",
      "| \u001b[0m 11      \u001b[0m | \u001b[0m 0.9904  \u001b[0m | \u001b[0m 0.8216  \u001b[0m | \u001b[0m 3.167   \u001b[0m | \u001b[0m 5.114   \u001b[0m | \u001b[0m 0.006548\u001b[0m | \u001b[0m 99.97   \u001b[0m | \u001b[0m 0.07904 \u001b[0m | \u001b[0m 0.06183 \u001b[0m | \u001b[0m 0.8867  \u001b[0m | \u001b[0m 0.8045  \u001b[0m |\n",
      "| \u001b[0m 12      \u001b[0m | \u001b[0m 0.9902  \u001b[0m | \u001b[0m 0.6978  \u001b[0m | \u001b[0m 13.81   \u001b[0m | \u001b[0m 29.7    \u001b[0m | \u001b[0m 0.003554\u001b[0m | \u001b[0m 99.97   \u001b[0m | \u001b[0m 0.07383 \u001b[0m | \u001b[0m 0.04245 \u001b[0m | \u001b[0m 0.5456  \u001b[0m | \u001b[0m 1.39    \u001b[0m |\n",
      "| \u001b[0m 13      \u001b[0m | \u001b[0m 0.9895  \u001b[0m | \u001b[0m 0.6704  \u001b[0m | \u001b[0m 11.36   \u001b[0m | \u001b[0m 4.083   \u001b[0m | \u001b[0m 0.003091\u001b[0m | \u001b[0m 99.99   \u001b[0m | \u001b[0m 0.05901 \u001b[0m | \u001b[0m 0.03642 \u001b[0m | \u001b[0m 0.4346  \u001b[0m | \u001b[0m 0.1465  \u001b[0m |\n",
      "| \u001b[0m 14      \u001b[0m | \u001b[0m 0.9887  \u001b[0m | \u001b[0m 0.4298  \u001b[0m | \u001b[0m 3.682   \u001b[0m | \u001b[0m 29.85   \u001b[0m | \u001b[0m 0.003705\u001b[0m | \u001b[0m 99.98   \u001b[0m | \u001b[0m 0.08792 \u001b[0m | \u001b[0m 0.02495 \u001b[0m | \u001b[0m 0.4078  \u001b[0m | \u001b[0m 4.892   \u001b[0m |\n",
      "| \u001b[0m 15      \u001b[0m | \u001b[0m 0.987   \u001b[0m | \u001b[0m 0.9691  \u001b[0m | \u001b[0m 3.202   \u001b[0m | \u001b[0m 4.217   \u001b[0m | \u001b[0m 0.001766\u001b[0m | \u001b[0m 6.145   \u001b[0m | \u001b[0m 0.0282  \u001b[0m | \u001b[0m 0.01572 \u001b[0m | \u001b[0m 0.4677  \u001b[0m | \u001b[0m 4.118   \u001b[0m |\n",
      "| \u001b[0m 16      \u001b[0m | \u001b[0m 0.9873  \u001b[0m | \u001b[0m 0.5977  \u001b[0m | \u001b[0m 14.67   \u001b[0m | \u001b[0m 29.97   \u001b[0m | \u001b[0m 0.005972\u001b[0m | \u001b[0m 99.97   \u001b[0m | \u001b[0m 0.00283 \u001b[0m | \u001b[0m 0.05836 \u001b[0m | \u001b[0m 0.4112  \u001b[0m | \u001b[0m 5.834   \u001b[0m |\n",
      "| \u001b[0m 17      \u001b[0m | \u001b[0m 0.9911  \u001b[0m | \u001b[0m 0.5516  \u001b[0m | \u001b[0m 3.56    \u001b[0m | \u001b[0m 29.85   \u001b[0m | \u001b[0m 0.00607 \u001b[0m | \u001b[0m 49.5    \u001b[0m | \u001b[0m 0.07928 \u001b[0m | \u001b[0m 0.03027 \u001b[0m | \u001b[0m 0.9918  \u001b[0m | \u001b[0m 0.4168  \u001b[0m |\n",
      "| \u001b[0m 18      \u001b[0m | \u001b[0m 0.9912  \u001b[0m | \u001b[0m 0.6254  \u001b[0m | \u001b[0m 14.9    \u001b[0m | \u001b[0m 5.009   \u001b[0m | \u001b[0m 0.001182\u001b[0m | \u001b[0m 58.52   \u001b[0m | \u001b[0m 0.07352 \u001b[0m | \u001b[0m 0.0144  \u001b[0m | \u001b[0m 0.9123  \u001b[0m | \u001b[0m 0.06782 \u001b[0m |\n",
      "| \u001b[0m 19      \u001b[0m | \u001b[0m 0.9874  \u001b[0m | \u001b[0m 0.6099  \u001b[0m | \u001b[0m 3.327   \u001b[0m | \u001b[0m 4.973   \u001b[0m | \u001b[0m 0.003761\u001b[0m | \u001b[0m 65.57   \u001b[0m | \u001b[0m 0.08579 \u001b[0m | \u001b[0m 0.07034 \u001b[0m | \u001b[0m 0.97    \u001b[0m | \u001b[0m 0.2418  \u001b[0m |\n",
      "| \u001b[95m 20      \u001b[0m | \u001b[95m 0.9924  \u001b[0m | \u001b[95m 0.4089  \u001b[0m | \u001b[95m 14.77   \u001b[0m | \u001b[95m 4.48    \u001b[0m | \u001b[95m 0.004031\u001b[0m | \u001b[95m 99.98   \u001b[0m | \u001b[95m 0.03215 \u001b[0m | \u001b[95m 0.08321 \u001b[0m | \u001b[95m 0.7844  \u001b[0m | \u001b[95m 2.771   \u001b[0m |\n",
      "| \u001b[0m 21      \u001b[0m | \u001b[0m 0.9911  \u001b[0m | \u001b[0m 0.8009  \u001b[0m | \u001b[0m 14.9    \u001b[0m | \u001b[0m 4.304   \u001b[0m | \u001b[0m 0.004796\u001b[0m | \u001b[0m 99.84   \u001b[0m | \u001b[0m 0.0431  \u001b[0m | \u001b[0m 0.08972 \u001b[0m | \u001b[0m 0.906   \u001b[0m | \u001b[0m 0.01622 \u001b[0m |\n",
      "| \u001b[0m 22      \u001b[0m | \u001b[0m 0.9881  \u001b[0m | \u001b[0m 0.8644  \u001b[0m | \u001b[0m 14.71   \u001b[0m | \u001b[0m 4.073   \u001b[0m | \u001b[0m 0.008128\u001b[0m | \u001b[0m 99.58   \u001b[0m | \u001b[0m 0.08806 \u001b[0m | \u001b[0m 0.01648 \u001b[0m | \u001b[0m 0.4147  \u001b[0m | \u001b[0m 4.903   \u001b[0m |\n",
      "| \u001b[0m 23      \u001b[0m | \u001b[0m 0.9909  \u001b[0m | \u001b[0m 0.777   \u001b[0m | \u001b[0m 3.612   \u001b[0m | \u001b[0m 29.78   \u001b[0m | \u001b[0m 0.001354\u001b[0m | \u001b[0m 99.76   \u001b[0m | \u001b[0m 0.04696 \u001b[0m | \u001b[0m 0.001682\u001b[0m | \u001b[0m 0.567   \u001b[0m | \u001b[0m 0.2422  \u001b[0m |\n",
      "| \u001b[0m 24      \u001b[0m | \u001b[0m 0.9905  \u001b[0m | \u001b[0m 0.5621  \u001b[0m | \u001b[0m 3.019   \u001b[0m | \u001b[0m 29.87   \u001b[0m | \u001b[0m 0.004477\u001b[0m | \u001b[0m 99.5    \u001b[0m | \u001b[0m 0.00124 \u001b[0m | \u001b[0m 0.005836\u001b[0m | \u001b[0m 0.4111  \u001b[0m | \u001b[0m 0.4989  \u001b[0m |\n",
      "| \u001b[0m 25      \u001b[0m | \u001b[0m 0.9907  \u001b[0m | \u001b[0m 0.9562  \u001b[0m | \u001b[0m 3.888   \u001b[0m | \u001b[0m 4.85    \u001b[0m | \u001b[0m 0.009633\u001b[0m | \u001b[0m 99.88   \u001b[0m | \u001b[0m 0.05619 \u001b[0m | \u001b[0m 0.06429 \u001b[0m | \u001b[0m 0.7565  \u001b[0m | \u001b[0m 0.687   \u001b[0m |\n",
      "| \u001b[0m 26      \u001b[0m | \u001b[0m 0.9911  \u001b[0m | \u001b[0m 0.7468  \u001b[0m | \u001b[0m 13.78   \u001b[0m | \u001b[0m 29.51   \u001b[0m | \u001b[0m 0.00755 \u001b[0m | \u001b[0m 99.99   \u001b[0m | \u001b[0m 0.04964 \u001b[0m | \u001b[0m 0.01591 \u001b[0m | \u001b[0m 0.4915  \u001b[0m | \u001b[0m 0.2551  \u001b[0m |\n",
      "| \u001b[0m 27      \u001b[0m | \u001b[0m 0.9906  \u001b[0m | \u001b[0m 0.643   \u001b[0m | \u001b[0m 14.64   \u001b[0m | \u001b[0m 28.88   \u001b[0m | \u001b[0m 0.001416\u001b[0m | \u001b[0m 99.59   \u001b[0m | \u001b[0m 0.05849 \u001b[0m | \u001b[0m 0.008487\u001b[0m | \u001b[0m 0.7714  \u001b[0m | \u001b[0m 0.4789  \u001b[0m |\n",
      "| \u001b[0m 28      \u001b[0m | \u001b[0m 0.9917  \u001b[0m | \u001b[0m 0.8947  \u001b[0m | \u001b[0m 3.061   \u001b[0m | \u001b[0m 29.98   \u001b[0m | \u001b[0m 0.006696\u001b[0m | \u001b[0m 99.97   \u001b[0m | \u001b[0m 0.07466 \u001b[0m | \u001b[0m 0.03479 \u001b[0m | \u001b[0m 0.9447  \u001b[0m | \u001b[0m 1.3     \u001b[0m |\n",
      "| \u001b[0m 29      \u001b[0m | \u001b[0m 0.9911  \u001b[0m | \u001b[0m 0.7183  \u001b[0m | \u001b[0m 3.214   \u001b[0m | \u001b[0m 28.64   \u001b[0m | \u001b[0m 0.007787\u001b[0m | \u001b[0m 99.98   \u001b[0m | \u001b[0m 0.05544 \u001b[0m | \u001b[0m 0.01526 \u001b[0m | \u001b[0m 0.5139  \u001b[0m | \u001b[0m 1.253   \u001b[0m |\n",
      "| \u001b[0m 30      \u001b[0m | \u001b[0m 0.9894  \u001b[0m | \u001b[0m 0.5281  \u001b[0m | \u001b[0m 3.042   \u001b[0m | \u001b[0m 29.98   \u001b[0m | \u001b[0m 0.006397\u001b[0m | \u001b[0m 99.9    \u001b[0m | \u001b[0m 0.0059  \u001b[0m | \u001b[0m 0.03192 \u001b[0m | \u001b[0m 0.7829  \u001b[0m | \u001b[0m 1.01    \u001b[0m |\n",
      "=====================================================================================================================================\n",
      "Wall time: 5min 15s\n"
     ]
    }
   ],
   "source": [
    "%%time\n",
    "# 调参范围\n",
    "adj_params = {'num_leaves': (6, 100),\n",
    "              'max_depth': (3, 15),\n",
    "              'min_child_weight': (0.001, 0.01),\n",
    "              'min_child_samples': (4, 30),\n",
    "              'subsample': (0.4, 1.0),\n",
    "              'subsample_freq': (0, 6),\n",
    "              'colsample_bytree': (0.4, 1.0),\n",
    "              'reg_alpha': (0.0, 0.1),\n",
    "              'reg_lambda': (0.0, 0.1)\n",
    "             }\n",
    "# 调用贝叶斯优化\n",
    "bayesian_result = BayesianSearch(GBM_evaluate, adj_params)"
   ]
  },
  {
   "cell_type": "code",
   "execution_count": 291,
   "metadata": {},
   "outputs": [
    {
     "name": "stdout",
     "output_type": "stream",
     "text": [
      "Best bayesian score: 0.9924000871315913\n",
      "\n",
      "Best bayesian params: {'colsample_bytree': 0.4089206496876992, 'max_depth': 14.773819480466189, 'min_child_samples': 4.480196571648507, 'min_child_weight': 0.004031333374775868, 'num_leaves': 99.97968887651052, 'reg_alpha': 0.03214605103841293, 'reg_lambda': 0.08320635117193971, 'subsample': 0.7843722149752079, 'subsample_freq': 2.770536702654322}\n"
     ]
    }
   ],
   "source": [
    "print('Best bayesian score: %s\\n'%bayesian_result.max['target'])\n",
    "print('Best bayesian params: %s'%str(bayesian_result.max['params']))"
   ]
  },
  {
   "cell_type": "code",
   "execution_count": 281,
   "metadata": {},
   "outputs": [],
   "source": [
    "params.update(bayesian_result.max['params'])"
   ]
  },
  {
   "cell_type": "code",
   "execution_count": 283,
   "metadata": {},
   "outputs": [],
   "source": [
    "for p in ['num_leaves','max_depth','min_child_samples','subsample_freq']:\n",
    "    params[p] = int(params.get(p))"
   ]
  },
  {
   "cell_type": "code",
   "execution_count": 284,
   "metadata": {},
   "outputs": [
    {
     "name": "stdout",
     "output_type": "stream",
     "text": [
      "{'num_leaves': 99, 'max_depth': 14, 'learning_rate': 0.1, 'n_estimators': 28, 'subsample_for_bin': 200000, 'objective': 'binary', 'min_split_gain': 0.0, 'min_child_weight': 0.004031333374775868, 'min_child_samples': 4, 'subsample': 0.7843722149752079, 'subsample_freq': 2, 'colsample_bytree': 0.4089206496876992, 'reg_alpha': 0.03214605103841293, 'reg_lambda': 0.08320635117193971, 'random_state': 6, 'metric': 'auc'}\n"
     ]
    }
   ],
   "source": [
    "print(params)"
   ]
  },
  {
   "cell_type": "code",
   "execution_count": 285,
   "metadata": {},
   "outputs": [],
   "source": [
    "lgbc = lgb.LGBMClassifier(**params)"
   ]
  },
  {
   "cell_type": "code",
   "execution_count": 286,
   "metadata": {},
   "outputs": [
    {
     "name": "stdout",
     "output_type": "stream",
     "text": [
      "0.9910362692953587\n"
     ]
    }
   ],
   "source": [
    "cv_score = cross_val_score(estimator=lgbc,X=X,y=y,scoring='roc_auc',cv=5,n_jobs=-1).mean()\n",
    "print(cv_score)"
   ]
  },
  {
   "cell_type": "code",
   "execution_count": 287,
   "metadata": {},
   "outputs": [
    {
     "data": {
      "text/plain": [
       "0.9832528180354266"
      ]
     },
     "execution_count": 287,
     "metadata": {},
     "output_type": "execute_result"
    }
   ],
   "source": [
    "lgbc.fit(X_train,y_train)\n",
    "probs = lgbc.predict_proba(X_test)[:,1]\n",
    "roc_auc_score(y_true=y_test,y_score=probs)"
   ]
  }
 ],
 "metadata": {
  "hide_input": false,
  "kernelspec": {
   "display_name": "Python 3",
   "language": "python",
   "name": "python3"
  },
  "language_info": {
   "codemirror_mode": {
    "name": "ipython",
    "version": 3
   },
   "file_extension": ".py",
   "mimetype": "text/x-python",
   "name": "python",
   "nbconvert_exporter": "python",
   "pygments_lexer": "ipython3",
   "version": "3.7.0"
  },
  "toc": {
   "base_numbering": 1,
   "nav_menu": {},
   "number_sections": true,
   "sideBar": true,
   "skip_h1_title": false,
   "title_cell": "Table of Contents",
   "title_sidebar": "Contents",
   "toc_cell": false,
   "toc_position": {},
   "toc_section_display": true,
   "toc_window_display": true
  }
 },
 "nbformat": 4,
 "nbformat_minor": 2
}
