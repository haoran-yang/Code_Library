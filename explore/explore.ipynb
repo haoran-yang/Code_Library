{
 "cells": [
  {
   "cell_type": "code",
   "execution_count": 1,
   "metadata": {},
   "outputs": [],
   "source": [
    "import pandas as pd\n",
    "import numpy as np\n",
    "import math\n",
    "from sklearn.preprocessing import LabelEncoder,StandardScaler,MinMaxScaler\n",
    "from collections import Counter\n",
    "from sklearn import ensemble,model_selection,metrics,feature_selection\n",
    "import xgboost\n",
    "import lightgbm\n",
    "from xgboost import XGBClassifier\n",
    "from lightgbm import LGBMClassifier\n",
    "import matplotlib as mpl\n",
    "import matplotlib.pyplot as plt\n",
    "import seaborn as sns\n",
    "import math\n",
    "from collections import Counter\n",
    "%matplotlib inline\n",
    "import warnings\n",
    "warnings.filterwarnings('ignore')\n",
    "from pyecharts import Bar,Line,Overlap,Grid,Page\n",
    "import graphviz \n",
    "import os\n",
    "from sklearn import tree\n",
    "from mpl_toolkits.mplot3d import Axes3D\n",
    "from sklearn.decomposition import PCA\n",
    "sns.set(style='whitegrid')\n",
    "from sklearn.cluster import KMeans\n",
    "from sklearn import datasets\n",
    "import sys\n",
    "sys.path.append('F:/github/Code_Library')\n",
    "from bestbinning_entropy_gini import get_bestsplit_list,EntropyGiniBinning\n",
    "from sklearn import linear_model,svm,neighbors,neural_network\n",
    "plt.rcParams['font.sans-serif'] = ['SimHei']  # 解决中文显示问题-设置字体为黑体\n",
    "plt.rcParams['axes.unicode_minus'] = False  # 解决保存图像是负号'-'显示为方块的问题"
   ]
  },
  {
   "cell_type": "markdown",
   "metadata": {},
   "source": [
    "## data import"
   ]
  },
  {
   "cell_type": "code",
   "execution_count": null,
   "metadata": {},
   "outputs": [],
   "source": [
    "iris = datasets.load_iris()\n",
    "iris_x = iris.get('data')\n",
    "iris_y = iris.get('target')\n",
    "iris_feature_names = iris.get('feature_names')"
   ]
  },
  {
   "cell_type": "code",
   "execution_count": null,
   "metadata": {},
   "outputs": [],
   "source": [
    "breast = datasets.load_breast_cancer()\n",
    "breast_x = breast.get('data')\n",
    "breast_y = breast.get('target')\n",
    "breast_feature_names = breast.get('feature_names')"
   ]
  },
  {
   "cell_type": "code",
   "execution_count": 98,
   "metadata": {},
   "outputs": [],
   "source": [
    "train_kj = pd.read_csv('./train_kj.csv',encoding='gbk',dtype=str)\n",
    "test_kj = pd.read_csv('./test_kj.csv',encoding='gbk',dtype=str)"
   ]
  },
  {
   "cell_type": "markdown",
   "metadata": {},
   "source": [
    "### size count and bad ratio、plot"
   ]
  },
  {
   "cell_type": "code",
   "execution_count": 241,
   "metadata": {
    "scrolled": true
   },
   "outputs": [],
   "source": [
    "a,b = feature_count_ratio(data=train_kj,x='age',xtype='numeric',y='FPD30',value='LOAN_NO')"
   ]
  },
  {
   "cell_type": "code",
   "execution_count": 227,
   "metadata": {},
   "outputs": [],
   "source": [
    "a,b = feature_count_ratio(data=train_kj,x='channel',xtype='cate',y='FPD30',value='LOAN_NO')"
   ]
  },
  {
   "cell_type": "code",
   "execution_count": 165,
   "metadata": {},
   "outputs": [],
   "source": [
    "a,b = feature_count_ratio(data=train_kj,x='loan_amt',xtype='numeric',y='FPD30',value='LOAN_NO')"
   ]
  },
  {
   "cell_type": "code",
   "execution_count": 223,
   "metadata": {},
   "outputs": [],
   "source": [
    "a,b = feature_count_ratio(data=train_kj,x='nation',xtype='cate',y='FPD30',value='LOAN_NO')"
   ]
  },
  {
   "cell_type": "code",
   "execution_count": 220,
   "metadata": {},
   "outputs": [],
   "source": [
    "a,b = feature_count_ratio(data=train_kj,x='unit_prov',xtype='cate',y='FPD30',value='LOAN_NO')"
   ]
  },
  {
   "cell_type": "code",
   "execution_count": 268,
   "metadata": {
    "scrolled": true
   },
   "outputs": [
    {
     "name": "stdout",
     "output_type": "stream",
     "text": [
      "total IV of nation is: 0.018277054524970828\n"
     ]
    }
   ],
   "source": [
    "a,b=get_woe_iv(df=train_kj,x='nation',x_type='cate',y='FPD30',style=True,sort=True)"
   ]
  },
  {
   "cell_type": "markdown",
   "metadata": {},
   "source": [
    "### best split test"
   ]
  },
  {
   "cell_type": "code",
   "execution_count": null,
   "metadata": {},
   "outputs": [],
   "source": [
    "bsg = EntropyGiniBinning()"
   ]
  },
  {
   "cell_type": "code",
   "execution_count": null,
   "metadata": {},
   "outputs": [],
   "source": [
    "%%time\n",
    "bsg.split_numeric(data=train_kj, feature='loan_amt', target='FPD30',min_samples_leaf=train_kj.shape[0]*0.05)"
   ]
  },
  {
   "cell_type": "code",
   "execution_count": 3,
   "metadata": {
    "scrolled": false
   },
   "outputs": [
    {
     "ename": "SyntaxError",
     "evalue": "invalid syntax (<ipython-input-3-279a39e15bea>, line 3)",
     "output_type": "error",
     "traceback": [
      "\u001b[1;36m  File \u001b[1;32m\"<ipython-input-3-279a39e15bea>\"\u001b[1;36m, line \u001b[1;32m3\u001b[0m\n\u001b[1;33m    %%time\u001b[0m\n\u001b[1;37m    ^\u001b[0m\n\u001b[1;31mSyntaxError\u001b[0m\u001b[1;31m:\u001b[0m invalid syntax\n"
     ]
    }
   ],
   "source": [
    "%%time\n",
    "get_bestsplit_list(sample_set=train_kj.rename(columns={'FPD30':'target'}),var='loan_amt')"
   ]
  },
  {
   "cell_type": "code",
   "execution_count": 45,
   "metadata": {},
   "outputs": [],
   "source": [
    "bsp = BestSplitGini()\n",
    "\n",
    "bsp.get_bestsplit_list(sample_set=train_kj[['income','FPD30','age','mth_repay_amt']].astype(float).rename(columns={'FPD30':'target'}),var='mth_repay_amt',p=0.05)"
   ]
  },
  {
   "cell_type": "code",
   "execution_count": null,
   "metadata": {},
   "outputs": [],
   "source": []
  },
  {
   "cell_type": "markdown",
   "metadata": {},
   "source": [
    "### tree visualization"
   ]
  },
  {
   "cell_type": "code",
   "execution_count": 112,
   "metadata": {},
   "outputs": [],
   "source": [
    "labe = LabelEncoder()\n",
    "\n",
    "train_kj['education_c'] = labe.fit_transform(train_kj[['education']])"
   ]
  },
  {
   "cell_type": "code",
   "execution_count": 116,
   "metadata": {
    "scrolled": true
   },
   "outputs": [],
   "source": [
    "train_kj['education_c']=train_kj['education_c'].astype('category')"
   ]
  },
  {
   "cell_type": "code",
   "execution_count": 156,
   "metadata": {},
   "outputs": [],
   "source": [
    "dt = tree.DecisionTreeClassifier(criterion='entropy',min_samples_leaf=round(train_kj.shape[0]*0.05))"
   ]
  },
  {
   "cell_type": "code",
   "execution_count": 157,
   "metadata": {
    "scrolled": false
   },
   "outputs": [
    {
     "data": {
      "text/plain": [
       "DecisionTreeClassifier(class_weight=None, criterion='entropy', max_depth=None,\n",
       "            max_features=None, max_leaf_nodes=None,\n",
       "            min_impurity_decrease=0.0, min_impurity_split=None,\n",
       "            min_samples_leaf=826, min_samples_split=2,\n",
       "            min_weight_fraction_leaf=0.0, presort=False, random_state=None,\n",
       "            splitter='best')"
      ]
     },
     "execution_count": 157,
     "metadata": {},
     "output_type": "execute_result"
    }
   ],
   "source": [
    "dt.fit(pd.get_dummies(train_kj[['education']]),train_kj['FPD30'])"
   ]
  },
  {
   "cell_type": "code",
   "execution_count": 9,
   "metadata": {},
   "outputs": [],
   "source": [
    "dt = tree.DecisionTreeClassifier(criterion='entropy',max_depth=3)"
   ]
  },
  {
   "cell_type": "code",
   "execution_count": 13,
   "metadata": {
    "scrolled": true
   },
   "outputs": [
    {
     "data": {
      "text/plain": [
       "DecisionTreeClassifier(class_weight=None, criterion='entropy', max_depth=3,\n",
       "                       max_features=None, max_leaf_nodes=None,\n",
       "                       min_impurity_decrease=0.0, min_impurity_split=None,\n",
       "                       min_samples_leaf=1, min_samples_split=2,\n",
       "                       min_weight_fraction_leaf=0.0, presort=False,\n",
       "                       random_state=None, splitter='best')"
      ]
     },
     "execution_count": 13,
     "metadata": {},
     "output_type": "execute_result"
    }
   ],
   "source": [
    "dt.fit(train_kj[['loan_amt']].as_matrix(),train_kj['FPD30'].values)"
   ]
  },
  {
   "cell_type": "code",
   "execution_count": 22,
   "metadata": {
    "scrolled": true
   },
   "outputs": [],
   "source": [
    "def tree_visualization(dt,x_list):\n",
    "    '''决策树可视化'''\n",
    "    dot_data = tree.export_graphviz(dt, out_file=None, feature_names = x_list, class_names = True, filled = True, rounded = True)\n",
    "    return graphviz.Source(dot_data)"
   ]
  },
  {
   "cell_type": "markdown",
   "metadata": {},
   "source": [
    "### KMeans"
   ]
  },
  {
   "cell_type": "markdown",
   "metadata": {},
   "source": [
    "#### --k "
   ]
  },
  {
   "cell_type": "code",
   "execution_count": 150,
   "metadata": {},
   "outputs": [],
   "source": [
    "def kmeans_k_confirm(x_array,k_range=range(1,9)):\n",
    "    inertias = []\n",
    "    clusters = {}\n",
    "    for k in k_range:\n",
    "        kms = KMeans(n_clusters=k).fit(x_array)\n",
    "        inertias.append(kms.inertia_)\n",
    "        clusters[k] = kms.predict(x_array)\n",
    "    plt.plot([i for i in k_range],inertias,'ro-')\n",
    "    plt.ylabel('Inertia')\n",
    "    plt.xlabel('K')\n",
    "    plt.title('KMeans Inertia Decrease')\n",
    "    return inertias, clusters"
   ]
  },
  {
   "cell_type": "code",
   "execution_count": 151,
   "metadata": {
    "scrolled": true
   },
   "outputs": [
    {
     "data": {
      "image/png": "[encoded data removed]",
      "text/plain": [
       "<Figure size 432x288 with 1 Axes>"
      ]
     },
     "metadata": {},
     "output_type": "display_data"
    }
   ],
   "source": [
    "inertias_t,clusters = kmeans_k_confirm(x_array=iris_x)"
   ]
  },
  {
   "cell_type": "code",
   "execution_count": 181,
   "metadata": {},
   "outputs": [
    {
     "data": {
      "text/plain": [
       "[681.3706,\n",
       " 152.34795176035792,\n",
       " 78.85144142614601,\n",
       " 57.228473214285714,\n",
       " 46.44618205128205,\n",
       " 39.23730158730159,\n",
       " 34.29822966507177,\n",
       " 29.990426406926414]"
      ]
     },
     "execution_count": 181,
     "metadata": {},
     "output_type": "execute_result"
    }
   ],
   "source": [
    "inertias_t"
   ]
  },
  {
   "cell_type": "code",
   "execution_count": 154,
   "metadata": {},
   "outputs": [],
   "source": [
    "def kmeans_k_scatter(clusters):\n",
    "    palette=['r','b','g','y','black','orange','violet','brown']\n",
    "    pca_results = PCA(n_components=2).fit_transform(iris_x)\n",
    "    plt.figure(figsize=(20,8))\n",
    "    n=1\n",
    "    for k, hue in clusters.items():\n",
    "        plt.subplot(2,4,n)\n",
    "        g = sns.scatterplot(x=pca_results[:,0], y=pca_results[:,1], hue=hue, palette=palette[:k], legend=False)\n",
    "        g.set_title('K=%s'%k)\n",
    "        n+=1"
   ]
  },
  {
   "cell_type": "code",
   "execution_count": 156,
   "metadata": {},
   "outputs": [
    {
     "data": {
      "image/png": "[encoded data removed]",
      "text/plain": [
       "<Figure size 1440x576 with 8 Axes>"
      ]
     },
     "metadata": {},
     "output_type": "display_data"
    }
   ],
   "source": [
    "kmeans_k_scatter(clusters=clusters)"
   ]
  },
  {
   "cell_type": "markdown",
   "metadata": {},
   "source": [
    "#### --Initial center"
   ]
  },
  {
   "cell_type": "code",
   "execution_count": 193,
   "metadata": {
    "scrolled": true
   },
   "outputs": [],
   "source": [
    "init_points = initCentroids(dataSet=iris_x,k=3)"
   ]
  },
  {
   "cell_type": "code",
   "execution_count": 197,
   "metadata": {},
   "outputs": [
    {
     "data": {
      "text/plain": [
       "array([[4.4, 3.2, 1.3, 0.2],\n",
       "       [7.7, 2.6, 6.9, 2.3],\n",
       "       [4.9, 2.5, 4.5, 1.7]])"
      ]
     },
     "execution_count": 197,
     "metadata": {},
     "output_type": "execute_result"
    }
   ],
   "source": [
    "init_points"
   ]
  },
  {
   "cell_type": "code",
   "execution_count": 186,
   "metadata": {},
   "outputs": [],
   "source": [
    "kmms = KMeans(n_clusters=3,init=init_points)"
   ]
  },
  {
   "cell_type": "code",
   "execution_count": 187,
   "metadata": {},
   "outputs": [
    {
     "data": {
      "text/plain": [
       "KMeans(algorithm='auto', copy_x=True,\n",
       "       init=array([[5. , 3.5, 1.3, 0.3],\n",
       "       [7.7, 2.6, 6.9, 2.3],\n",
       "       [4.9, 2.5, 4.5, 1.7]]),\n",
       "       max_iter=300, n_clusters=3, n_init=10, n_jobs=None,\n",
       "       precompute_distances='auto', random_state=None, tol=0.0001, verbose=0)"
      ]
     },
     "execution_count": 187,
     "metadata": {},
     "output_type": "execute_result"
    }
   ],
   "source": [
    "kmms.fit(iris_x)"
   ]
  },
  {
   "cell_type": "code",
   "execution_count": 171,
   "metadata": {},
   "outputs": [],
   "source": [
    "#初始聚类中心改进算法\n",
    "# from numpy import *\n",
    "# calculate Euclidean distance\n",
    "def euclDistance(vector1, vector2):\n",
    "    return np.sqrt(sum(np.power(vector2 - vector1, 2)))#平方，求和，开方\n",
    " \n",
    "# init centroids with random samples 随机初始质心\n",
    "def initCentroids(dataSet, k):\n",
    "    numSamples, dim = dataSet.shape#求行列数\n",
    "    centroids = np.zeros((k, dim))#创建空矩阵，放初始点\n",
    "    #第一个点\n",
    "    index = int(np.random.uniform(0, numSamples))\n",
    "    centroids[0, :] = dataSet[index, :]\n",
    "    #第二个点\n",
    "    A1=np.mat(np.zeros((numSamples, 1)))\n",
    "    for i in range(numSamples):\n",
    "        distance = euclDistance(centroids[0, :], dataSet[i, :])\n",
    "        A1[i] = distance\n",
    "    centroids[1, :]= dataSet[np.nonzero(A1[:, 0] == max(A1))[0]]\n",
    "    \n",
    "    #第三个点及以后，\n",
    "    #然后再选择距离前两个点的最短距离最大的那个点作为第三个初始类簇的中心点，\n",
    "    j = 1\n",
    "    while j<=k-2:\n",
    "        mi = np.mat(np.zeros((numSamples, 1)))\n",
    "        for i in range(numSamples):\n",
    "            distance1 = euclDistance(centroids[j-1, :], dataSet[i-1, :])\n",
    "            distance2 = euclDistance(centroids[j, :], dataSet[i-1, :])\n",
    "            mi[i-1] = min([distance1,distance2])\n",
    "        centroids[1+j, :]= dataSet[np.nonzero(mi[:, 0] == max(mi))[0]]\n",
    "        j=j+1\n",
    "    return centroids\n",
    " \n",
    "# k-means cluster\n",
    "def kmeans(dataSet, k):\n",
    "    numSamples = dataSet.shape[0]#行数\n",
    "    # first column stores which cluster this sample belongs to,\n",
    "    # second column stores the error between this sample and its centroid\n",
    "    clusterAssment = np.mat(np.zeros((numSamples, 2)))\n",
    "    clusterChanged = True\n",
    " \n",
    "    ## step 1: init centroids\n",
    "    centroids = initCentroids(dataSet, k)#调用初始化质心函数\n",
    " \n",
    "    while clusterChanged:\n",
    "        clusterChanged = False\n",
    "        ## for each sample\n",
    "        for i in range(numSamples):\n",
    "            minDist  = 100000.0\n",
    "            minIndex = 0\n",
    "            ## for each centroid\n",
    "            ## step 2: find the centroid who is closest\n",
    "            for j in range(k):\n",
    "                distance = euclDistance(centroids[j, :], dataSet[i, :])#调用前面的函数\n",
    "                if distance < minDist:\n",
    "                    minDist  = distance\n",
    "                    minIndex = j\n",
    "                    \n",
    "            ## step 3: update its cluster\n",
    "            if clusterAssment[i, 0] != minIndex:\n",
    "                clusterChanged = True\n",
    "                clusterAssment[i, :] = minIndex, minDist**2\n",
    " \n",
    "        ## step 4: update centroids\n",
    "        for j in range(k):\n",
    "            #找出每一类的点\n",
    "            pointsInCluster = dataSet[np.nonzero(clusterAssment[:, 0].A == j)[0]]\n",
    "            #clusterAssment[:, 0].A == j测试所有数据的类相同为true不同为false\n",
    "            #np.nonzero()[0]把所有为true的位置写出来\n",
    "            #pointsInCluster = dataSet[np.nonzero(clusterAssment[:, 0] == j)[0]]  .A的作用目前不清楚，不加也一样\n",
    "            #求每一类的中心店\n",
    "            centroids[j, :] = mean(pointsInCluster, axis = 0)\n",
    "            \n",
    "    print('Congratulations, cluster complete!')\n",
    "    return centroids, clusterAssment\n",
    " \n",
    "# show your cluster only available with 3-D data\n",
    "def showCluster(dataSet, k, centroids, clusterAssment):\n",
    "    numSamples, dim = dataSet.shape\n",
    "    if dim > 3:\n",
    "        print(\"Sorry! I can not draw because the dimension of your data is not 3!\")\n",
    "        return 1\n",
    " \n",
    "    mark = ['r', 'g', 'b', 'y', 'm', 'k']\n",
    "    if k > len(mark):\n",
    "        print(\"Sorry! Your k is too large! please contact Zouxy\")\n",
    "        return 1\n",
    "    \n",
    "    fig = plt.figure()\n",
    "    ax = plt.subplot(111, projection='3d')\n",
    "    \n",
    "    # draw all samples\n",
    "    for i in range(numSamples):\n",
    "        markIndex = int(clusterAssment[i, 0])\n",
    "        ax.scatter(dataSet[i, 0], dataSet[i, 1], dataSet[i, 2], c=mark[markIndex], s=10)\n",
    "   \n",
    "    mark = ['r', 'b', 'g', 'k', 'm', 'y']\n",
    "    # draw the centroids\n",
    "    for i in range(k):\n",
    "        ax.scatter(centroids[i, 0], centroids[i, 1], dataSet[i, 2], c=mark[3],s=100)\n",
    "        #plt.plot(centroids[i, 0], centroids[i, 1], mark[i], markersize = 12)"
   ]
  },
  {
   "cell_type": "markdown",
   "metadata": {},
   "source": [
    "### feature importance"
   ]
  },
  {
   "cell_type": "code",
   "execution_count": 359,
   "metadata": {},
   "outputs": [],
   "source": [
    "def feature_importance_ensemble(x_array,y_array,xName_list,n_estimators=100, max_depth=3,figsize=(22,8)):\n",
    "    xgbc = xgboost.XGBClassifier(n_estimators=n_estimators, max_depth=max_depth)\n",
    "    lgbc = lightgbm.LGBMClassifier(n_estimators=n_estimators, max_depth=max_depth)\n",
    "    rfc = ensemble.RandomForestClassifier(n_estimators=n_estimators, max_depth=max_depth)\n",
    "    xgbc.fit(X=x_array,y=y_array)\n",
    "    lgbc.fit(X=x_array,y=y_array)\n",
    "    rfc.fit(X=x_array,y=y_array)\n",
    "    xgbc_imp = pd.Series(xgbc.feature_importances_,index=xName_list,name='importance_xgbc')\n",
    "    lgbc_imp = pd.Series(lgbc.feature_importances_,index=xName_list,name='importance_lgbc')\n",
    "    rfc_imp = pd.Series(rfc.feature_importances_,index=xName_list,name='importance_rfc')\n",
    "    imp_df=pd.concat([xgbc_imp,lgbc_imp,rfc_imp],axis=1)\n",
    "    for i in ['importance_xgbc','importance_lgbc','importance_rfc']:\n",
    "         imp_df['rank_'+i.split('_')[1]] = imp_df[i].rank(ascending=False)\n",
    "    imp_df['rank_Total'] = imp_df[['rank_xgbc','rank_lgbc','rank_rfc']].sum(axis=1).rank()\n",
    "    imp_df = imp_df.sort_values('rank_Total')\n",
    "    # 重要性图\n",
    "    plt.figure(figsize=figsize)\n",
    "    n=1\n",
    "    for i in ['importance_xgbc','importance_lgbc','importance_rfc']:\n",
    "        plt.subplot(1,3,n)\n",
    "        g = sns.barplot(y=imp_df.index, x=imp_df[i].values)\n",
    "        g.set_title(i)\n",
    "        if n==1:\n",
    "            g.set_ylabel('Total Importances Ranking')\n",
    "        n+=1\n",
    "    return imp_df"
   ]
  },
  {
   "cell_type": "code",
   "execution_count": 360,
   "metadata": {
    "scrolled": true
   },
   "outputs": [
    {
     "data": {
      "image/png": "[encoded data removed]",
      "text/plain": [
       "<Figure size 1584x576 with 3 Axes>"
      ]
     },
     "metadata": {},
     "output_type": "display_data"
    }
   ],
   "source": [
    "imp_t = feature_importance_ensemble(breast_x,breast_y,breast_feature_names)"
   ]
  },
  {
   "cell_type": "code",
   "execution_count": null,
   "metadata": {},
   "outputs": [],
   "source": []
  },
  {
   "cell_type": "markdown",
   "metadata": {},
   "source": [
    "### KFold and StratifiedKFold"
   ]
  },
  {
   "cell_type": "code",
   "execution_count": 309,
   "metadata": {},
   "outputs": [],
   "source": [
    "xgbc = xgboost.XGBClassifier(n_estimators=100, max_depth=3)\n",
    "lgbc = lightgbm.LGBMClassifier(n_estimators=100, max_depth=3)\n",
    "rfc = ensemble.RandomForestClassifier(n_estimators=400, max_depth=6)"
   ]
  },
  {
   "cell_type": "code",
   "execution_count": 206,
   "metadata": {},
   "outputs": [],
   "source": [
    "kf = model_selection.KFold(n_splits=5,shuffle=True,random_state=None)\n",
    "\n",
    "skf = model_selection.StratifiedKFold(n_splits=5,shuffle=True,random_state=4)"
   ]
  },
  {
   "cell_type": "code",
   "execution_count": 430,
   "metadata": {},
   "outputs": [],
   "source": [
    "def model_init(reDefine_clf = {},used_clf=[]):\n",
    "    clfs = {'xgb':xgboost.XGBClassifier(n_estimators=100, max_depth=3),\n",
    "            'lgb':lightgbm.LGBMClassifier(n_estimators=100, max_depth=3),\n",
    "            'gbdt':ensemble.GradientBoostingClassifier(n_estimators=100, max_depth=3),\n",
    "            'rf':ensemble.RandomForestClassifier(n_estimators=200, max_depth=6),\n",
    "            'logit':linear_model.LogisticRegression(),\n",
    "            'svc':svm.SVC(probability=True),\n",
    "            'adbt':ensemble.AdaBoostClassifier(base_estimator=tree.DecisionTreeClassifier(max_depth=3)),\n",
    "            'bagg':ensemble.BaggingClassifier(n_estimators=100),\n",
    "            'ext':ensemble.ExtraTreesClassifier(n_estimators=100,max_depth=3),\n",
    "            #   'perceptron':linear_model.Perceptron(),\n",
    "            'dt':tree.DecisionTreeClassifier(),\n",
    "            'knn':neighbors.KNeighborsClassifier(),\n",
    "            'network':neural_network.MLPClassifier()}\n",
    "    clfs.update(reDefine_clf) if reDefine_clf else clfs\n",
    "    if used_clf:\n",
    "        return dict((key, value) for key, value in clfs.items() if key in used_clf)\n",
    "    else:\n",
    "        return clfs"
   ]
  },
  {
   "cell_type": "code",
   "execution_count": 423,
   "metadata": {},
   "outputs": [],
   "source": [
    "xgb = xgboost.XGBClassifier(n_estimators=400, max_depth=2)"
   ]
  },
  {
   "cell_type": "code",
   "execution_count": 389,
   "metadata": {},
   "outputs": [],
   "source": [
    "dt = tree.DecisionTreeClassifier(max_depth=9,min_samples_leaf=4)"
   ]
  },
  {
   "cell_type": "code",
   "execution_count": null,
   "metadata": {},
   "outputs": [],
   "source": []
  },
  {
   "cell_type": "code",
   "execution_count": 428,
   "metadata": {},
   "outputs": [
    {
     "name": "stdout",
     "output_type": "stream",
     "text": [
      "Wall time: 0 ns\n"
     ]
    }
   ],
   "source": [
    "%%time\n",
    "clf_list = model_init(redefine_clf={'dt':dt,'xgb':xgb})"
   ]
  },
  {
   "cell_type": "code",
   "execution_count": 403,
   "metadata": {},
   "outputs": [
    {
     "name": "stdout",
     "output_type": "stream",
     "text": [
      "Wall time: 701 ms\n"
     ]
    }
   ],
   "source": [
    "%%time\n",
    "auc_df = model_choose(clf_list,train_back=True)"
   ]
  },
  {
   "cell_type": "code",
   "execution_count": 404,
   "metadata": {},
   "outputs": [
    {
     "data": {
      "text/html": [
       "<div>\n",
       "<style scoped>\n",
       "    .dataframe tbody tr th:only-of-type {\n",
       "        vertical-align: middle;\n",
       "    }\n",
       "\n",
       "    .dataframe tbody tr th {\n",
       "        vertical-align: top;\n",
       "    }\n",
       "\n",
       "    .dataframe thead th {\n",
       "        text-align: right;\n",
       "    }\n",
       "</style>\n",
       "<table border=\"1\" class=\"dataframe\">\n",
       "  <thead>\n",
       "    <tr style=\"text-align: right;\">\n",
       "      <th></th>\n",
       "      <th>train_mean</th>\n",
       "      <th>test_mean</th>\n",
       "      <th>auc_diff</th>\n",
       "      <th>train_std</th>\n",
       "      <th>test_std</th>\n",
       "    </tr>\n",
       "  </thead>\n",
       "  <tbody>\n",
       "    <tr>\n",
       "      <th>xgb</th>\n",
       "      <td>1.000000</td>\n",
       "      <td>0.993511</td>\n",
       "      <td>0.006489</td>\n",
       "      <td>0.000000</td>\n",
       "      <td>0.005539</td>\n",
       "    </tr>\n",
       "    <tr>\n",
       "      <th>lgb</th>\n",
       "      <td>1.000000</td>\n",
       "      <td>0.993308</td>\n",
       "      <td>0.006692</td>\n",
       "      <td>0.000000</td>\n",
       "      <td>0.004849</td>\n",
       "    </tr>\n",
       "    <tr>\n",
       "      <th>dt</th>\n",
       "      <td>0.998874</td>\n",
       "      <td>0.952490</td>\n",
       "      <td>0.046384</td>\n",
       "      <td>0.000238</td>\n",
       "      <td>0.019178</td>\n",
       "    </tr>\n",
       "  </tbody>\n",
       "</table>\n",
       "</div>"
      ],
      "text/plain": [
       "     train_mean  test_mean  auc_diff  train_std  test_std\n",
       "xgb    1.000000   0.993511  0.006489   0.000000  0.005539\n",
       "lgb    1.000000   0.993308  0.006692   0.000000  0.004849\n",
       "dt     0.998874   0.952490  0.046384   0.000238  0.019178"
      ]
     },
     "execution_count": 404,
     "metadata": {},
     "output_type": "execute_result"
    }
   ],
   "source": [
    "auc_df"
   ]
  },
  {
   "cell_type": "code",
   "execution_count": 431,
   "metadata": {
    "scrolled": true
   },
   "outputs": [],
   "source": [
    "def model_choose(clfs,contain_train=True):\n",
    "    auc_df = pd.DataFrame()\n",
    "    for clf_name,clf in clfs.items():\n",
    "        if train_back:\n",
    "            train_auc,test_auc=[],[]\n",
    "            for train_index, test_index in skf.split(X=breast_x, y=breast_y):\n",
    "                trainX,trainY,testX,testY = breast_x[train_index],breast_y[train_index],breast_x[test_index],breast_y[test_index]\n",
    "                clf.fit(X=trainX,y=trainY)\n",
    "                train_prob = clf.predict_proba(trainX)[:,1]\n",
    "                test_prob = clf.predict_proba(testX)[:,1]\n",
    "                train_auc.append(metrics.roc_auc_score(trainY,train_prob))\n",
    "                test_auc.append(metrics.roc_auc_score(testY,test_prob))\n",
    "            auc_df.loc[clf_name,'train_mean'] = np.array(train_auc).mean()\n",
    "            auc_df.loc[clf_name,'test_mean'] = np.array(test_auc).mean()\n",
    "            auc_df.loc[clf_name,'auc_diff'] = auc_df.loc[clf_name,'train_mean'] - auc_df.loc[clf_name,'test_mean']\n",
    "            auc_df.loc[clf_name,'train_std'] = np.array(train_auc).std()\n",
    "            auc_df.loc[clf_name,'test_std'] = np.array(test_auc).std()\n",
    "        else:\n",
    "            scores = model_selection.cross_val_score(estimator=clf,X=breast_x,y=breast_y,cv=skf.split(X=breast_x, y=breast_y),scoring='roc_auc',n_jobs=-1)\n",
    "            auc_df.loc[clf_name,'test_mean'] = scores.mean()\n",
    "            auc_df.loc[clf_name,'test_std'] = scores.std()\n",
    "    return auc_df"
   ]
  },
  {
   "cell_type": "code",
   "execution_count": 9,
   "metadata": {},
   "outputs": [],
   "source": [
    "class ModelChoose():\n",
    "    def __init__(self):\n",
    "        pass\n",
    "    def model_init(self,reDefine_clf = {},used_clf=[]):\n",
    "        clfs = {'xgb':xgboost.XGBClassifier(n_estimators=100, max_depth=3),\n",
    "                'lgb':lightgbm.LGBMClassifier(n_estimators=100, max_depth=3),\n",
    "                'gbdt':ensemble.GradientBoostingClassifier(n_estimators=100, max_depth=3),\n",
    "                'rf':ensemble.RandomForestClassifier(n_estimators=200, max_depth=6),\n",
    "                'logit':linear_model.LogisticRegression(),\n",
    "                'svc':svm.SVC(probability=True),\n",
    "                'adbt':ensemble.AdaBoostClassifier(base_estimator=tree.DecisionTreeClassifier(max_depth=3)),\n",
    "                'bagg':ensemble.BaggingClassifier(n_estimators=100),\n",
    "                'ext':ensemble.ExtraTreesClassifier(n_estimators=100,max_depth=3),\n",
    "                #   'perceptron':linear_model.Perceptron(),\n",
    "                'dt':tree.DecisionTreeClassifier(),\n",
    "                'knn':neighbors.KNeighborsClassifier(),\n",
    "                'network':neural_network.MLPClassifier()}\n",
    "        clfs.update(reDefine_clf) if reDefine_clf else clfs\n",
    "        if used_clf:\n",
    "            return dict((key, value) for key, value in clfs.items() if key in used_clf)\n",
    "        else:\n",
    "            return clfs\n",
    "    def model_auc(self,clfs,X_array,y_array,contain_train=True,Stratified=True,n_splits=5):\n",
    "        if Stratified:\n",
    "            KF = model_selection.StratifiedKFold(n_splits=n_splits,shuffle=True,random_state=6)\n",
    "        else:\n",
    "            KF = model_selection.KFold(n_splits=n_splits,shuffle=True,random_state=8)\n",
    "        auc_dfs = pd.DataFrame()\n",
    "        for clf_name,clf in clfs.items():\n",
    "            if contain_train:\n",
    "                train_auc,test_auc=[],[]\n",
    "                for train_index, test_index in KF.split(X=X_array, y=y_array):\n",
    "                    trainX,trainY,testX,testY = X_array[train_index],y_array[train_index],X_array[test_index],y_array[test_index]\n",
    "                    clf.fit(X=trainX,y=trainY)\n",
    "                    train_prob = clf.predict_proba(trainX)[:,1]\n",
    "                    test_prob = clf.predict_proba(testX)[:,1]\n",
    "                    train_auc.append(metrics.roc_auc_score(trainY,train_prob))\n",
    "                    test_auc.append(metrics.roc_auc_score(testY,test_prob))\n",
    "                auc_dfs.loc[clf_name,'train_mean'] = np.array(train_auc).mean()\n",
    "                auc_dfs.loc[clf_name,'test_mean'] = np.array(test_auc).mean()\n",
    "                auc_dfs.loc[clf_name,'auc_diff'] = auc_dfs.loc[clf_name,'train_mean'] - auc_dfs.loc[clf_name,'test_mean']\n",
    "                auc_dfs.loc[clf_name,'train_std'] = np.array(train_auc).std()\n",
    "                auc_dfs.loc[clf_name,'test_std'] = np.array(test_auc).std()\n",
    "            else:\n",
    "                scores = model_selection.cross_val_score(estimator=clf,X=X_array,y=y_array,cv=KF.split(X=X_array, y=y_array),scoring='roc_auc',n_jobs=-1)\n",
    "                auc_dfs.loc[clf_name,'test_mean'] = scores.mean()\n",
    "                auc_dfs.loc[clf_name,'test_std'] = scores.std()\n",
    "        return auc_dfs"
   ]
  },
  {
   "cell_type": "code",
   "execution_count": 10,
   "metadata": {},
   "outputs": [],
   "source": [
    "mc = ModelChoose()"
   ]
  },
  {
   "cell_type": "code",
   "execution_count": 11,
   "metadata": {},
   "outputs": [],
   "source": [
    "clfs = mc.model_init()"
   ]
  },
  {
   "cell_type": "code",
   "execution_count": null,
   "metadata": {},
   "outputs": [],
   "source": [
    "clfs = mc.model_init(reDefine_clf={'svc':})"
   ]
  },
  {
   "cell_type": "code",
   "execution_count": 13,
   "metadata": {
    "scrolled": true
   },
   "outputs": [
    {
     "name": "stdout",
     "output_type": "stream",
     "text": [
      "Wall time: 7.61 s\n"
     ]
    }
   ],
   "source": [
    "%%time\n",
    "auc_df = mc.model_auc(clfs=clfs,X_array=breast_x,y_array=breast_y)"
   ]
  },
  {
   "cell_type": "code",
   "execution_count": 20,
   "metadata": {},
   "outputs": [
    {
     "data": {
      "text/html": [
       "<style  type=\"text/css\" >\n",
       "    #T_1e9cc5a2_bfc5_11e9_853a_1c1b0dc3c219row0_col0 {\n",
       "            width:  10em;\n",
       "             height:  80%;\n",
       "            background:  linear-gradient(90deg,#d65f5f 100.0%, transparent 0%);\n",
       "        }    #T_1e9cc5a2_bfc5_11e9_853a_1c1b0dc3c219row0_col1 {\n",
       "            width:  10em;\n",
       "             height:  80%;\n",
       "            background:  linear-gradient(90deg,#d65f5f 98.3%, transparent 0%);\n",
       "        }    #T_1e9cc5a2_bfc5_11e9_853a_1c1b0dc3c219row0_col2 {\n",
       "            width:  10em;\n",
       "             height:  80%;\n",
       "            background:  linear-gradient(90deg,#d65f5f 4.9%, transparent 0%);\n",
       "        }    #T_1e9cc5a2_bfc5_11e9_853a_1c1b0dc3c219row0_col3 {\n",
       "            width:  10em;\n",
       "             height:  80%;\n",
       "        }    #T_1e9cc5a2_bfc5_11e9_853a_1c1b0dc3c219row0_col4 {\n",
       "            width:  10em;\n",
       "             height:  80%;\n",
       "        }    #T_1e9cc5a2_bfc5_11e9_853a_1c1b0dc3c219row1_col0 {\n",
       "            width:  10em;\n",
       "             height:  80%;\n",
       "            background:  linear-gradient(90deg,#d65f5f 100.0%, transparent 0%);\n",
       "        }    #T_1e9cc5a2_bfc5_11e9_853a_1c1b0dc3c219row1_col1 {\n",
       "            width:  10em;\n",
       "             height:  80%;\n",
       "            background:  linear-gradient(90deg,#d65f5f 100.0%, transparent 0%);\n",
       "        }    #T_1e9cc5a2_bfc5_11e9_853a_1c1b0dc3c219row1_col2 {\n",
       "            width:  10em;\n",
       "             height:  80%;\n",
       "            background:  linear-gradient(90deg,#d65f5f 3.2%, transparent 0%);\n",
       "        }    #T_1e9cc5a2_bfc5_11e9_853a_1c1b0dc3c219row1_col3 {\n",
       "            width:  10em;\n",
       "             height:  80%;\n",
       "        }    #T_1e9cc5a2_bfc5_11e9_853a_1c1b0dc3c219row1_col4 {\n",
       "            width:  10em;\n",
       "             height:  80%;\n",
       "            background:  linear-gradient(90deg,#d65f5f 2.3%, transparent 0%);\n",
       "        }    #T_1e9cc5a2_bfc5_11e9_853a_1c1b0dc3c219row2_col0 {\n",
       "            width:  10em;\n",
       "             height:  80%;\n",
       "            background:  linear-gradient(90deg,#d65f5f 100.0%, transparent 0%);\n",
       "        }    #T_1e9cc5a2_bfc5_11e9_853a_1c1b0dc3c219row2_col1 {\n",
       "            width:  10em;\n",
       "             height:  80%;\n",
       "            background:  linear-gradient(90deg,#d65f5f 96.9%, transparent 0%);\n",
       "        }    #T_1e9cc5a2_bfc5_11e9_853a_1c1b0dc3c219row2_col2 {\n",
       "            width:  10em;\n",
       "             height:  80%;\n",
       "            background:  linear-gradient(90deg,#d65f5f 6.2%, transparent 0%);\n",
       "        }    #T_1e9cc5a2_bfc5_11e9_853a_1c1b0dc3c219row2_col3 {\n",
       "            width:  10em;\n",
       "             height:  80%;\n",
       "            background:  linear-gradient(90deg,#d65f5f 0.0%, transparent 0%);\n",
       "        }    #T_1e9cc5a2_bfc5_11e9_853a_1c1b0dc3c219row2_col4 {\n",
       "            width:  10em;\n",
       "             height:  80%;\n",
       "            background:  linear-gradient(90deg,#d65f5f 5.4%, transparent 0%);\n",
       "        }    #T_1e9cc5a2_bfc5_11e9_853a_1c1b0dc3c219row3_col0 {\n",
       "            width:  10em;\n",
       "             height:  80%;\n",
       "            background:  linear-gradient(90deg,#d65f5f 100.0%, transparent 0%);\n",
       "        }    #T_1e9cc5a2_bfc5_11e9_853a_1c1b0dc3c219row3_col1 {\n",
       "            width:  10em;\n",
       "             height:  80%;\n",
       "            background:  linear-gradient(90deg,#d65f5f 94.2%, transparent 0%);\n",
       "        }    #T_1e9cc5a2_bfc5_11e9_853a_1c1b0dc3c219row3_col2 {\n",
       "            width:  10em;\n",
       "             height:  80%;\n",
       "            background:  linear-gradient(90deg,#d65f5f 8.9%, transparent 0%);\n",
       "        }    #T_1e9cc5a2_bfc5_11e9_853a_1c1b0dc3c219row3_col3 {\n",
       "            width:  10em;\n",
       "             height:  80%;\n",
       "            background:  linear-gradient(90deg,#d65f5f 0.1%, transparent 0%);\n",
       "        }    #T_1e9cc5a2_bfc5_11e9_853a_1c1b0dc3c219row3_col4 {\n",
       "            width:  10em;\n",
       "             height:  80%;\n",
       "            background:  linear-gradient(90deg,#d65f5f 4.8%, transparent 0%);\n",
       "        }    #T_1e9cc5a2_bfc5_11e9_853a_1c1b0dc3c219row4_col0 {\n",
       "            width:  10em;\n",
       "             height:  80%;\n",
       "            background:  linear-gradient(90deg,#d65f5f 79.0%, transparent 0%);\n",
       "        }    #T_1e9cc5a2_bfc5_11e9_853a_1c1b0dc3c219row4_col1 {\n",
       "            width:  10em;\n",
       "             height:  80%;\n",
       "            background:  linear-gradient(90deg,#d65f5f 96.5%, transparent 0%);\n",
       "        }    #T_1e9cc5a2_bfc5_11e9_853a_1c1b0dc3c219row4_col2 {\n",
       "            width:  10em;\n",
       "             height:  80%;\n",
       "        }    #T_1e9cc5a2_bfc5_11e9_853a_1c1b0dc3c219row4_col3 {\n",
       "            width:  10em;\n",
       "             height:  80%;\n",
       "            background:  linear-gradient(90deg,#d65f5f 5.5%, transparent 0%);\n",
       "        }    #T_1e9cc5a2_bfc5_11e9_853a_1c1b0dc3c219row4_col4 {\n",
       "            width:  10em;\n",
       "             height:  80%;\n",
       "            background:  linear-gradient(90deg,#d65f5f 3.3%, transparent 0%);\n",
       "        }    #T_1e9cc5a2_bfc5_11e9_853a_1c1b0dc3c219row5_col0 {\n",
       "            width:  10em;\n",
       "             height:  80%;\n",
       "            background:  linear-gradient(90deg,#d65f5f 100.0%, transparent 0%);\n",
       "        }    #T_1e9cc5a2_bfc5_11e9_853a_1c1b0dc3c219row5_col1 {\n",
       "            width:  10em;\n",
       "             height:  80%;\n",
       "            background:  linear-gradient(90deg,#d65f5f 25.1%, transparent 0%);\n",
       "        }    #T_1e9cc5a2_bfc5_11e9_853a_1c1b0dc3c219row5_col2 {\n",
       "            width:  10em;\n",
       "             height:  80%;\n",
       "            background:  linear-gradient(90deg,#d65f5f 75.7%, transparent 0%);\n",
       "        }    #T_1e9cc5a2_bfc5_11e9_853a_1c1b0dc3c219row5_col3 {\n",
       "            width:  10em;\n",
       "             height:  80%;\n",
       "        }    #T_1e9cc5a2_bfc5_11e9_853a_1c1b0dc3c219row5_col4 {\n",
       "            width:  10em;\n",
       "             height:  80%;\n",
       "            background:  linear-gradient(90deg,#d65f5f 48.8%, transparent 0%);\n",
       "        }    #T_1e9cc5a2_bfc5_11e9_853a_1c1b0dc3c219row6_col0 {\n",
       "            width:  10em;\n",
       "             height:  80%;\n",
       "            background:  linear-gradient(90deg,#d65f5f 100.0%, transparent 0%);\n",
       "        }    #T_1e9cc5a2_bfc5_11e9_853a_1c1b0dc3c219row6_col1 {\n",
       "            width:  10em;\n",
       "             height:  80%;\n",
       "            background:  linear-gradient(90deg,#d65f5f 99.6%, transparent 0%);\n",
       "        }    #T_1e9cc5a2_bfc5_11e9_853a_1c1b0dc3c219row6_col2 {\n",
       "            width:  10em;\n",
       "             height:  80%;\n",
       "            background:  linear-gradient(90deg,#d65f5f 3.6%, transparent 0%);\n",
       "        }    #T_1e9cc5a2_bfc5_11e9_853a_1c1b0dc3c219row6_col3 {\n",
       "            width:  10em;\n",
       "             height:  80%;\n",
       "        }    #T_1e9cc5a2_bfc5_11e9_853a_1c1b0dc3c219row6_col4 {\n",
       "            width:  10em;\n",
       "             height:  80%;\n",
       "            background:  linear-gradient(90deg,#d65f5f 1.7%, transparent 0%);\n",
       "        }    #T_1e9cc5a2_bfc5_11e9_853a_1c1b0dc3c219row7_col0 {\n",
       "            width:  10em;\n",
       "             height:  80%;\n",
       "            background:  linear-gradient(90deg,#d65f5f 100.0%, transparent 0%);\n",
       "        }    #T_1e9cc5a2_bfc5_11e9_853a_1c1b0dc3c219row7_col1 {\n",
       "            width:  10em;\n",
       "             height:  80%;\n",
       "            background:  linear-gradient(90deg,#d65f5f 91.3%, transparent 0%);\n",
       "        }    #T_1e9cc5a2_bfc5_11e9_853a_1c1b0dc3c219row7_col2 {\n",
       "            width:  10em;\n",
       "             height:  80%;\n",
       "            background:  linear-gradient(90deg,#d65f5f 11.7%, transparent 0%);\n",
       "        }    #T_1e9cc5a2_bfc5_11e9_853a_1c1b0dc3c219row7_col3 {\n",
       "            width:  10em;\n",
       "             height:  80%;\n",
       "        }    #T_1e9cc5a2_bfc5_11e9_853a_1c1b0dc3c219row7_col4 {\n",
       "            width:  10em;\n",
       "             height:  80%;\n",
       "            background:  linear-gradient(90deg,#d65f5f 9.7%, transparent 0%);\n",
       "        }    #T_1e9cc5a2_bfc5_11e9_853a_1c1b0dc3c219row8_col0 {\n",
       "            width:  10em;\n",
       "             height:  80%;\n",
       "            background:  linear-gradient(90deg,#d65f5f 69.5%, transparent 0%);\n",
       "        }    #T_1e9cc5a2_bfc5_11e9_853a_1c1b0dc3c219row8_col1 {\n",
       "            width:  10em;\n",
       "             height:  80%;\n",
       "            background:  linear-gradient(90deg,#d65f5f 93.2%, transparent 0%);\n",
       "        }    #T_1e9cc5a2_bfc5_11e9_853a_1c1b0dc3c219row8_col2 {\n",
       "            width:  10em;\n",
       "             height:  80%;\n",
       "            background:  linear-gradient(90deg,#d65f5f 0.2%, transparent 0%);\n",
       "        }    #T_1e9cc5a2_bfc5_11e9_853a_1c1b0dc3c219row8_col3 {\n",
       "            width:  10em;\n",
       "             height:  80%;\n",
       "            background:  linear-gradient(90deg,#d65f5f 7.7%, transparent 0%);\n",
       "        }    #T_1e9cc5a2_bfc5_11e9_853a_1c1b0dc3c219row8_col4 {\n",
       "            width:  10em;\n",
       "             height:  80%;\n",
       "            background:  linear-gradient(90deg,#d65f5f 2.1%, transparent 0%);\n",
       "        }    #T_1e9cc5a2_bfc5_11e9_853a_1c1b0dc3c219row9_col0 {\n",
       "            width:  10em;\n",
       "             height:  80%;\n",
       "            background:  linear-gradient(90deg,#d65f5f 100.0%, transparent 0%);\n",
       "        }    #T_1e9cc5a2_bfc5_11e9_853a_1c1b0dc3c219row9_col1 {\n",
       "            width:  10em;\n",
       "             height:  80%;\n",
       "        }    #T_1e9cc5a2_bfc5_11e9_853a_1c1b0dc3c219row9_col2 {\n",
       "            width:  10em;\n",
       "             height:  80%;\n",
       "            background:  linear-gradient(90deg,#d65f5f 100.0%, transparent 0%);\n",
       "        }    #T_1e9cc5a2_bfc5_11e9_853a_1c1b0dc3c219row9_col3 {\n",
       "            width:  10em;\n",
       "             height:  80%;\n",
       "        }    #T_1e9cc5a2_bfc5_11e9_853a_1c1b0dc3c219row9_col4 {\n",
       "            width:  10em;\n",
       "             height:  80%;\n",
       "            background:  linear-gradient(90deg,#d65f5f 67.6%, transparent 0%);\n",
       "        }    #T_1e9cc5a2_bfc5_11e9_853a_1c1b0dc3c219row10_col0 {\n",
       "            width:  10em;\n",
       "             height:  80%;\n",
       "            background:  linear-gradient(90deg,#d65f5f 66.4%, transparent 0%);\n",
       "        }    #T_1e9cc5a2_bfc5_11e9_853a_1c1b0dc3c219row10_col1 {\n",
       "            width:  10em;\n",
       "             height:  80%;\n",
       "            background:  linear-gradient(90deg,#d65f5f 53.8%, transparent 0%);\n",
       "        }    #T_1e9cc5a2_bfc5_11e9_853a_1c1b0dc3c219row10_col2 {\n",
       "            width:  10em;\n",
       "             height:  80%;\n",
       "            background:  linear-gradient(90deg,#d65f5f 37.4%, transparent 0%);\n",
       "        }    #T_1e9cc5a2_bfc5_11e9_853a_1c1b0dc3c219row10_col3 {\n",
       "            width:  10em;\n",
       "             height:  80%;\n",
       "            background:  linear-gradient(90deg,#d65f5f 3.4%, transparent 0%);\n",
       "        }    #T_1e9cc5a2_bfc5_11e9_853a_1c1b0dc3c219row10_col4 {\n",
       "            width:  10em;\n",
       "             height:  80%;\n",
       "            background:  linear-gradient(90deg,#d65f5f 13.6%, transparent 0%);\n",
       "        }    #T_1e9cc5a2_bfc5_11e9_853a_1c1b0dc3c219row11_col0 {\n",
       "            width:  10em;\n",
       "             height:  80%;\n",
       "        }    #T_1e9cc5a2_bfc5_11e9_853a_1c1b0dc3c219row11_col1 {\n",
       "            width:  10em;\n",
       "             height:  80%;\n",
       "            background:  linear-gradient(90deg,#d65f5f 60.9%, transparent 0%);\n",
       "        }    #T_1e9cc5a2_bfc5_11e9_853a_1c1b0dc3c219row11_col2 {\n",
       "            width:  10em;\n",
       "             height:  80%;\n",
       "            background:  linear-gradient(90deg,#d65f5f 9.6%, transparent 0%);\n",
       "        }    #T_1e9cc5a2_bfc5_11e9_853a_1c1b0dc3c219row11_col3 {\n",
       "            width:  10em;\n",
       "             height:  80%;\n",
       "            background:  linear-gradient(90deg,#d65f5f 100.0%, transparent 0%);\n",
       "        }    #T_1e9cc5a2_bfc5_11e9_853a_1c1b0dc3c219row11_col4 {\n",
       "            width:  10em;\n",
       "             height:  80%;\n",
       "            background:  linear-gradient(90deg,#d65f5f 100.0%, transparent 0%);\n",
       "        }</style>  \n",
       "<table id=\"T_1e9cc5a2_bfc5_11e9_853a_1c1b0dc3c219\" > \n",
       "<thead>    <tr> \n",
       "        <th class=\"blank level0\" ></th> \n",
       "        <th class=\"col_heading level0 col0\" >train_mean</th> \n",
       "        <th class=\"col_heading level0 col1\" >test_mean</th> \n",
       "        <th class=\"col_heading level0 col2\" >auc_diff</th> \n",
       "        <th class=\"col_heading level0 col3\" >train_std</th> \n",
       "        <th class=\"col_heading level0 col4\" >test_std</th> \n",
       "    </tr></thead> \n",
       "<tbody>    <tr> \n",
       "        <th id=\"T_1e9cc5a2_bfc5_11e9_853a_1c1b0dc3c219level0_row0\" class=\"row_heading level0 row0\" >xgb</th> \n",
       "        <td id=\"T_1e9cc5a2_bfc5_11e9_853a_1c1b0dc3c219row0_col0\" class=\"data row0 col0\" >1</td> \n",
       "        <td id=\"T_1e9cc5a2_bfc5_11e9_853a_1c1b0dc3c219row0_col1\" class=\"data row0 col1\" >0.99218</td> \n",
       "        <td id=\"T_1e9cc5a2_bfc5_11e9_853a_1c1b0dc3c219row0_col2\" class=\"data row0 col2\" >0.00782031</td> \n",
       "        <td id=\"T_1e9cc5a2_bfc5_11e9_853a_1c1b0dc3c219row0_col3\" class=\"data row0 col3\" >0</td> \n",
       "        <td id=\"T_1e9cc5a2_bfc5_11e9_853a_1c1b0dc3c219row0_col4\" class=\"data row0 col4\" >0.00462853</td> \n",
       "    </tr>    <tr> \n",
       "        <th id=\"T_1e9cc5a2_bfc5_11e9_853a_1c1b0dc3c219level0_row1\" class=\"row_heading level0 row1\" >lgb</th> \n",
       "        <td id=\"T_1e9cc5a2_bfc5_11e9_853a_1c1b0dc3c219row1_col0\" class=\"data row1 col0\" >1</td> \n",
       "        <td id=\"T_1e9cc5a2_bfc5_11e9_853a_1c1b0dc3c219row1_col1\" class=\"data row1 col1\" >0.993521</td> \n",
       "        <td id=\"T_1e9cc5a2_bfc5_11e9_853a_1c1b0dc3c219row1_col2\" class=\"data row1 col2\" >0.00647893</td> \n",
       "        <td id=\"T_1e9cc5a2_bfc5_11e9_853a_1c1b0dc3c219row1_col3\" class=\"data row1 col3\" >0</td> \n",
       "        <td id=\"T_1e9cc5a2_bfc5_11e9_853a_1c1b0dc3c219row1_col4\" class=\"data row1 col4\" >0.00540081</td> \n",
       "    </tr>    <tr> \n",
       "        <th id=\"T_1e9cc5a2_bfc5_11e9_853a_1c1b0dc3c219level0_row2\" class=\"row_heading level0 row2\" >gbdt</th> \n",
       "        <td id=\"T_1e9cc5a2_bfc5_11e9_853a_1c1b0dc3c219row2_col0\" class=\"data row2 col0\" >1</td> \n",
       "        <td id=\"T_1e9cc5a2_bfc5_11e9_853a_1c1b0dc3c219row2_col1\" class=\"data row2 col1\" >0.991044</td> \n",
       "        <td id=\"T_1e9cc5a2_bfc5_11e9_853a_1c1b0dc3c219row2_col2\" class=\"data row2 col2\" >0.00895554</td> \n",
       "        <td id=\"T_1e9cc5a2_bfc5_11e9_853a_1c1b0dc3c219row2_col3\" class=\"data row2 col3\" >4.96507e-17</td> \n",
       "        <td id=\"T_1e9cc5a2_bfc5_11e9_853a_1c1b0dc3c219row2_col4\" class=\"data row2 col4\" >0.00648175</td> \n",
       "    </tr>    <tr> \n",
       "        <th id=\"T_1e9cc5a2_bfc5_11e9_853a_1c1b0dc3c219level0_row3\" class=\"row_heading level0 row3\" >rf</th> \n",
       "        <td id=\"T_1e9cc5a2_bfc5_11e9_853a_1c1b0dc3c219row3_col0\" class=\"data row3 col0\" >0.999988</td> \n",
       "        <td id=\"T_1e9cc5a2_bfc5_11e9_853a_1c1b0dc3c219row3_col1\" class=\"data row3 col1\" >0.988896</td> \n",
       "        <td id=\"T_1e9cc5a2_bfc5_11e9_853a_1c1b0dc3c219row3_col2\" class=\"data row3 col2\" >0.0110918</td> \n",
       "        <td id=\"T_1e9cc5a2_bfc5_11e9_853a_1c1b0dc3c219row3_col3\" class=\"data row3 col3\" >2.49144e-05</td> \n",
       "        <td id=\"T_1e9cc5a2_bfc5_11e9_853a_1c1b0dc3c219row3_col4\" class=\"data row3 col4\" >0.00626949</td> \n",
       "    </tr>    <tr> \n",
       "        <th id=\"T_1e9cc5a2_bfc5_11e9_853a_1c1b0dc3c219level0_row4\" class=\"row_heading level0 row4\" >logit</th> \n",
       "        <td id=\"T_1e9cc5a2_bfc5_11e9_853a_1c1b0dc3c219row4_col0\" class=\"data row4 col0\" >0.994598</td> \n",
       "        <td id=\"T_1e9cc5a2_bfc5_11e9_853a_1c1b0dc3c219row4_col1\" class=\"data row4 col1\" >0.990754</td> \n",
       "        <td id=\"T_1e9cc5a2_bfc5_11e9_853a_1c1b0dc3c219row4_col2\" class=\"data row4 col2\" >0.00384452</td> \n",
       "        <td id=\"T_1e9cc5a2_bfc5_11e9_853a_1c1b0dc3c219row4_col3\" class=\"data row4 col3\" >0.00104198</td> \n",
       "        <td id=\"T_1e9cc5a2_bfc5_11e9_853a_1c1b0dc3c219row4_col4\" class=\"data row4 col4\" >0.00575964</td> \n",
       "    </tr>    <tr> \n",
       "        <th id=\"T_1e9cc5a2_bfc5_11e9_853a_1c1b0dc3c219level0_row5\" class=\"row_heading level0 row5\" >svc</th> \n",
       "        <td id=\"T_1e9cc5a2_bfc5_11e9_853a_1c1b0dc3c219row5_col0\" class=\"data row5 col0\" >1</td> \n",
       "        <td id=\"T_1e9cc5a2_bfc5_11e9_853a_1c1b0dc3c219row5_col1\" class=\"data row5 col1\" >0.934162</td> \n",
       "        <td id=\"T_1e9cc5a2_bfc5_11e9_853a_1c1b0dc3c219row5_col2\" class=\"data row5 col2\" >0.0658377</td> \n",
       "        <td id=\"T_1e9cc5a2_bfc5_11e9_853a_1c1b0dc3c219row5_col3\" class=\"data row5 col3\" >0</td> \n",
       "        <td id=\"T_1e9cc5a2_bfc5_11e9_853a_1c1b0dc3c219row5_col4\" class=\"data row5 col4\" >0.0212106</td> \n",
       "    </tr>    <tr> \n",
       "        <th id=\"T_1e9cc5a2_bfc5_11e9_853a_1c1b0dc3c219level0_row6\" class=\"row_heading level0 row6\" >adbt</th> \n",
       "        <td id=\"T_1e9cc5a2_bfc5_11e9_853a_1c1b0dc3c219row6_col0\" class=\"data row6 col0\" >1</td> \n",
       "        <td id=\"T_1e9cc5a2_bfc5_11e9_853a_1c1b0dc3c219row6_col1\" class=\"data row6 col1\" >0.993228</td> \n",
       "        <td id=\"T_1e9cc5a2_bfc5_11e9_853a_1c1b0dc3c219row6_col2\" class=\"data row6 col2\" >0.0067719</td> \n",
       "        <td id=\"T_1e9cc5a2_bfc5_11e9_853a_1c1b0dc3c219row6_col3\" class=\"data row6 col3\" >0</td> \n",
       "        <td id=\"T_1e9cc5a2_bfc5_11e9_853a_1c1b0dc3c219row6_col4\" class=\"data row6 col4\" >0.0052198</td> \n",
       "    </tr>    <tr> \n",
       "        <th id=\"T_1e9cc5a2_bfc5_11e9_853a_1c1b0dc3c219level0_row7\" class=\"row_heading level0 row7\" >bagg</th> \n",
       "        <td id=\"T_1e9cc5a2_bfc5_11e9_853a_1c1b0dc3c219row7_col0\" class=\"data row7 col0\" >1</td> \n",
       "        <td id=\"T_1e9cc5a2_bfc5_11e9_853a_1c1b0dc3c219row7_col1\" class=\"data row7 col1\" >0.986614</td> \n",
       "        <td id=\"T_1e9cc5a2_bfc5_11e9_853a_1c1b0dc3c219row7_col2\" class=\"data row7 col2\" >0.013386</td> \n",
       "        <td id=\"T_1e9cc5a2_bfc5_11e9_853a_1c1b0dc3c219row7_col3\" class=\"data row7 col3\" >0</td> \n",
       "        <td id=\"T_1e9cc5a2_bfc5_11e9_853a_1c1b0dc3c219row7_col4\" class=\"data row7 col4\" >0.00791962</td> \n",
       "    </tr>    <tr> \n",
       "        <th id=\"T_1e9cc5a2_bfc5_11e9_853a_1c1b0dc3c219level0_row8\" class=\"row_heading level0 row8\" >ext</th> \n",
       "        <td id=\"T_1e9cc5a2_bfc5_11e9_853a_1c1b0dc3c219row8_col0\" class=\"data row8 col0\" >0.992152</td> \n",
       "        <td id=\"T_1e9cc5a2_bfc5_11e9_853a_1c1b0dc3c219row8_col1\" class=\"data row8 col1\" >0.988138</td> \n",
       "        <td id=\"T_1e9cc5a2_bfc5_11e9_853a_1c1b0dc3c219row8_col2\" class=\"data row8 col2\" >0.00401366</td> \n",
       "        <td id=\"T_1e9cc5a2_bfc5_11e9_853a_1c1b0dc3c219row8_col3\" class=\"data row8 col3\" >0.00144809</td> \n",
       "        <td id=\"T_1e9cc5a2_bfc5_11e9_853a_1c1b0dc3c219row8_col4\" class=\"data row8 col4\" >0.00533505</td> \n",
       "    </tr>    <tr> \n",
       "        <th id=\"T_1e9cc5a2_bfc5_11e9_853a_1c1b0dc3c219level0_row9\" class=\"row_heading level0 row9\" >dt</th> \n",
       "        <td id=\"T_1e9cc5a2_bfc5_11e9_853a_1c1b0dc3c219row9_col0\" class=\"data row9 col0\" >1</td> \n",
       "        <td id=\"T_1e9cc5a2_bfc5_11e9_853a_1c1b0dc3c219row9_col1\" class=\"data row9 col1\" >0.914279</td> \n",
       "        <td id=\"T_1e9cc5a2_bfc5_11e9_853a_1c1b0dc3c219row9_col2\" class=\"data row9 col2\" >0.0857205</td> \n",
       "        <td id=\"T_1e9cc5a2_bfc5_11e9_853a_1c1b0dc3c219row9_col3\" class=\"data row9 col3\" >0</td> \n",
       "        <td id=\"T_1e9cc5a2_bfc5_11e9_853a_1c1b0dc3c219row9_col4\" class=\"data row9 col4\" >0.0276334</td> \n",
       "    </tr>    <tr> \n",
       "        <th id=\"T_1e9cc5a2_bfc5_11e9_853a_1c1b0dc3c219level0_row10\" class=\"row_heading level0 row10\" >knn</th> \n",
       "        <td id=\"T_1e9cc5a2_bfc5_11e9_853a_1c1b0dc3c219row10_col0\" class=\"data row10 col0\" >0.991362</td> \n",
       "        <td id=\"T_1e9cc5a2_bfc5_11e9_853a_1c1b0dc3c219row10_col1\" class=\"data row10 col1\" >0.95689</td> \n",
       "        <td id=\"T_1e9cc5a2_bfc5_11e9_853a_1c1b0dc3c219row10_col2\" class=\"data row10 col2\" >0.0344714</td> \n",
       "        <td id=\"T_1e9cc5a2_bfc5_11e9_853a_1c1b0dc3c219row10_col3\" class=\"data row10 col3\" >0.000631462</td> \n",
       "        <td id=\"T_1e9cc5a2_bfc5_11e9_853a_1c1b0dc3c219row10_col4\" class=\"data row10 col4\" >0.00924081</td> \n",
       "    </tr>    <tr> \n",
       "        <th id=\"T_1e9cc5a2_bfc5_11e9_853a_1c1b0dc3c219level0_row11\" class=\"row_heading level0 row11\" >network</th> \n",
       "        <td id=\"T_1e9cc5a2_bfc5_11e9_853a_1c1b0dc3c219row11_col0\" class=\"data row11 col0\" >0.974266</td> \n",
       "        <td id=\"T_1e9cc5a2_bfc5_11e9_853a_1c1b0dc3c219row11_col1\" class=\"data row11 col1\" >0.962562</td> \n",
       "        <td id=\"T_1e9cc5a2_bfc5_11e9_853a_1c1b0dc3c219row11_col2\" class=\"data row11 col2\" >0.0117043</td> \n",
       "        <td id=\"T_1e9cc5a2_bfc5_11e9_853a_1c1b0dc3c219row11_col3\" class=\"data row11 col3\" >0.018835</td> \n",
       "        <td id=\"T_1e9cc5a2_bfc5_11e9_853a_1c1b0dc3c219row11_col4\" class=\"data row11 col4\" >0.0386386</td> \n",
       "    </tr></tbody> \n",
       "</table> "
      ],
      "text/plain": [
       "<pandas.io.formats.style.Styler at 0xbd65da0>"
      ]
     },
     "execution_count": 20,
     "metadata": {},
     "output_type": "execute_result"
    }
   ],
   "source": [
    "auc_df.style.bar()"
   ]
  },
  {
   "cell_type": "markdown",
   "metadata": {},
   "source": [
    "### grid search"
   ]
  },
  {
   "cell_type": "code",
   "execution_count": 28,
   "metadata": {},
   "outputs": [],
   "source": [
    "params = {'learning_rate':0.1, 'n_estimators':100,\n",
    "            'boosting_type':'gbdt', 'num_leaves':31, 'max_depth':-1,\n",
    "             'subsample_for_bin':200000, \n",
    "             'min_split_gain':0.0, 'min_child_weight':0.001, 'min_child_samples':20, \n",
    "             'subsample':1.0, 'subsample_freq':0, 'colsample_bytree':1.0, \n",
    "             'reg_alpha':0.0, 'reg_lambda':0.0}"
   ]
  },
  {
   "cell_type": "code",
   "execution_count": 27,
   "metadata": {},
   "outputs": [],
   "source": [
    "lgb = lightgbm.LGBMClassifier(**params)"
   ]
  },
  {
   "cell_type": "code",
   "execution_count": 30,
   "metadata": {},
   "outputs": [],
   "source": [
    "KF = model_selection.StratifiedKFold(n_splits=5,random_state=2,shuffle=True)"
   ]
  },
  {
   "cell_type": "code",
   "execution_count": 246,
   "metadata": {},
   "outputs": [],
   "source": [
    "param_grid={'max_depth':[3,6,9],'num_leaves':[8,31,62]}"
   ]
  },
  {
   "cell_type": "code",
   "execution_count": 251,
   "metadata": {},
   "outputs": [],
   "source": [
    "param_grid={'max_depth':[5,6,7],'num_leaves':[3,8,16]}"
   ]
  },
  {
   "cell_type": "code",
   "execution_count": 254,
   "metadata": {},
   "outputs": [],
   "source": [
    "param_grid={'max_depth':[4,5,6],'num_leaves':[12,16,21]}"
   ]
  },
  {
   "cell_type": "code",
   "execution_count": 258,
   "metadata": {},
   "outputs": [],
   "source": [
    "param_grid={'max_depth':[5],'num_leaves':[14,16,18]}"
   ]
  },
  {
   "cell_type": "code",
   "execution_count": 261,
   "metadata": {},
   "outputs": [],
   "source": [
    "param_grid={'max_depth':[5],'num_leaves':[15,16,17]}"
   ]
  },
  {
   "cell_type": "code",
   "execution_count": 97,
   "metadata": {
    "scrolled": true
   },
   "outputs": [
    {
     "name": "stdout",
     "output_type": "stream",
     "text": [
      "Wall time: 2.44 s\n"
     ]
    }
   ],
   "source": [
    "%%time\n",
    "gs=model_selection.GridSearchCV(estimator=lgb,param_grid=param_grid,scoring='roc_auc',n_jobs=-1,cv=KF.split(breast_x,breast_y))\n",
    "gs.fit(breast_x,breast_y)"
   ]
  },
  {
   "cell_type": "code",
   "execution_count": 264,
   "metadata": {},
   "outputs": [],
   "source": [
    "def grid_search(clf,param_grid,x_array,y_array,result_df=pd.DataFrame(),socring='roc_auc',Kfold=5):\n",
    "    KF = model_selection.StratifiedKFold(n_splits=Kfold,random_state=2,shuffle=True)\n",
    "    gs=model_selection.GridSearchCV(estimator=clf,param_grid=param_grid,scoring=socring,n_jobs=-1,cv=KF.split(x_array,y_array))\n",
    "    gs.fit(x_array,y_array)\n",
    "    result_t=pd.DataFrame(gs.cv_results_['params'])\n",
    "    result_t['mean_test_score']=gs.cv_results_['mean_test_score']\n",
    "    result_df = pd.concat([result_df,result_t])\n",
    "    result_df = result_df.sort_values(by=list(result_df.columns[:-1]))\n",
    "    result_df = result_df.drop_duplicates()\n",
    "    print('best_score: %s'%gs.best_score_)\n",
    "    print('best_params:%s'%gs.best_params_)\n",
    "    return result_df.reset_index(drop=True)"
   ]
  },
  {
   "cell_type": "code",
   "execution_count": 262,
   "metadata": {
    "scrolled": true
   },
   "outputs": [
    {
     "name": "stdout",
     "output_type": "stream",
     "text": [
      "best_score:0.9916284569996785\n",
      "best_params:{'max_depth': 5, 'num_leaves': 15}\n"
     ]
    }
   ],
   "source": [
    "result_df = grid_search(clf=lgb,param_grid=param_grid,x_array=breast_x,y_array=breast_y,result_df=result_df)"
   ]
  },
  {
   "cell_type": "code",
   "execution_count": 280,
   "metadata": {
    "scrolled": true
   },
   "outputs": [
    {
     "data": {
      "text/html": [
       "<style  type=\"text/css\" >\n",
       "    #T_64942140_bfeb_11e9_a038_1c1b0dc3c219row0_col2 {\n",
       "            width:  10em;\n",
       "             height:  80%;\n",
       "            background:  linear-gradient(90deg,#d65f5f 50.0%, transparent 0%);\n",
       "        }    #T_64942140_bfeb_11e9_a038_1c1b0dc3c219row1_col2 {\n",
       "            width:  10em;\n",
       "             height:  80%;\n",
       "            background:  linear-gradient(90deg,#d65f5f 50.0%, transparent 0%);\n",
       "        }    #T_64942140_bfeb_11e9_a038_1c1b0dc3c219row2_col2 {\n",
       "            width:  10em;\n",
       "             height:  80%;\n",
       "            background:  linear-gradient(90deg,#d65f5f 50.0%, transparent 0%);\n",
       "        }    #T_64942140_bfeb_11e9_a038_1c1b0dc3c219row3_col2 {\n",
       "            width:  10em;\n",
       "             height:  80%;\n",
       "            background:  linear-gradient(90deg,#d65f5f 87.9%, transparent 0%);\n",
       "        }    #T_64942140_bfeb_11e9_a038_1c1b0dc3c219row4_col2 {\n",
       "            width:  10em;\n",
       "             height:  80%;\n",
       "            background:  linear-gradient(90deg,#d65f5f 71.2%, transparent 0%);\n",
       "        }    #T_64942140_bfeb_11e9_a038_1c1b0dc3c219row5_col2 {\n",
       "            width:  10em;\n",
       "             height:  80%;\n",
       "            background:  linear-gradient(90deg,#d65f5f 71.2%, transparent 0%);\n",
       "        }    #T_64942140_bfeb_11e9_a038_1c1b0dc3c219row6_col2 {\n",
       "            width:  10em;\n",
       "             height:  80%;\n",
       "            background:  linear-gradient(90deg,#d65f5f 50.2%, transparent 0%);\n",
       "        }    #T_64942140_bfeb_11e9_a038_1c1b0dc3c219row7_col2 {\n",
       "            width:  10em;\n",
       "             height:  80%;\n",
       "            background:  linear-gradient(90deg,#d65f5f 69.0%, transparent 0%);\n",
       "        }    #T_64942140_bfeb_11e9_a038_1c1b0dc3c219row8_col2 {\n",
       "            width:  10em;\n",
       "             height:  80%;\n",
       "            background:  linear-gradient(90deg,#d65f5f 54.7%, transparent 0%);\n",
       "        }    #T_64942140_bfeb_11e9_a038_1c1b0dc3c219row9_col2 {\n",
       "            width:  10em;\n",
       "             height:  80%;\n",
       "            background:  linear-gradient(90deg,#d65f5f 90.5%, transparent 0%);\n",
       "        }    #T_64942140_bfeb_11e9_a038_1c1b0dc3c219row10_col2 {\n",
       "            width:  10em;\n",
       "             height:  80%;\n",
       "            background:  linear-gradient(90deg,#d65f5f 100.0%, transparent 0%);\n",
       "        }    #T_64942140_bfeb_11e9_a038_1c1b0dc3c219row11_col2 {\n",
       "            width:  10em;\n",
       "             height:  80%;\n",
       "            background:  linear-gradient(90deg,#d65f5f 100.0%, transparent 0%);\n",
       "        }    #T_64942140_bfeb_11e9_a038_1c1b0dc3c219row12_col2 {\n",
       "            width:  10em;\n",
       "             height:  80%;\n",
       "            background:  linear-gradient(90deg,#d65f5f 100.0%, transparent 0%);\n",
       "        }    #T_64942140_bfeb_11e9_a038_1c1b0dc3c219row13_col2 {\n",
       "            width:  10em;\n",
       "             height:  80%;\n",
       "            background:  linear-gradient(90deg,#d65f5f 100.0%, transparent 0%);\n",
       "        }    #T_64942140_bfeb_11e9_a038_1c1b0dc3c219row14_col2 {\n",
       "            width:  10em;\n",
       "             height:  80%;\n",
       "            background:  linear-gradient(90deg,#d65f5f 100.0%, transparent 0%);\n",
       "        }    #T_64942140_bfeb_11e9_a038_1c1b0dc3c219row15_col2 {\n",
       "            width:  10em;\n",
       "             height:  80%;\n",
       "            background:  linear-gradient(90deg,#d65f5f 50.2%, transparent 0%);\n",
       "        }    #T_64942140_bfeb_11e9_a038_1c1b0dc3c219row16_col2 {\n",
       "            width:  10em;\n",
       "             height:  80%;\n",
       "            background:  linear-gradient(90deg,#d65f5f 78.6%, transparent 0%);\n",
       "        }    #T_64942140_bfeb_11e9_a038_1c1b0dc3c219row17_col2 {\n",
       "            width:  10em;\n",
       "             height:  80%;\n",
       "            background:  linear-gradient(90deg,#d65f5f 47.5%, transparent 0%);\n",
       "        }    #T_64942140_bfeb_11e9_a038_1c1b0dc3c219row18_col2 {\n",
       "            width:  10em;\n",
       "             height:  80%;\n",
       "        }    #T_64942140_bfeb_11e9_a038_1c1b0dc3c219row19_col2 {\n",
       "            width:  10em;\n",
       "             height:  80%;\n",
       "            background:  linear-gradient(90deg,#d65f5f 4.8%, transparent 0%);\n",
       "        }    #T_64942140_bfeb_11e9_a038_1c1b0dc3c219row20_col2 {\n",
       "            width:  10em;\n",
       "             height:  80%;\n",
       "            background:  linear-gradient(90deg,#d65f5f 4.8%, transparent 0%);\n",
       "        }    #T_64942140_bfeb_11e9_a038_1c1b0dc3c219row21_col2 {\n",
       "            width:  10em;\n",
       "             height:  80%;\n",
       "            background:  linear-gradient(90deg,#d65f5f 4.8%, transparent 0%);\n",
       "        }    #T_64942140_bfeb_11e9_a038_1c1b0dc3c219row22_col2 {\n",
       "            width:  10em;\n",
       "             height:  80%;\n",
       "            background:  linear-gradient(90deg,#d65f5f 50.2%, transparent 0%);\n",
       "        }    #T_64942140_bfeb_11e9_a038_1c1b0dc3c219row23_col2 {\n",
       "            width:  10em;\n",
       "             height:  80%;\n",
       "            background:  linear-gradient(90deg,#d65f5f 52.4%, transparent 0%);\n",
       "        }    #T_64942140_bfeb_11e9_a038_1c1b0dc3c219row24_col2 {\n",
       "            width:  10em;\n",
       "             height:  80%;\n",
       "            background:  linear-gradient(90deg,#d65f5f 76.1%, transparent 0%);\n",
       "        }    #T_64942140_bfeb_11e9_a038_1c1b0dc3c219row25_col2 {\n",
       "            width:  10em;\n",
       "             height:  80%;\n",
       "            background:  linear-gradient(90deg,#d65f5f 52.4%, transparent 0%);\n",
       "        }    #T_64942140_bfeb_11e9_a038_1c1b0dc3c219row26_col2 {\n",
       "            width:  10em;\n",
       "             height:  80%;\n",
       "            background:  linear-gradient(90deg,#d65f5f 59.3%, transparent 0%);\n",
       "        }    #T_64942140_bfeb_11e9_a038_1c1b0dc3c219row27_col2 {\n",
       "            width:  10em;\n",
       "             height:  80%;\n",
       "            background:  linear-gradient(90deg,#d65f5f 59.3%, transparent 0%);\n",
       "        }</style>  \n",
       "<table id=\"T_64942140_bfeb_11e9_a038_1c1b0dc3c219\" > \n",
       "<thead>    <tr> \n",
       "        <th class=\"blank level0\" ></th> \n",
       "        <th class=\"col_heading level0 col0\" >max_depth</th> \n",
       "        <th class=\"col_heading level0 col1\" >num_leaves</th> \n",
       "        <th class=\"col_heading level0 col2\" >mean_test_score</th> \n",
       "    </tr></thead> \n",
       "<tbody>    <tr> \n",
       "        <th id=\"T_64942140_bfeb_11e9_a038_1c1b0dc3c219level0_row0\" class=\"row_heading level0 row0\" >0</th> \n",
       "        <td id=\"T_64942140_bfeb_11e9_a038_1c1b0dc3c219row0_col0\" class=\"data row0 col0\" >3</td> \n",
       "        <td id=\"T_64942140_bfeb_11e9_a038_1c1b0dc3c219row0_col1\" class=\"data row0 col1\" >8</td> \n",
       "        <td id=\"T_64942140_bfeb_11e9_a038_1c1b0dc3c219row0_col2\" class=\"data row0 col2\" >0.990231</td> \n",
       "    </tr>    <tr> \n",
       "        <th id=\"T_64942140_bfeb_11e9_a038_1c1b0dc3c219level0_row1\" class=\"row_heading level0 row1\" >1</th> \n",
       "        <td id=\"T_64942140_bfeb_11e9_a038_1c1b0dc3c219row1_col0\" class=\"data row1 col0\" >3</td> \n",
       "        <td id=\"T_64942140_bfeb_11e9_a038_1c1b0dc3c219row1_col1\" class=\"data row1 col1\" >31</td> \n",
       "        <td id=\"T_64942140_bfeb_11e9_a038_1c1b0dc3c219row1_col2\" class=\"data row1 col2\" >0.990231</td> \n",
       "    </tr>    <tr> \n",
       "        <th id=\"T_64942140_bfeb_11e9_a038_1c1b0dc3c219level0_row2\" class=\"row_heading level0 row2\" >2</th> \n",
       "        <td id=\"T_64942140_bfeb_11e9_a038_1c1b0dc3c219row2_col0\" class=\"data row2 col0\" >3</td> \n",
       "        <td id=\"T_64942140_bfeb_11e9_a038_1c1b0dc3c219row2_col1\" class=\"data row2 col1\" >62</td> \n",
       "        <td id=\"T_64942140_bfeb_11e9_a038_1c1b0dc3c219row2_col2\" class=\"data row2 col2\" >0.990231</td> \n",
       "    </tr>    <tr> \n",
       "        <th id=\"T_64942140_bfeb_11e9_a038_1c1b0dc3c219level0_row3\" class=\"row_heading level0 row3\" >3</th> \n",
       "        <td id=\"T_64942140_bfeb_11e9_a038_1c1b0dc3c219row3_col0\" class=\"data row3 col0\" >4</td> \n",
       "        <td id=\"T_64942140_bfeb_11e9_a038_1c1b0dc3c219row3_col1\" class=\"data row3 col1\" >12</td> \n",
       "        <td id=\"T_64942140_bfeb_11e9_a038_1c1b0dc3c219row3_col2\" class=\"data row3 col2\" >0.99129</td> \n",
       "    </tr>    <tr> \n",
       "        <th id=\"T_64942140_bfeb_11e9_a038_1c1b0dc3c219level0_row4\" class=\"row_heading level0 row4\" >4</th> \n",
       "        <td id=\"T_64942140_bfeb_11e9_a038_1c1b0dc3c219row4_col0\" class=\"data row4 col0\" >4</td> \n",
       "        <td id=\"T_64942140_bfeb_11e9_a038_1c1b0dc3c219row4_col1\" class=\"data row4 col1\" >16</td> \n",
       "        <td id=\"T_64942140_bfeb_11e9_a038_1c1b0dc3c219row4_col2\" class=\"data row4 col2\" >0.990824</td> \n",
       "    </tr>    <tr> \n",
       "        <th id=\"T_64942140_bfeb_11e9_a038_1c1b0dc3c219level0_row5\" class=\"row_heading level0 row5\" >5</th> \n",
       "        <td id=\"T_64942140_bfeb_11e9_a038_1c1b0dc3c219row5_col0\" class=\"data row5 col0\" >4</td> \n",
       "        <td id=\"T_64942140_bfeb_11e9_a038_1c1b0dc3c219row5_col1\" class=\"data row5 col1\" >21</td> \n",
       "        <td id=\"T_64942140_bfeb_11e9_a038_1c1b0dc3c219row5_col2\" class=\"data row5 col2\" >0.990824</td> \n",
       "    </tr>    <tr> \n",
       "        <th id=\"T_64942140_bfeb_11e9_a038_1c1b0dc3c219level0_row6\" class=\"row_heading level0 row6\" >6</th> \n",
       "        <td id=\"T_64942140_bfeb_11e9_a038_1c1b0dc3c219row6_col0\" class=\"data row6 col0\" >5</td> \n",
       "        <td id=\"T_64942140_bfeb_11e9_a038_1c1b0dc3c219row6_col1\" class=\"data row6 col1\" >3</td> \n",
       "        <td id=\"T_64942140_bfeb_11e9_a038_1c1b0dc3c219row6_col2\" class=\"data row6 col2\" >0.990236</td> \n",
       "    </tr>    <tr> \n",
       "        <th id=\"T_64942140_bfeb_11e9_a038_1c1b0dc3c219level0_row7\" class=\"row_heading level0 row7\" >7</th> \n",
       "        <td id=\"T_64942140_bfeb_11e9_a038_1c1b0dc3c219row7_col0\" class=\"data row7 col0\" >5</td> \n",
       "        <td id=\"T_64942140_bfeb_11e9_a038_1c1b0dc3c219row7_col1\" class=\"data row7 col1\" >8</td> \n",
       "        <td id=\"T_64942140_bfeb_11e9_a038_1c1b0dc3c219row7_col2\" class=\"data row7 col2\" >0.990763</td> \n",
       "    </tr>    <tr> \n",
       "        <th id=\"T_64942140_bfeb_11e9_a038_1c1b0dc3c219level0_row8\" class=\"row_heading level0 row8\" >8</th> \n",
       "        <td id=\"T_64942140_bfeb_11e9_a038_1c1b0dc3c219row8_col0\" class=\"data row8 col0\" >5</td> \n",
       "        <td id=\"T_64942140_bfeb_11e9_a038_1c1b0dc3c219row8_col1\" class=\"data row8 col1\" >12</td> \n",
       "        <td id=\"T_64942140_bfeb_11e9_a038_1c1b0dc3c219row8_col2\" class=\"data row8 col2\" >0.990363</td> \n",
       "    </tr>    <tr> \n",
       "        <th id=\"T_64942140_bfeb_11e9_a038_1c1b0dc3c219level0_row9\" class=\"row_heading level0 row9\" >9</th> \n",
       "        <td id=\"T_64942140_bfeb_11e9_a038_1c1b0dc3c219row9_col0\" class=\"data row9 col0\" >5</td> \n",
       "        <td id=\"T_64942140_bfeb_11e9_a038_1c1b0dc3c219row9_col1\" class=\"data row9 col1\" >14</td> \n",
       "        <td id=\"T_64942140_bfeb_11e9_a038_1c1b0dc3c219row9_col2\" class=\"data row9 col2\" >0.991362</td> \n",
       "    </tr>    <tr> \n",
       "        <th id=\"T_64942140_bfeb_11e9_a038_1c1b0dc3c219level0_row10\" class=\"row_heading level0 row10\" >10</th> \n",
       "        <td id=\"T_64942140_bfeb_11e9_a038_1c1b0dc3c219row10_col0\" class=\"data row10 col0\" >5</td> \n",
       "        <td id=\"T_64942140_bfeb_11e9_a038_1c1b0dc3c219row10_col1\" class=\"data row10 col1\" >15</td> \n",
       "        <td id=\"T_64942140_bfeb_11e9_a038_1c1b0dc3c219row10_col2\" class=\"data row10 col2\" >0.991628</td> \n",
       "    </tr>    <tr> \n",
       "        <th id=\"T_64942140_bfeb_11e9_a038_1c1b0dc3c219level0_row11\" class=\"row_heading level0 row11\" >11</th> \n",
       "        <td id=\"T_64942140_bfeb_11e9_a038_1c1b0dc3c219row11_col0\" class=\"data row11 col0\" >5</td> \n",
       "        <td id=\"T_64942140_bfeb_11e9_a038_1c1b0dc3c219row11_col1\" class=\"data row11 col1\" >16</td> \n",
       "        <td id=\"T_64942140_bfeb_11e9_a038_1c1b0dc3c219row11_col2\" class=\"data row11 col2\" >0.991628</td> \n",
       "    </tr>    <tr> \n",
       "        <th id=\"T_64942140_bfeb_11e9_a038_1c1b0dc3c219level0_row12\" class=\"row_heading level0 row12\" >12</th> \n",
       "        <td id=\"T_64942140_bfeb_11e9_a038_1c1b0dc3c219row12_col0\" class=\"data row12 col0\" >5</td> \n",
       "        <td id=\"T_64942140_bfeb_11e9_a038_1c1b0dc3c219row12_col1\" class=\"data row12 col1\" >17</td> \n",
       "        <td id=\"T_64942140_bfeb_11e9_a038_1c1b0dc3c219row12_col2\" class=\"data row12 col2\" >0.991628</td> \n",
       "    </tr>    <tr> \n",
       "        <th id=\"T_64942140_bfeb_11e9_a038_1c1b0dc3c219level0_row13\" class=\"row_heading level0 row13\" >13</th> \n",
       "        <td id=\"T_64942140_bfeb_11e9_a038_1c1b0dc3c219row13_col0\" class=\"data row13 col0\" >5</td> \n",
       "        <td id=\"T_64942140_bfeb_11e9_a038_1c1b0dc3c219row13_col1\" class=\"data row13 col1\" >18</td> \n",
       "        <td id=\"T_64942140_bfeb_11e9_a038_1c1b0dc3c219row13_col2\" class=\"data row13 col2\" >0.991628</td> \n",
       "    </tr>    <tr> \n",
       "        <th id=\"T_64942140_bfeb_11e9_a038_1c1b0dc3c219level0_row14\" class=\"row_heading level0 row14\" >14</th> \n",
       "        <td id=\"T_64942140_bfeb_11e9_a038_1c1b0dc3c219row14_col0\" class=\"data row14 col0\" >5</td> \n",
       "        <td id=\"T_64942140_bfeb_11e9_a038_1c1b0dc3c219row14_col1\" class=\"data row14 col1\" >21</td> \n",
       "        <td id=\"T_64942140_bfeb_11e9_a038_1c1b0dc3c219row14_col2\" class=\"data row14 col2\" >0.991628</td> \n",
       "    </tr>    <tr> \n",
       "        <th id=\"T_64942140_bfeb_11e9_a038_1c1b0dc3c219level0_row15\" class=\"row_heading level0 row15\" >15</th> \n",
       "        <td id=\"T_64942140_bfeb_11e9_a038_1c1b0dc3c219row15_col0\" class=\"data row15 col0\" >6</td> \n",
       "        <td id=\"T_64942140_bfeb_11e9_a038_1c1b0dc3c219row15_col1\" class=\"data row15 col1\" >3</td> \n",
       "        <td id=\"T_64942140_bfeb_11e9_a038_1c1b0dc3c219row15_col2\" class=\"data row15 col2\" >0.990236</td> \n",
       "    </tr>    <tr> \n",
       "        <th id=\"T_64942140_bfeb_11e9_a038_1c1b0dc3c219level0_row16\" class=\"row_heading level0 row16\" >16</th> \n",
       "        <td id=\"T_64942140_bfeb_11e9_a038_1c1b0dc3c219row16_col0\" class=\"data row16 col0\" >6</td> \n",
       "        <td id=\"T_64942140_bfeb_11e9_a038_1c1b0dc3c219row16_col1\" class=\"data row16 col1\" >8</td> \n",
       "        <td id=\"T_64942140_bfeb_11e9_a038_1c1b0dc3c219row16_col2\" class=\"data row16 col2\" >0.991032</td> \n",
       "    </tr>    <tr> \n",
       "        <th id=\"T_64942140_bfeb_11e9_a038_1c1b0dc3c219level0_row17\" class=\"row_heading level0 row17\" >17</th> \n",
       "        <td id=\"T_64942140_bfeb_11e9_a038_1c1b0dc3c219row17_col0\" class=\"data row17 col0\" >6</td> \n",
       "        <td id=\"T_64942140_bfeb_11e9_a038_1c1b0dc3c219row17_col1\" class=\"data row17 col1\" >12</td> \n",
       "        <td id=\"T_64942140_bfeb_11e9_a038_1c1b0dc3c219row17_col2\" class=\"data row17 col2\" >0.990163</td> \n",
       "    </tr>    <tr> \n",
       "        <th id=\"T_64942140_bfeb_11e9_a038_1c1b0dc3c219level0_row18\" class=\"row_heading level0 row18\" >18</th> \n",
       "        <td id=\"T_64942140_bfeb_11e9_a038_1c1b0dc3c219row18_col0\" class=\"data row18 col0\" >6</td> \n",
       "        <td id=\"T_64942140_bfeb_11e9_a038_1c1b0dc3c219row18_col1\" class=\"data row18 col1\" >16</td> \n",
       "        <td id=\"T_64942140_bfeb_11e9_a038_1c1b0dc3c219row18_col2\" class=\"data row18 col2\" >0.988835</td> \n",
       "    </tr>    <tr> \n",
       "        <th id=\"T_64942140_bfeb_11e9_a038_1c1b0dc3c219level0_row19\" class=\"row_heading level0 row19\" >19</th> \n",
       "        <td id=\"T_64942140_bfeb_11e9_a038_1c1b0dc3c219row19_col0\" class=\"data row19 col0\" >6</td> \n",
       "        <td id=\"T_64942140_bfeb_11e9_a038_1c1b0dc3c219row19_col1\" class=\"data row19 col1\" >21</td> \n",
       "        <td id=\"T_64942140_bfeb_11e9_a038_1c1b0dc3c219row19_col2\" class=\"data row19 col2\" >0.988969</td> \n",
       "    </tr>    <tr> \n",
       "        <th id=\"T_64942140_bfeb_11e9_a038_1c1b0dc3c219level0_row20\" class=\"row_heading level0 row20\" >20</th> \n",
       "        <td id=\"T_64942140_bfeb_11e9_a038_1c1b0dc3c219row20_col0\" class=\"data row20 col0\" >6</td> \n",
       "        <td id=\"T_64942140_bfeb_11e9_a038_1c1b0dc3c219row20_col1\" class=\"data row20 col1\" >31</td> \n",
       "        <td id=\"T_64942140_bfeb_11e9_a038_1c1b0dc3c219row20_col2\" class=\"data row20 col2\" >0.988969</td> \n",
       "    </tr>    <tr> \n",
       "        <th id=\"T_64942140_bfeb_11e9_a038_1c1b0dc3c219level0_row21\" class=\"row_heading level0 row21\" >21</th> \n",
       "        <td id=\"T_64942140_bfeb_11e9_a038_1c1b0dc3c219row21_col0\" class=\"data row21 col0\" >6</td> \n",
       "        <td id=\"T_64942140_bfeb_11e9_a038_1c1b0dc3c219row21_col1\" class=\"data row21 col1\" >62</td> \n",
       "        <td id=\"T_64942140_bfeb_11e9_a038_1c1b0dc3c219row21_col2\" class=\"data row21 col2\" >0.988969</td> \n",
       "    </tr>    <tr> \n",
       "        <th id=\"T_64942140_bfeb_11e9_a038_1c1b0dc3c219level0_row22\" class=\"row_heading level0 row22\" >22</th> \n",
       "        <td id=\"T_64942140_bfeb_11e9_a038_1c1b0dc3c219row22_col0\" class=\"data row22 col0\" >7</td> \n",
       "        <td id=\"T_64942140_bfeb_11e9_a038_1c1b0dc3c219row22_col1\" class=\"data row22 col1\" >3</td> \n",
       "        <td id=\"T_64942140_bfeb_11e9_a038_1c1b0dc3c219row22_col2\" class=\"data row22 col2\" >0.990236</td> \n",
       "    </tr>    <tr> \n",
       "        <th id=\"T_64942140_bfeb_11e9_a038_1c1b0dc3c219level0_row23\" class=\"row_heading level0 row23\" >23</th> \n",
       "        <td id=\"T_64942140_bfeb_11e9_a038_1c1b0dc3c219row23_col0\" class=\"data row23 col0\" >7</td> \n",
       "        <td id=\"T_64942140_bfeb_11e9_a038_1c1b0dc3c219row23_col1\" class=\"data row23 col1\" >8</td> \n",
       "        <td id=\"T_64942140_bfeb_11e9_a038_1c1b0dc3c219row23_col2\" class=\"data row23 col2\" >0.990298</td> \n",
       "    </tr>    <tr> \n",
       "        <th id=\"T_64942140_bfeb_11e9_a038_1c1b0dc3c219level0_row24\" class=\"row_heading level0 row24\" >24</th> \n",
       "        <td id=\"T_64942140_bfeb_11e9_a038_1c1b0dc3c219row24_col0\" class=\"data row24 col0\" >7</td> \n",
       "        <td id=\"T_64942140_bfeb_11e9_a038_1c1b0dc3c219row24_col1\" class=\"data row24 col1\" >16</td> \n",
       "        <td id=\"T_64942140_bfeb_11e9_a038_1c1b0dc3c219row24_col2\" class=\"data row24 col2\" >0.99096</td> \n",
       "    </tr>    <tr> \n",
       "        <th id=\"T_64942140_bfeb_11e9_a038_1c1b0dc3c219level0_row25\" class=\"row_heading level0 row25\" >25</th> \n",
       "        <td id=\"T_64942140_bfeb_11e9_a038_1c1b0dc3c219row25_col0\" class=\"data row25 col0\" >9</td> \n",
       "        <td id=\"T_64942140_bfeb_11e9_a038_1c1b0dc3c219row25_col1\" class=\"data row25 col1\" >8</td> \n",
       "        <td id=\"T_64942140_bfeb_11e9_a038_1c1b0dc3c219row25_col2\" class=\"data row25 col2\" >0.990298</td> \n",
       "    </tr>    <tr> \n",
       "        <th id=\"T_64942140_bfeb_11e9_a038_1c1b0dc3c219level0_row26\" class=\"row_heading level0 row26\" >26</th> \n",
       "        <td id=\"T_64942140_bfeb_11e9_a038_1c1b0dc3c219row26_col0\" class=\"data row26 col0\" >9</td> \n",
       "        <td id=\"T_64942140_bfeb_11e9_a038_1c1b0dc3c219row26_col1\" class=\"data row26 col1\" >31</td> \n",
       "        <td id=\"T_64942140_bfeb_11e9_a038_1c1b0dc3c219row26_col2\" class=\"data row26 col2\" >0.990491</td> \n",
       "    </tr>    <tr> \n",
       "        <th id=\"T_64942140_bfeb_11e9_a038_1c1b0dc3c219level0_row27\" class=\"row_heading level0 row27\" >27</th> \n",
       "        <td id=\"T_64942140_bfeb_11e9_a038_1c1b0dc3c219row27_col0\" class=\"data row27 col0\" >9</td> \n",
       "        <td id=\"T_64942140_bfeb_11e9_a038_1c1b0dc3c219row27_col1\" class=\"data row27 col1\" >62</td> \n",
       "        <td id=\"T_64942140_bfeb_11e9_a038_1c1b0dc3c219row27_col2\" class=\"data row27 col2\" >0.990491</td> \n",
       "    </tr></tbody> \n",
       "</table> "
      ],
      "text/plain": [
       "<pandas.io.formats.style.Styler at 0x11c5c668>"
      ]
     },
     "execution_count": 280,
     "metadata": {},
     "output_type": "execute_result"
    }
   ],
   "source": [
    "result_df.style.bar(['mean_test_score'])"
   ]
  },
  {
   "cell_type": "code",
   "execution_count": 381,
   "metadata": {},
   "outputs": [],
   "source": [
    "def params_score_plot(result_df,xlim=[0,1]):\n",
    "    '''仅满足两个参数组合图'''\n",
    "    plt.figure(figsize=(16,6))\n",
    "    plt.subplot(121)\n",
    "    y_axis = result_df.iloc[:,0].map(str)\n",
    "    y_label = result_df.columns[0]\n",
    "    for i in range(1,result_df.shape[1]-1):\n",
    "        y_axis = y_axis+' and '+result_df.iloc[:,i].map(str)\n",
    "        y_label = y_label+' AND '+result_df.columns[i]\n",
    "    g = sns.barplot(x=result_df['mean_test_score'].values,y=y_axis)\n",
    "    g.set_xlim(xlim)\n",
    "    g.set_ylabel(y_label)\n",
    "    g.set_xlabel('mean_test_score')\n",
    "    plt.subplot(122)\n",
    "    g=sns.scatterplot(x=result_df.iloc[:,0].values,y=result_df.iloc[:,1].values,size=result_df['mean_test_score'].values,legend=False)\n",
    "    g.set_xlabel(result_df.columns[0])\n",
    "    g.set_ylabel(result_df.columns[1])\n",
    "    g.set_title('Size=mean_test_score')"
   ]
  },
  {
   "cell_type": "code",
   "execution_count": 380,
   "metadata": {
    "scrolled": true
   },
   "outputs": [
    {
     "data": {
      "image/png": "[encoded data removed]",
      "text/plain": [
       "<Figure size 1152x432 with 2 Axes>"
      ]
     },
     "metadata": {},
     "output_type": "display_data"
    }
   ],
   "source": [
    "params_score_plot(result_df=result_df,xlim=[0.986,0.992])"
   ]
  },
  {
   "cell_type": "code",
   "execution_count": 199,
   "metadata": {},
   "outputs": [],
   "source": [
    "x_index=[]\n",
    "y_index=[]\n",
    "for i in range(_.shape[0]):\n",
    "    x_index.append(list(set(_['max_depth'].values)).index(_.loc[i,'max_depth']))\n",
    "    y_index.append(list(set(_['num_leaves'].values)).index(_.loc[i,'num_leaves']))"
   ]
  },
  {
   "cell_type": "code",
   "execution_count": 265,
   "metadata": {
    "scrolled": true
   },
   "outputs": [
    {
     "data": {
      "text/html": [
       "<script>\n",
       "    require.config({\n",
       "        paths: {\n",
       "            'echarts': '/nbextensions/echarts/echarts.min', 'echartsgl': '/nbextensions/echarts/echarts-gl.min'\n",
       "        }\n",
       "    });\n",
       "</script>\n",
       "    <div id=\"a81a2905ee4c40f3b77e3349c46383ec\" style=\"width:1200px;height:600px;\"></div>\n",
       "\n",
       "\n",
       "<script>\n",
       "    require(['echarts', 'echartsgl'], function(echarts) {\n",
       "        \n",
       "var myChart_a81a2905ee4c40f3b77e3349c46383ec = echarts.init(document.getElementById('a81a2905ee4c40f3b77e3349c46383ec'), null, {renderer: 'canvas'});\n",
       "\n",
       "var option_a81a2905ee4c40f3b77e3349c46383ec = {\n",
       "    \"title\": [\n",
       "        {\n",
       "            \"text\": \"3D \\u6563\\u70b9\\u56fe\\u793a\\u4f8b\",\n",
       "            \"subtext\": \"\",\n",
       "            \"left\": \"auto\",\n",
       "            \"top\": \"auto\",\n",
       "            \"textStyle\": {\n",
       "                \"color\": \"#000\",\n",
       "                \"fontSize\": 18\n",
       "            },\n",
       "            \"subtextStyle\": {\n",
       "                \"color\": \"#aaa\",\n",
       "                \"fontSize\": 12\n",
       "            }\n",
       "        }\n",
       "    ],\n",
       "    \"toolbox\": {\n",
       "        \"show\": true,\n",
       "        \"orient\": \"vertical\",\n",
       "        \"left\": \"95%\",\n",
       "        \"top\": \"center\",\n",
       "        \"feature\": {\n",
       "            \"saveAsImage\": {\n",
       "                \"show\": true,\n",
       "                \"title\": \"\\u4e0b\\u8f7d\\u56fe\\u7247\"\n",
       "            },\n",
       "            \"restore\": {\n",
       "                \"show\": true\n",
       "            },\n",
       "            \"dataView\": {\n",
       "                \"show\": true\n",
       "            }\n",
       "        }\n",
       "    },\n",
       "    \"series_id\": 7264317,\n",
       "    \"tooltip\": {\n",
       "        \"trigger\": \"item\",\n",
       "        \"triggerOn\": \"mousemove|click\",\n",
       "        \"axisPointer\": {\n",
       "            \"type\": \"line\"\n",
       "        },\n",
       "        \"formatter\": null,\n",
       "        \"textStyle\": {\n",
       "            \"color\": \"#fff\",\n",
       "            \"fontSize\": 14\n",
       "        },\n",
       "        \"backgroundColor\": \"rgba(50,50,50,0.7)\",\n",
       "        \"borderColor\": \"#333\",\n",
       "        \"borderWidth\": 0\n",
       "    },\n",
       "    \"series\": [\n",
       "        {\n",
       "            \"type\": \"scatter3D\",\n",
       "            \"name\": \"\",\n",
       "            \"data\": [\n",
       "                [\n",
       "                    3.0,\n",
       "                    8.0,\n",
       "                    0.9902312244515625\n",
       "                ],\n",
       "                [\n",
       "                    3.0,\n",
       "                    31.0,\n",
       "                    0.9902312244515625\n",
       "                ],\n",
       "                [\n",
       "                    3.0,\n",
       "                    62.0,\n",
       "                    0.9902312244515625\n",
       "                ],\n",
       "                [\n",
       "                    4.0,\n",
       "                    12.0,\n",
       "                    0.9912902013471364\n",
       "                ],\n",
       "                [\n",
       "                    4.0,\n",
       "                    16.0,\n",
       "                    0.9908240181907876\n",
       "                ],\n",
       "                [\n",
       "                    4.0,\n",
       "                    21.0,\n",
       "                    0.9908240181907876\n",
       "                ],\n",
       "                [\n",
       "                    5.0,\n",
       "                    3.0,\n",
       "                    0.9902364921352843\n",
       "                ],\n",
       "                [\n",
       "                    5.0,\n",
       "                    8.0,\n",
       "                    0.9907626882807452\n",
       "                ],\n",
       "                [\n",
       "                    5.0,\n",
       "                    12.0,\n",
       "                    0.9903631027181605\n",
       "                ],\n",
       "                [\n",
       "                    5.0,\n",
       "                    14.0,\n",
       "                    0.9913620666246221\n",
       "                ],\n",
       "                [\n",
       "                    5.0,\n",
       "                    15.0,\n",
       "                    0.9916284569996785\n",
       "                ],\n",
       "                [\n",
       "                    5.0,\n",
       "                    16.0,\n",
       "                    0.9916284569996785\n",
       "                ],\n",
       "                [\n",
       "                    5.0,\n",
       "                    17.0,\n",
       "                    0.9916284569996785\n",
       "                ],\n",
       "                [\n",
       "                    5.0,\n",
       "                    18.0,\n",
       "                    0.9916284569996785\n",
       "                ],\n",
       "                [\n",
       "                    5.0,\n",
       "                    21.0,\n",
       "                    0.9916284569996785\n",
       "                ],\n",
       "                [\n",
       "                    6.0,\n",
       "                    3.0,\n",
       "                    0.9902364921352843\n",
       "                ],\n",
       "                [\n",
       "                    6.0,\n",
       "                    8.0,\n",
       "                    0.9910317124976623\n",
       "                ],\n",
       "                [\n",
       "                    6.0,\n",
       "                    12.0,\n",
       "                    0.9901633099368682\n",
       "                ],\n",
       "                [\n",
       "                    6.0,\n",
       "                    16.0,\n",
       "                    0.9888353088243771\n",
       "                ],\n",
       "                [\n",
       "                    6.0,\n",
       "                    21.0,\n",
       "                    0.9889685040119053\n",
       "                ],\n",
       "                [\n",
       "                    6.0,\n",
       "                    31.0,\n",
       "                    0.9889685040119053\n",
       "                ],\n",
       "                [\n",
       "                    6.0,\n",
       "                    62.0,\n",
       "                    0.9889685040119053\n",
       "                ],\n",
       "                [\n",
       "                    7.0,\n",
       "                    3.0,\n",
       "                    0.9902364921352843\n",
       "                ],\n",
       "                [\n",
       "                    7.0,\n",
       "                    8.0,\n",
       "                    0.9902978220453268\n",
       "                ],\n",
       "                [\n",
       "                    7.0,\n",
       "                    16.0,\n",
       "                    0.9909598472201766\n",
       "                ],\n",
       "                [\n",
       "                    9.0,\n",
       "                    8.0,\n",
       "                    0.9902978220453268\n",
       "                ],\n",
       "                [\n",
       "                    9.0,\n",
       "                    31.0,\n",
       "                    0.990491030221967\n",
       "                ],\n",
       "                [\n",
       "                    9.0,\n",
       "                    62.0,\n",
       "                    0.990491030221967\n",
       "                ]\n",
       "            ],\n",
       "            \"label\": {\n",
       "                \"normal\": {\n",
       "                    \"show\": false,\n",
       "                    \"position\": \"top\",\n",
       "                    \"textStyle\": {\n",
       "                        \"color\": \"#000\",\n",
       "                        \"fontSize\": 12\n",
       "                    }\n",
       "                },\n",
       "                \"emphasis\": {\n",
       "                    \"show\": true,\n",
       "                    \"position\": null,\n",
       "                    \"textStyle\": {\n",
       "                        \"color\": \"#fff\",\n",
       "                        \"fontSize\": 12\n",
       "                    }\n",
       "                }\n",
       "            },\n",
       "            \"itemStyle\": {\n",
       "                \"opacity\": 1\n",
       "            }\n",
       "        }\n",
       "    ],\n",
       "    \"legend\": [\n",
       "        {\n",
       "            \"data\": [\n",
       "                \"\"\n",
       "            ],\n",
       "            \"selectedMode\": \"multiple\",\n",
       "            \"show\": true,\n",
       "            \"left\": \"center\",\n",
       "            \"top\": \"top\",\n",
       "            \"orient\": \"horizontal\",\n",
       "            \"textStyle\": {\n",
       "                \"fontSize\": 12,\n",
       "                \"color\": \"#333\"\n",
       "            }\n",
       "        }\n",
       "    ],\n",
       "    \"backgroundColor\": \"#fff\",\n",
       "    \"xAxis3D\": {\n",
       "        \"name\": \"\",\n",
       "        \"nameGap\": 20,\n",
       "        \"nameTextStyle\": {\n",
       "            \"fontSize\": 16\n",
       "        },\n",
       "        \"type\": \"value\",\n",
       "        \"min\": null,\n",
       "        \"max\": null,\n",
       "        \"axisLabel\": {\n",
       "            \"margin\": 8,\n",
       "            \"interval\": \"auto\"\n",
       "        }\n",
       "    },\n",
       "    \"yAxis3D\": {\n",
       "        \"name\": \"\",\n",
       "        \"nameGap\": 20,\n",
       "        \"nameTextStyle\": {\n",
       "            \"fontSize\": 16\n",
       "        },\n",
       "        \"type\": \"value\",\n",
       "        \"min\": null,\n",
       "        \"max\": null,\n",
       "        \"axisLabel\": {\n",
       "            \"margin\": 8,\n",
       "            \"interval\": \"auto\"\n",
       "        }\n",
       "    },\n",
       "    \"zAxis3D\": {\n",
       "        \"name\": \"\",\n",
       "        \"nameGap\": 20,\n",
       "        \"nameTextStyle\": {\n",
       "            \"fontSize\": 16\n",
       "        },\n",
       "        \"type\": \"value\",\n",
       "        \"min\": 0.989,\n",
       "        \"max\": null,\n",
       "        \"axisLabel\": {\n",
       "            \"margin\": 8\n",
       "        }\n",
       "    },\n",
       "    \"grid3D\": {\n",
       "        \"boxWidth\": 100,\n",
       "        \"boxHeight\": 100,\n",
       "        \"boxDepth\": 100,\n",
       "        \"viewControl\": {\n",
       "            \"autoRotate\": false,\n",
       "            \"autoRotateSpeed\": 10,\n",
       "            \"rotateSensitivity\": 1\n",
       "        }\n",
       "    },\n",
       "    \"color\": [\n",
       "        \"#c23531\",\n",
       "        \"#2f4554\",\n",
       "        \"#61a0a8\",\n",
       "        \"#d48265\",\n",
       "        \"#749f83\",\n",
       "        \"#ca8622\",\n",
       "        \"#bda29a\",\n",
       "        \"#6e7074\",\n",
       "        \"#546570\",\n",
       "        \"#c4ccd3\",\n",
       "        \"#f05b72\",\n",
       "        \"#ef5b9c\",\n",
       "        \"#f47920\",\n",
       "        \"#905a3d\",\n",
       "        \"#fab27b\",\n",
       "        \"#2a5caa\",\n",
       "        \"#444693\",\n",
       "        \"#726930\",\n",
       "        \"#b2d235\",\n",
       "        \"#6d8346\",\n",
       "        \"#ac6767\",\n",
       "        \"#1d953f\",\n",
       "        \"#6950a1\",\n",
       "        \"#918597\",\n",
       "        \"#f6f5ec\"\n",
       "    ]\n",
       "};\n",
       "myChart_a81a2905ee4c40f3b77e3349c46383ec.setOption(option_a81a2905ee4c40f3b77e3349c46383ec);\n",
       "\n",
       "    });\n",
       "</script>\n"
      ],
      "text/plain": [
       "<pyecharts.charts.scatter3D.Scatter3D at 0xfb21470>"
      ]
     },
     "execution_count": 265,
     "metadata": {},
     "output_type": "execute_result"
    }
   ],
   "source": [
    "from pyecharts import Scatter3D,Bar3D\n",
    "range_color = [\n",
    "    '#313695', '#4575b4', '#74add1', '#abd9e9', '#e0f3f8', '#ffffbf',\n",
    "    '#fee090', '#fdae61', '#f46d43', '#d73027', '#a50026']\n",
    "scatter3D = Scatter3D(\"3D 散点图示例\", width=1200, height=600)\n",
    "scatter3D.add(\"\", result_df.values, is_visualmap=False, visual_range_color=range_color,zaxis3d_min=round(result_df['mean_test_score'].min(),3))\n",
    "scatter3D"
   ]
  },
  {
   "cell_type": "markdown",
   "metadata": {},
   "source": [
    "### pyspark"
   ]
  },
  {
   "cell_type": "code",
   "execution_count": 19,
   "metadata": {},
   "outputs": [],
   "source": [
    "import findspark\n",
    "findspark.init()\n",
    "from pyspark.context import SparkContext\n",
    "from pyspark.sql.session import SparkSession\n",
    "from pyspark.sql import SQLContext"
   ]
  },
  {
   "cell_type": "code",
   "execution_count": 2,
   "metadata": {},
   "outputs": [],
   "source": [
    "sc = SparkContext()"
   ]
  },
  {
   "cell_type": "code",
   "execution_count": 4,
   "metadata": {},
   "outputs": [],
   "source": [
    "sqlContext = SQLContext(sc)"
   ]
  },
  {
   "cell_type": "code",
   "execution_count": 13,
   "metadata": {},
   "outputs": [],
   "source": [
    "data = sqlContext.read.format('com.databricks.spark.csv').options(header='true', inferschema='true').load('./train_kj.csv')"
   ]
  },
  {
   "cell_type": "code",
   "execution_count": 28,
   "metadata": {
    "scrolled": true
   },
   "outputs": [
    {
     "name": "stdout",
     "output_type": "stream",
     "text": [
      "+------------------+----+-------+---------+------+-----------+---------+-----------+--------------+------------+-----------+---------------+--------+---------+----------+----------------+-------------+--------------+------------+------+-------------+---+---------+---------+----------+-----+------------+-----------+\n",
      "|           LOAN_NO| age|channel|education|income|install_num|is_attach|is_fam_know|is_fam_reg_add|is_insuuance|is_reg_live|live_build_type|loan_amt|mar_level|mar_status|mobile_time_span|mth_repay_amt|mth_repay_date|mth_tel_bill|nation|no_close_loan|sex|str_level|unit_prov|unit_scale|FPD30|unit_is_live|reg_is_unit|\n",
      "+------------------+----+-------+---------+------+-----------+---------+-----------+--------------+------------+-----------+---------------+--------+---------+----------+----------------+-------------+--------------+------------+------+-------------+---+---------+---------+----------+-----+------------+-----------+\n",
      "|660002019031200146|18.0|    ΢��|     ����|7104.0|        3.0|      1.0|         ��|           0.0|         1.0|         ��|            ȫ��|  2000.0|       A1|       δ��|          5009.0|        842.0|          12.0|      50-100|  ����|          2.0| ��|      0.0|      �½�|      5-10|  0.0|           1|          0|\n",
      "+------------------+----+-------+---------+------+-----------+---------+-----------+--------------+------------+-----------+---------------+--------+---------+----------+----------------+-------------+--------------+------------+------+-------------+---+---------+---------+----------+-----+------------+-----------+\n",
      "only showing top 1 row\n",
      "\n"
     ]
    }
   ],
   "source": [
    "data.show(1)"
   ]
  },
  {
   "cell_type": "code",
   "execution_count": 18,
   "metadata": {},
   "outputs": [
    {
     "name": "stdout",
     "output_type": "stream",
     "text": [
      "+------+-----------+\n",
      "|income|install_num|\n",
      "+------+-----------+\n",
      "|7104.0|        3.0|\n",
      "|7105.0|        4.0|\n",
      "+------+-----------+\n",
      "only showing top 2 rows\n",
      "\n"
     ]
    }
   ],
   "source": [
    "data.select(['income','install_num']).show(2)"
   ]
  },
  {
   "cell_type": "code",
   "execution_count": 22,
   "metadata": {},
   "outputs": [
    {
     "name": "stdout",
     "output_type": "stream",
     "text": [
      "root\n",
      " |-- income: double (nullable = true)\n",
      "\n"
     ]
    }
   ],
   "source": [
    "data.select('income').printSchema()"
   ]
  },
  {
   "cell_type": "code",
   "execution_count": 23,
   "metadata": {},
   "outputs": [],
   "source": [
    "from pyspark.sql.functions import col"
   ]
  },
  {
   "cell_type": "code",
   "execution_count": 27,
   "metadata": {},
   "outputs": [
    {
     "name": "stdout",
     "output_type": "stream",
     "text": [
      "+-----------+-----+\n",
      "|install_num|count|\n",
      "+-----------+-----+\n",
      "|        3.0| 5890|\n",
      "|        4.0| 4788|\n",
      "|       12.0| 3366|\n",
      "|        9.0| 2434|\n",
      "|        6.0|   34|\n",
      "+-----------+-----+\n",
      "\n"
     ]
    }
   ],
   "source": [
    "data.groupBy(\"install_num\").count().orderBy(col(\"count\").desc()).show()"
   ]
  },
  {
   "cell_type": "markdown",
   "metadata": {},
   "source": [
    "### impyute Knn fillna"
   ]
  },
  {
   "cell_type": "code",
   "execution_count": 4,
   "metadata": {},
   "outputs": [],
   "source": [
    "from impyute.imputation.cs import fast_knn"
   ]
  },
  {
   "cell_type": "code",
   "execution_count": 8,
   "metadata": {},
   "outputs": [],
   "source": [
    "from sklearn.neighbors import KNeighborsClassifier,KNeighborsRegressor"
   ]
  },
  {
   "cell_type": "code",
   "execution_count": 5,
   "metadata": {},
   "outputs": [],
   "source": [
    "df = pd.DataFrame([[np.nan,2,np.nan,0],\n",
    "                  [3,4,np.nan,1],\n",
    "                  [np.nan,np.nan,np.nan,5],\n",
    "                  [5,np.nan,8,10]],\n",
    "                  columns = list('ABCD'))"
   ]
  },
  {
   "cell_type": "code",
   "execution_count": 7,
   "metadata": {},
   "outputs": [
    {
     "name": "stdout",
     "output_type": "stream",
     "text": [
      "          0         1    2     3\n",
      "0  3.675500  2.000000  8.0   0.0\n",
      "1  3.000000  4.000000  8.0   1.0\n",
      "2  3.545837  2.908327  8.0   5.0\n",
      "3  5.000000  3.645227  8.0  10.0\n"
     ]
    }
   ],
   "source": [
    "imputed_training = fast_knn(df,k=2)\n",
    "print(imputed_training)"
   ]
  },
  {
   "cell_type": "code",
   "execution_count": 108,
   "metadata": {},
   "outputs": [],
   "source": [
    "data = np.arange(25).reshape((5, 5)).astype(np.float)\n",
    "data[1][2] =  np.nan"
   ]
  },
  {
   "cell_type": "code",
   "execution_count": 111,
   "metadata": {},
   "outputs": [],
   "source": [
    "_=pd.DataFrame(data)"
   ]
  },
  {
   "cell_type": "code",
   "execution_count": 67,
   "metadata": {
    "scrolled": false
   },
   "outputs": [
    {
     "data": {
      "text/plain": [
       "array([[ 0.        ,  1.        , 10.08608891,  3.        ,  4.        ],\n",
       "       [ 5.        ,  6.        ,  7.        ,  8.        ,  9.        ],\n",
       "       [10.        , 11.        , 12.        , 13.        , 14.        ],\n",
       "       [15.        , 16.        , 17.        , 18.        , 19.        ],\n",
       "       [20.        , 21.        , 22.        , 23.        , 24.        ]])"
      ]
     },
     "execution_count": 67,
     "metadata": {},
     "output_type": "execute_result"
    }
   ],
   "source": [
    "fast_knn(data,k=2)"
   ]
  },
  {
   "cell_type": "code",
   "execution_count": 68,
   "metadata": {},
   "outputs": [],
   "source": [
    "knnR = KNeighborsClassifier(n_neighbors=3)"
   ]
  },
  {
   "cell_type": "code",
   "execution_count": 69,
   "metadata": {},
   "outputs": [
    {
     "data": {
      "text/plain": [
       "KNeighborsClassifier(algorithm='auto', leaf_size=30, metric='minkowski',\n",
       "                     metric_params=None, n_jobs=None, n_neighbors=3, p=2,\n",
       "                     weights='uniform')"
      ]
     },
     "execution_count": 69,
     "metadata": {},
     "output_type": "execute_result"
    }
   ],
   "source": [
    "knnR.fit(_.loc[[1,2,3,4],[0,1,3,4]].values,_.loc[[1,2,3,4],2])"
   ]
  },
  {
   "cell_type": "code",
   "execution_count": 71,
   "metadata": {
    "scrolled": true
   },
   "outputs": [
    {
     "data": {
      "text/plain": [
       "array([7.])"
      ]
     },
     "execution_count": 71,
     "metadata": {},
     "output_type": "execute_result"
    }
   ],
   "source": [
    "knnR.predict(_.loc[[0],[0,1,3,4]].values)"
   ]
  },
  {
   "cell_type": "code",
   "execution_count": null,
   "metadata": {},
   "outputs": [],
   "source": []
  },
  {
   "cell_type": "markdown",
   "metadata": {},
   "source": [
    "### apriori"
   ]
  },
  {
   "cell_type": "code",
   "execution_count": 29,
   "metadata": {},
   "outputs": [],
   "source": [
    "from apyori import apriori"
   ]
  },
  {
   "cell_type": "code",
   "execution_count": null,
   "metadata": {},
   "outputs": [],
   "source": [
    "data = [['豆奶','莴苣'],\n",
    "        ['莴苣','尿布','葡萄酒','甜菜'],\n",
    "        ['豆奶','尿布','葡萄酒','橙汁'],\n",
    "        ['莴苣','豆奶','尿布','葡萄酒'],\n",
    "        ['莴苣','豆奶','尿布','橙汁']]"
   ]
  },
  {
   "cell_type": "code",
   "execution_count": 68,
   "metadata": {},
   "outputs": [],
   "source": [
    "result = apriori(transactions=train_kj[['channel','education','is_fam_know','sex','FPD30']].values,min_support=0.1,min_confidence=0.7)"
   ]
  },
  {
   "cell_type": "code",
   "execution_count": 71,
   "metadata": {},
   "outputs": [],
   "source": [
    "l = train_kj[['channel','education','is_fam_know','sex','FPD30']].values.tolist()"
   ]
  },
  {
   "cell_type": "code",
   "execution_count": null,
   "metadata": {},
   "outputs": [],
   "source": [
    "train_kj[['channel','education','is_fam_know','sex','FPD30']].values"
   ]
  },
  {
   "cell_type": "code",
   "execution_count": 69,
   "metadata": {
    "scrolled": true
   },
   "outputs": [
    {
     "data": {
      "text/plain": [
       "[RelationRecord(items=frozenset({'0'}), support=0.852531492248062, ordered_statistics=[OrderedStatistic(items_base=frozenset(), items_add=frozenset({'0'}), confidence=0.852531492248062, lift=1.0)]),\n",
       " RelationRecord(items=frozenset({'男'}), support=0.7136627906976745, ordered_statistics=[OrderedStatistic(items_base=frozenset(), items_add=frozenset({'男'}), confidence=0.7136627906976745, lift=1.0)]),\n",
       " RelationRecord(items=frozenset({'0', 'PC'}), support=0.4437984496124031, ordered_statistics=[OrderedStatistic(items_base=frozenset({'PC'}), items_add=frozenset({'0'}), confidence=0.8455059420791509, lift=0.9917591898565702)]),\n",
       " RelationRecord(items=frozenset({'0', '中专'}), support=0.16327519379844962, ordered_statistics=[OrderedStatistic(items_base=frozenset({'中专'}), items_add=frozenset({'0'}), confidence=0.852085967130215, lift=0.9994774091961434)]),\n",
       " RelationRecord(items=frozenset({'初中', '0'}), support=0.35828488372093026, ordered_statistics=[OrderedStatistic(items_base=frozenset({'初中'}), items_add=frozenset({'0'}), confidence=0.8455052165213663, lift=0.991758338793834)]),\n",
       " RelationRecord(items=frozenset({'0', '否'}), support=0.44761385658914726, ordered_statistics=[OrderedStatistic(items_base=frozenset({'否'}), items_add=frozenset({'0'}), confidence=0.8457489415264904, lift=0.9920442226671456)]),\n",
       " RelationRecord(items=frozenset({'0', '女'}), support=0.250484496124031, ordered_statistics=[OrderedStatistic(items_base=frozenset({'女'}), items_add=frozenset({'0'}), confidence=0.8747884940778341, lift=1.0261069556164806)]),\n",
       " RelationRecord(items=frozenset({'微信', '0'}), support=0.4087330426356589, ordered_statistics=[OrderedStatistic(items_base=frozenset({'微信'}), items_add=frozenset({'0'}), confidence=0.8602931803696622, lift=1.009104283175667)]),\n",
       " RelationRecord(items=frozenset({'0', '是'}), support=0.32116036821705424, ordered_statistics=[OrderedStatistic(items_base=frozenset({'是'}), items_add=frozenset({'0'}), confidence=0.8564276485788113, lift=1.0045701025313156)]),\n",
       " RelationRecord(items=frozenset({'0', '男'}), support=0.602046996124031, ordered_statistics=[OrderedStatistic(items_base=frozenset({'0'}), items_add=frozenset({'男'}), confidence=0.7061873978830717, lift=0.9895253151599864), OrderedStatistic(items_base=frozenset({'男'}), items_add=frozenset({'0'}), confidence=0.843601493550577, lift=0.9895253151599863)]),\n",
       " RelationRecord(items=frozenset({'0', '高中'}), support=0.2082122093023256, ordered_statistics=[OrderedStatistic(items_base=frozenset({'高中'}), items_add=frozenset({'0'}), confidence=0.8601451088316238, lift=1.008930598638046)]),\n",
       " RelationRecord(items=frozenset({'1', '男'}), support=0.11161579457364341, ordered_statistics=[OrderedStatistic(items_base=frozenset({'1'}), items_add=frozenset({'男'}), confidence=0.7568788501026694, lift=1.060555293015553)]),\n",
       " RelationRecord(items=frozenset({'PC', '男'}), support=0.3789970930232558, ordered_statistics=[OrderedStatistic(items_base=frozenset({'PC'}), items_add=frozenset({'男'}), confidence=0.722049151955694, lift=1.0117511538605242)]),\n",
       " RelationRecord(items=frozenset({'初中', '男'}), support=0.31873788759689925, ordered_statistics=[OrderedStatistic(items_base=frozenset({'初中'}), items_add=frozenset({'男'}), confidence=0.7521795055023582, lift=1.0539704679951578)]),\n",
       " RelationRecord(items=frozenset({'男', '否'}), support=0.38898982558139533, ordered_statistics=[OrderedStatistic(items_base=frozenset({'否'}), items_add=frozenset({'男'}), confidence=0.7349811191211809, lift=1.029871710703406)]),\n",
       " RelationRecord(items=frozenset({'微信', '男'}), support=0.3346656976744186, ordered_statistics=[OrderedStatistic(items_base=frozenset({'微信'}), items_add=frozenset({'男'}), confidence=0.7043977055449331, lift=0.9870175588898451)]),\n",
       " RelationRecord(items=frozenset({'男', '是'}), support=0.2625968992248062, ordered_statistics=[OrderedStatistic(items_base=frozenset({'是'}), items_add=frozenset({'男'}), confidence=0.7002583979328166, lift=0.9812174700158408)]),\n",
       " RelationRecord(items=frozenset({'男', '高中'}), support=0.17351017441860464, ordered_statistics=[OrderedStatistic(items_base=frozenset({'高中'}), items_add=frozenset({'男'}), confidence=0.7167875906930197, lift=1.0043785384863493)]),\n",
       " RelationRecord(items=frozenset({'初中', '0', 'PC'}), support=0.19797722868217055, ordered_statistics=[OrderedStatistic(items_base=frozenset({'初中', 'PC'}), items_add=frozenset({'0'}), confidence=0.8436129032258065, lift=0.989538698448854)]),\n",
       " RelationRecord(items=frozenset({'0', '否', 'PC'}), support=0.2245033914728682, ordered_statistics=[OrderedStatistic(items_base=frozenset({'PC', '否'}), items_add=frozenset({'0'}), confidence=0.8377401129943503, lift=0.9826500494254963)]),\n",
       " RelationRecord(items=frozenset({'0', 'PC', '女'}), support=0.12687742248062014, ordered_statistics=[OrderedStatistic(items_base=frozenset({'PC', '女'}), items_add=frozenset({'0'}), confidence=0.8696554586965546, lift=1.0200860221636363)]),\n",
       " RelationRecord(items=frozenset({'0', 'PC', '是'}), support=0.16303294573643412, ordered_statistics=[OrderedStatistic(items_base=frozenset({'PC', '是'}), items_add=frozenset({'0'}), confidence=0.8497474747474748, lift=0.9967344109561912)]),\n",
       " RelationRecord(items=frozenset({'0', '男', 'PC'}), support=0.31692102713178294, ordered_statistics=[OrderedStatistic(items_base=frozenset({'0', 'PC'}), items_add=frozenset({'男'}), confidence=0.7141102620087336, lift=1.0006270066436023), OrderedStatistic(items_base=frozenset({'PC', '男'}), items_add=frozenset({'0'}), confidence=0.8362096516458933, lift=0.9808548531631023)]),\n",
       " RelationRecord(items=frozenset({'0', '高中', 'PC'}), support=0.10404554263565892, ordered_statistics=[OrderedStatistic(items_base=frozenset({'PC', '高中'}), items_add=frozenset({'0'}), confidence=0.8521825396825398, lift=0.9995906865978615)]),\n",
       " RelationRecord(items=frozenset({'0', '男', '中专'}), support=0.11010174418604651, ordered_statistics=[OrderedStatistic(items_base=frozenset({'男', '中专'}), items_add=frozenset({'0'}), confidence=0.8393351800554016, lift=0.9845210267155496)]),\n",
       " RelationRecord(items=frozenset({'初中', '0', '否'}), support=0.18889292635658914, ordered_statistics=[OrderedStatistic(items_base=frozenset({'初中', '否'}), items_add=frozenset({'0'}), confidence=0.8373154362416106, lift=0.9821519132785022)]),\n",
       " RelationRecord(items=frozenset({'初中', '微信', '0'}), support=0.16030765503875968, ordered_statistics=[OrderedStatistic(items_base=frozenset({'初中', '微信'}), items_add=frozenset({'0'}), confidence=0.8478539397821908, lift=0.9945133376204827)]),\n",
       " RelationRecord(items=frozenset({'初中', '0', '是'}), support=0.12960271317829458, ordered_statistics=[OrderedStatistic(items_base=frozenset({'初中', '是'}), items_add=frozenset({'0'}), confidence=0.8495434696308058, lift=0.9964951176062986)]),\n",
       " RelationRecord(items=frozenset({'初中', '0', '男'}), support=0.26671511627906974, ordered_statistics=[OrderedStatistic(items_base=frozenset({'初中', '0'}), items_add=frozenset({'男'}), confidence=0.7444219066937119, lift=1.0431003499089078), OrderedStatistic(items_base=frozenset({'初中', '男'}), items_add=frozenset({'0'}), confidence=0.8367851035531064, lift=0.9815298451281447)]),\n",
       " RelationRecord(items=frozenset({'0', '否', '女'}), support=0.12179021317829457, ordered_statistics=[OrderedStatistic(items_base=frozenset({'否', '女'}), items_add=frozenset({'0'}), confidence=0.868307426597582, lift=1.0185048112509252)]),\n",
       " RelationRecord(items=frozenset({'微信', '0', '否'}), support=0.22311046511627908, ordered_statistics=[OrderedStatistic(items_base=frozenset({'微信', '否'}), items_add=frozenset({'0'}), confidence=0.8539638386648123, lift=1.001680109684832)]),\n",
       " RelationRecord(items=frozenset({'0', '男', '否'}), support=0.32582364341085274, ordered_statistics=[OrderedStatistic(items_base=frozenset({'0', '否'}), items_add=frozenset({'男'}), confidence=0.7279123258016508, lift=1.019966762019421), OrderedStatistic(items_base=frozenset({'男', '否'}), items_add=frozenset({'0'}), confidence=0.8376148217343922, lift=0.9825030856346013)]),\n",
       " RelationRecord(items=frozenset({'高中', '0', '否'}), support=0.10907218992248062, ordered_statistics=[OrderedStatistic(items_base=frozenset({'高中', '否'}), items_add=frozenset({'0'}), confidence=0.8596658711217184, lift=1.0083684637324584)]),\n",
       " RelationRecord(items=frozenset({'微信', '0', '女'}), support=0.12360707364341085, ordered_statistics=[OrderedStatistic(items_base=frozenset({'微信', '女'}), items_add=frozenset({'0'}), confidence=0.8801207416990081, lift=1.0323615604840535)]),\n",
       " RelationRecord(items=frozenset({'微信', '0', '是'}), support=0.15812742248062014, ordered_statistics=[OrderedStatistic(items_base=frozenset({'微信', '是'}), items_add=frozenset({'0'}), confidence=0.8634259259259259, lift=1.0127789222766845)]),\n",
       " RelationRecord(items=frozenset({'微信', '0', '男'}), support=0.28512596899224807, ordered_statistics=[OrderedStatistic(items_base=frozenset({'微信', '男'}), items_add=frozenset({'0'}), confidence=0.8519724936663048, lift=0.9993443074105296)]),\n",
       " RelationRecord(items=frozenset({'微信', '0', '高中'}), support=0.10416666666666667, ordered_statistics=[OrderedStatistic(items_base=frozenset({'微信', '高中'}), items_add=frozenset({'0'}), confidence=0.8682483594144371, lift=1.0184355267920144)]),\n",
       " RelationRecord(items=frozenset({'0', '男', '是'}), support=0.22262596899224807, ordered_statistics=[OrderedStatistic(items_base=frozenset({'男', '是'}), items_add=frozenset({'0'}), confidence=0.8477859778597786, lift=0.9944336198352394)]),\n",
       " RelationRecord(items=frozenset({'0', '男', '高中'}), support=0.14801356589147288, ordered_statistics=[OrderedStatistic(items_base=frozenset({'0', '高中'}), items_add=frozenset({'男'}), confidence=0.7108784176847004, lift=0.9960984752893561), OrderedStatistic(items_base=frozenset({'男', '高中'}), items_add=frozenset({'0'}), confidence=0.8530541012216406, lift=1.0006130084088747)]),\n",
       " RelationRecord(items=frozenset({'初中', 'PC', '男'}), support=0.17774951550387597, ordered_statistics=[OrderedStatistic(items_base=frozenset({'初中', 'PC'}), items_add=frozenset({'男'}), confidence=0.7574193548387097, lift=1.061312660140595)]),\n",
       " RelationRecord(items=frozenset({'PC', '男', '否'}), support=0.20076308139534885, ordered_statistics=[OrderedStatistic(items_base=frozenset({'PC', '否'}), items_add=frozenset({'男'}), confidence=0.7491525423728813, lift=1.0497290206772756)]),\n",
       " RelationRecord(items=frozenset({'PC', '男', '是'}), support=0.13517441860465115, ordered_statistics=[OrderedStatistic(items_base=frozenset({'PC', '是'}), items_add=frozenset({'男'}), confidence=0.7045454545454545, lift=0.9872245880392518)]),\n",
       " RelationRecord(items=frozenset({'初中', '男', '否'}), support=0.1744186046511628, ordered_statistics=[OrderedStatistic(items_base=frozenset({'初中', '否'}), items_add=frozenset({'男'}), confidence=0.7731543624161074, lift=1.0833608988641177)]),\n",
       " RelationRecord(items=frozenset({'初中', '微信', '男'}), support=0.14098837209302326, ordered_statistics=[OrderedStatistic(items_base=frozenset({'初中', '微信'}), items_add=frozenset({'男'}), confidence=0.7456758488148623, lift=1.0448574011906826)]),\n",
       " RelationRecord(items=frozenset({'初中', '男', '是'}), support=0.11288759689922481, ordered_statistics=[OrderedStatistic(items_base=frozenset({'初中', '是'}), items_add=frozenset({'男'}), confidence=0.7399761810242159, lift=1.0368709013129542)]),\n",
       " RelationRecord(items=frozenset({'微信', '男', '否'}), support=0.1882267441860465, ordered_statistics=[OrderedStatistic(items_base=frozenset({'微信', '否'}), items_add=frozenset({'男'}), confidence=0.7204450625869263, lift=1.0095034685535749)]),\n",
       " RelationRecord(items=frozenset({'初中', '0', '男', 'PC'}), support=0.1481952519379845, ordered_statistics=[OrderedStatistic(items_base=frozenset({'初中', '0', 'PC'}), items_add=frozenset({'男'}), confidence=0.7485469562557356, lift=1.0488804600895032), OrderedStatistic(items_base=frozenset({'初中', 'PC', '男'}), items_add=frozenset({'0'}), confidence=0.8337308347529813, lift=0.97794725747256)]),\n",
       " RelationRecord(items=frozenset({'0', '男', '否', 'PC'}), support=0.16648498062015504, ordered_statistics=[OrderedStatistic(items_base=frozenset({'0', '否', 'PC'}), items_add=frozenset({'男'}), confidence=0.7415700026975992, lift=1.0391041992992835), OrderedStatistic(items_base=frozenset({'PC', '男', '否'}), items_add=frozenset({'0'}), confidence=0.829260935143288, lift=0.9727041671581993)]),\n",
       " RelationRecord(items=frozenset({'0', '男', 'PC', '是'}), support=0.11373546511627906, ordered_statistics=[OrderedStatistic(items_base=frozenset({'PC', '男', '是'}), items_add=frozenset({'0'}), confidence=0.8413978494623656, lift=0.98694049089455)]),\n",
       " RelationRecord(items=frozenset({'初中', '0', '男', '否'}), support=0.14425872093023256, ordered_statistics=[OrderedStatistic(items_base=frozenset({'初中', '0', '否'}), items_add=frozenset({'男'}), confidence=0.7637063161269638, lift=1.0701220885852365), OrderedStatistic(items_base=frozenset({'初中', '男', '否'}), items_add=frozenset({'0'}), confidence=0.8270833333333334, lift=0.9701498898913121)]),\n",
       " RelationRecord(items=frozenset({'初中', '微信', '0', '男'}), support=0.11851986434108527, ordered_statistics=[OrderedStatistic(items_base=frozenset({'初中', '微信', '0'}), items_add=frozenset({'男'}), confidence=0.7393275406120137, lift=1.0359620120999296), OrderedStatistic(items_base=frozenset({'初中', '微信', '男'}), items_add=frozenset({'0'}), confidence=0.8406357388316151, lift=0.9860465525032058)]),\n",
       " RelationRecord(items=frozenset({'微信', '0', '男', '否'}), support=0.15933866279069767, ordered_statistics=[OrderedStatistic(items_base=frozenset({'微信', '0', '否'}), items_add=frozenset({'男'}), confidence=0.7141693811074918, lift=1.0007098456251615), OrderedStatistic(items_base=frozenset({'微信', '男', '否'}), items_add=frozenset({'0'}), confidence=0.8465250965250964, lift=0.9929546347817285)]),\n",
       " RelationRecord(items=frozenset({'微信', '0', '男', '是'}), support=0.10889050387596899, ordered_statistics=[OrderedStatistic(items_base=frozenset({'微信', '男', '是'}), items_add=frozenset({'0'}), confidence=0.8545627376425855, lift=1.0023826045289743)])]"
      ]
     },
     "execution_count": 69,
     "metadata": {},
     "output_type": "execute_result"
    }
   ],
   "source": [
    "list(result)"
   ]
  },
  {
   "cell_type": "code",
   "execution_count": 37,
   "metadata": {
    "scrolled": true
   },
   "outputs": [
    {
     "data": {
      "text/plain": [
       "RelationRecord(items=frozenset({'尿布', '豆奶'}), support=0.6, ordered_statistics=[OrderedStatistic(items_base=frozenset({'尿布'}), items_add=frozenset({'豆奶'}), confidence=0.7499999999999999, lift=0.9374999999999998), OrderedStatistic(items_base=frozenset({'豆奶'}), items_add=frozenset({'尿布'}), confidence=0.7499999999999999, lift=0.9374999999999998)])"
      ]
     },
     "execution_count": 37,
     "metadata": {},
     "output_type": "execute_result"
    }
   ],
   "source": [
    "result[10]"
   ]
  },
  {
   "cell_type": "markdown",
   "metadata": {},
   "source": [
    "### IsolationForest"
   ]
  },
  {
   "cell_type": "code",
   "execution_count": 290,
   "metadata": {},
   "outputs": [],
   "source": [
    "from sklearn.ensemble import IsolationForest"
   ]
  },
  {
   "cell_type": "code",
   "execution_count": 291,
   "metadata": {},
   "outputs": [],
   "source": [
    "lsf = IsolationForest(random_state=0,n_estimators=1000,n_jobs=-1)"
   ]
  },
  {
   "cell_type": "code",
   "execution_count": 235,
   "metadata": {
    "scrolled": true
   },
   "outputs": [],
   "source": [
    "_=pd.concat([train_kj[['age',\n",
    "  'income',\n",
    "  'install_num',\n",
    "  'is_attach',\n",
    "  'is_insuuance',\n",
    "  'loan_amt',\n",
    "  'mobile_time_span',\n",
    "  'mth_repay_amt',\n",
    "  'mth_repay_date',\n",
    "  'no_close_loan',\n",
    "  'str_level',\n",
    "  'unit_is_live',\n",
    "  'reg_is_unit']],pd.get_dummies(train_kj[['channel',\n",
    "  'education',\n",
    "  'is_fam_know',\n",
    "  'is_fam_reg_add',\n",
    "  'is_reg_live',\n",
    "  'live_build_type',\n",
    "  'mar_level',\n",
    "  'mar_status',\n",
    "  'mth_tel_bill',\n",
    "  'nation',\n",
    "  'sex',\n",
    "  'unit_prov',\n",
    "  'unit_scale']])],axis=1)"
   ]
  },
  {
   "cell_type": "code",
   "execution_count": 292,
   "metadata": {
    "scrolled": true
   },
   "outputs": [
    {
     "data": {
      "text/plain": [
       "IsolationForest(bootstrap=False, contamination=0.1, max_features=1.0,\n",
       "        max_samples='auto', n_estimators=1000, n_jobs=-1, random_state=0,\n",
       "        verbose=0)"
      ]
     },
     "execution_count": 292,
     "metadata": {},
     "output_type": "execute_result"
    }
   ],
   "source": [
    "lsf.fit(train_kj[['age',\n",
    "  'income',\n",
    "  'install_num',\n",
    "  'loan_amt',\n",
    "  'mobile_time_span',\n",
    "  'mth_repay_amt',\n",
    "  'mth_repay_date']].values)"
   ]
  },
  {
   "cell_type": "code",
   "execution_count": 272,
   "metadata": {
    "scrolled": true
   },
   "outputs": [],
   "source": [
    "score = lsf.decision_function(_.astype(float).values)"
   ]
  },
  {
   "cell_type": "code",
   "execution_count": 293,
   "metadata": {},
   "outputs": [],
   "source": [
    "_=lsf.predict(train_kj[['age',\n",
    "  'income',\n",
    "  'install_num',\n",
    "  'loan_amt',\n",
    "  'mobile_time_span',\n",
    "  'mth_repay_amt',\n",
    "  'mth_repay_date']].values)"
   ]
  },
  {
   "cell_type": "code",
   "execution_count": 294,
   "metadata": {
    "scrolled": true
   },
   "outputs": [],
   "source": [
    "pred = pd.Series(_,index=train_kj.index)"
   ]
  },
  {
   "cell_type": "code",
   "execution_count": 295,
   "metadata": {},
   "outputs": [],
   "source": [
    "pred.name='iforest'"
   ]
  },
  {
   "cell_type": "code",
   "execution_count": 296,
   "metadata": {},
   "outputs": [
    {
     "data": {
      "text/plain": [
       " 1    14860\n",
       "-1     1652\n",
       "Name: iforest, dtype: int64"
      ]
     },
     "execution_count": 296,
     "metadata": {},
     "output_type": "execute_result"
    }
   ],
   "source": [
    "pred.value_counts()"
   ]
  },
  {
   "cell_type": "code",
   "execution_count": 297,
   "metadata": {},
   "outputs": [
    {
     "data": {
      "text/plain": [
       "0.0    14077\n",
       "1.0     2435\n",
       "Name: FPD30, dtype: int64"
      ]
     },
     "execution_count": 297,
     "metadata": {},
     "output_type": "execute_result"
    }
   ],
   "source": [
    "train_kj.FPD30.value_counts()"
   ]
  },
  {
   "cell_type": "code",
   "execution_count": 298,
   "metadata": {
    "scrolled": true
   },
   "outputs": [],
   "source": [
    "pred_c = pd.concat([train_kj.FPD30,pred],axis=1)"
   ]
  },
  {
   "cell_type": "code",
   "execution_count": 299,
   "metadata": {},
   "outputs": [
    {
     "data": {
      "text/html": [
       "<div>\n",
       "<style scoped>\n",
       "    .dataframe tbody tr th:only-of-type {\n",
       "        vertical-align: middle;\n",
       "    }\n",
       "\n",
       "    .dataframe tbody tr th {\n",
       "        vertical-align: top;\n",
       "    }\n",
       "\n",
       "    .dataframe thead th {\n",
       "        text-align: right;\n",
       "    }\n",
       "</style>\n",
       "<table border=\"1\" class=\"dataframe\">\n",
       "  <thead>\n",
       "    <tr style=\"text-align: right;\">\n",
       "      <th>iforest</th>\n",
       "      <th>-1</th>\n",
       "      <th>1</th>\n",
       "    </tr>\n",
       "    <tr>\n",
       "      <th>FPD30</th>\n",
       "      <th></th>\n",
       "      <th></th>\n",
       "    </tr>\n",
       "  </thead>\n",
       "  <tbody>\n",
       "    <tr>\n",
       "      <th>0.0</th>\n",
       "      <td>1551</td>\n",
       "      <td>12526</td>\n",
       "    </tr>\n",
       "    <tr>\n",
       "      <th>1.0</th>\n",
       "      <td>101</td>\n",
       "      <td>2334</td>\n",
       "    </tr>\n",
       "  </tbody>\n",
       "</table>\n",
       "</div>"
      ],
      "text/plain": [
       "iforest    -1      1\n",
       "FPD30               \n",
       "0.0      1551  12526\n",
       "1.0       101   2334"
      ]
     },
     "execution_count": 299,
     "metadata": {},
     "output_type": "execute_result"
    }
   ],
   "source": [
    "pred_c.groupby(['FPD30','iforest']).size().unstack()"
   ]
  },
  {
   "cell_type": "code",
   "execution_count": 83,
   "metadata": {},
   "outputs": [],
   "source": [
    "_=lsf.predict(train_kj[['age','income']].iloc[10000:].astype(float).values)"
   ]
  },
  {
   "cell_type": "code",
   "execution_count": 93,
   "metadata": {},
   "outputs": [
    {
     "data": {
      "text/plain": [
       "RangeIndex(start=0, stop=16512, step=1)"
      ]
     },
     "execution_count": 93,
     "metadata": {},
     "output_type": "execute_result"
    }
   ],
   "source": [
    "train_kj.index"
   ]
  },
  {
   "cell_type": "code",
   "execution_count": 97,
   "metadata": {
    "scrolled": true
   },
   "outputs": [
    {
     "data": {
      "text/html": [
       "<div>\n",
       "<style scoped>\n",
       "    .dataframe tbody tr th:only-of-type {\n",
       "        vertical-align: middle;\n",
       "    }\n",
       "\n",
       "    .dataframe tbody tr th {\n",
       "        vertical-align: top;\n",
       "    }\n",
       "\n",
       "    .dataframe thead th {\n",
       "        text-align: right;\n",
       "    }\n",
       "</style>\n",
       "<table border=\"1\" class=\"dataframe\">\n",
       "  <thead>\n",
       "    <tr style=\"text-align: right;\">\n",
       "      <th></th>\n",
       "      <th>age</th>\n",
       "      <th>income</th>\n",
       "    </tr>\n",
       "  </thead>\n",
       "  <tbody>\n",
       "    <tr>\n",
       "      <th>16509</th>\n",
       "      <td>20.0</td>\n",
       "      <td>2500.0</td>\n",
       "    </tr>\n",
       "  </tbody>\n",
       "</table>\n",
       "</div>"
      ],
      "text/plain": [
       "        age  income\n",
       "16509  20.0  2500.0"
      ]
     },
     "execution_count": 97,
     "metadata": {},
     "output_type": "execute_result"
    }
   ],
   "source": [
    "train_kj.iloc[[-3]][['age','income']]"
   ]
  },
  {
   "cell_type": "code",
   "execution_count": 100,
   "metadata": {},
   "outputs": [
    {
     "data": {
      "text/html": [
       "<div>\n",
       "<style scoped>\n",
       "    .dataframe tbody tr th:only-of-type {\n",
       "        vertical-align: middle;\n",
       "    }\n",
       "\n",
       "    .dataframe tbody tr th {\n",
       "        vertical-align: top;\n",
       "    }\n",
       "\n",
       "    .dataframe thead th {\n",
       "        text-align: right;\n",
       "    }\n",
       "</style>\n",
       "<table border=\"1\" class=\"dataframe\">\n",
       "  <thead>\n",
       "    <tr style=\"text-align: right;\">\n",
       "      <th></th>\n",
       "      <th>age</th>\n",
       "      <th>income</th>\n",
       "    </tr>\n",
       "  </thead>\n",
       "  <tbody>\n",
       "    <tr>\n",
       "      <th>16509</th>\n",
       "      <td>20.0</td>\n",
       "      <td>2500.0</td>\n",
       "    </tr>\n",
       "    <tr>\n",
       "      <th>16510</th>\n",
       "      <td>24.0</td>\n",
       "      <td>7104.0</td>\n",
       "    </tr>\n",
       "    <tr>\n",
       "      <th>16511</th>\n",
       "      <td>31.0</td>\n",
       "      <td>7104.0</td>\n",
       "    </tr>\n",
       "  </tbody>\n",
       "</table>\n",
       "</div>"
      ],
      "text/plain": [
       "        age  income\n",
       "16509  20.0  2500.0\n",
       "16510  24.0  7104.0\n",
       "16511  31.0  7104.0"
      ]
     },
     "execution_count": 100,
     "metadata": {},
     "output_type": "execute_result"
    }
   ],
   "source": [
    "train_kj[['age','income']].iloc[-3:]"
   ]
  },
  {
   "cell_type": "code",
   "execution_count": null,
   "metadata": {},
   "outputs": [],
   "source": [
    "train_kj[['age','income']].iloc[10000:]"
   ]
  },
  {
   "cell_type": "code",
   "execution_count": 106,
   "metadata": {
    "scrolled": true
   },
   "outputs": [],
   "source": [
    "out_index=[]\n",
    "for i,k in enumerate(_):\n",
    "    if k==-1:\n",
    "        out_index.append(i+10000)"
   ]
  },
  {
   "cell_type": "code",
   "execution_count": 107,
   "metadata": {},
   "outputs": [
    {
     "data": {
      "text/plain": [
       "652"
      ]
     },
     "execution_count": 107,
     "metadata": {},
     "output_type": "execute_result"
    }
   ],
   "source": [
    "len(out_index)"
   ]
  },
  {
   "cell_type": "code",
   "execution_count": 137,
   "metadata": {
    "scrolled": true
   },
   "outputs": [],
   "source": [
    "age_income = train_kj[['age','income']].loc[10000:]"
   ]
  },
  {
   "cell_type": "code",
   "execution_count": 141,
   "metadata": {},
   "outputs": [],
   "source": [
    "age_income['out']  = 0"
   ]
  },
  {
   "cell_type": "code",
   "execution_count": 142,
   "metadata": {
    "scrolled": true
   },
   "outputs": [],
   "source": [
    "age_income.loc[out_index,'out']=1"
   ]
  },
  {
   "cell_type": "code",
   "execution_count": 143,
   "metadata": {
    "scrolled": true
   },
   "outputs": [],
   "source": [
    "age_income=age_income.astype(float)"
   ]
  },
  {
   "cell_type": "code",
   "execution_count": 144,
   "metadata": {
    "scrolled": false
   },
   "outputs": [
    {
     "data": {
      "text/plain": [
       "<matplotlib.axes._subplots.AxesSubplot at 0xcdc81d0>"
      ]
     },
     "execution_count": 144,
     "metadata": {},
     "output_type": "execute_result"
    },
    {
     "data": {
      "image/png": "[encoded data removed]",
      "text/plain": [
       "<Figure size 432x288 with 1 Axes>"
      ]
     },
     "metadata": {},
     "output_type": "display_data"
    }
   ],
   "source": [
    "sns.scatterplot(data=age_income,x='age',y='income',hue='out')"
   ]
  },
  {
   "cell_type": "markdown",
   "metadata": {},
   "source": [
    "### tensorflow"
   ]
  },
  {
   "cell_type": "code",
   "execution_count": 1,
   "metadata": {},
   "outputs": [],
   "source": [
    "from __future__ import absolute_import, division, print_function, unicode_literals"
   ]
  },
  {
   "cell_type": "code",
   "execution_count": 2,
   "metadata": {},
   "outputs": [],
   "source": [
    "import tensorflow as tf\n",
    "from tensorflow import keras"
   ]
  },
  {
   "cell_type": "code",
   "execution_count": 3,
   "metadata": {},
   "outputs": [
    {
     "name": "stdout",
     "output_type": "stream",
     "text": [
      "1.9.0\n"
     ]
    }
   ],
   "source": [
    "print(tf.__version__)"
   ]
  },
  {
   "cell_type": "code",
   "execution_count": 4,
   "metadata": {},
   "outputs": [],
   "source": [
    "# 导入数据集\n",
    "fashion_mnist = keras.datasets.fashion_mnist\n",
    "(train_images, train_labels), (test_images, test_labels) = fashion_mnist.load_data()"
   ]
  },
  {
   "cell_type": "code",
   "execution_count": 5,
   "metadata": {},
   "outputs": [
    {
     "data": {
      "text/plain": [
       "((60000, 28, 28), (10000, 28, 28))"
      ]
     },
     "execution_count": 5,
     "metadata": {},
     "output_type": "execute_result"
    }
   ],
   "source": [
    "train_images.shape, test_images.shape"
   ]
  },
  {
   "cell_type": "code",
   "execution_count": 13,
   "metadata": {
    "collapsed": true
   },
   "outputs": [
    {
     "data": {
      "image/png": "[encoded data removed]",
      "text/plain": [
       "<Figure size 432x288 with 2 Axes>"
      ]
     },
     "metadata": {
      "needs_background": "light"
     },
     "output_type": "display_data"
    }
   ],
   "source": [
    "\n",
    "plt.subplot(1,2,1)\n",
    "plt.imshow(train_images[0])\n",
    "plt.grid(False)\n",
    "plt.subplot(1,2,2)\n",
    "plt.imshow(train_images[1])\n",
    "plt.grid(False)"
   ]
  },
  {
   "cell_type": "code",
   "execution_count": 6,
   "metadata": {
    "scrolled": true
   },
   "outputs": [],
   "source": [
    "train_images = train_images/255\n",
    "test_images = test_images/255"
   ]
  },
  {
   "cell_type": "code",
   "execution_count": 32,
   "metadata": {},
   "outputs": [],
   "source": [
    "model = keras.Sequential([\n",
    "    keras.layers.Flatten(input_shape=(28, 28)),\n",
    "    keras.layers.Dense(128, activation=tf.nn.relu),\n",
    "    keras.layers.Dense(10, activation=tf.nn.softmax)\n",
    "])"
   ]
  },
  {
   "cell_type": "code",
   "execution_count": 33,
   "metadata": {},
   "outputs": [],
   "source": [
    "model.compile(loss='sparse_categorical_crossentropy',metrics=['accuracy'],optimizer='adam')"
   ]
  },
  {
   "cell_type": "code",
   "execution_count": 34,
   "metadata": {
    "scrolled": true
   },
   "outputs": [
    {
     "name": "stdout",
     "output_type": "stream",
     "text": [
      "Epoch 1/10\n",
      "60000/60000 [==============================] - 8s 127us/step - loss: 0.5005 - acc: 0.8234\n",
      "Epoch 2/10\n",
      "60000/60000 [==============================] - 6s 94us/step - loss: 0.3812 - acc: 0.8621\n",
      "Epoch 3/10\n",
      "60000/60000 [==============================] - 6s 97us/step - loss: 0.3388 - acc: 0.8766\n",
      "Epoch 4/10\n",
      "60000/60000 [==============================] - 6s 100us/step - loss: 0.3155 - acc: 0.8839\n",
      "Epoch 5/10\n",
      "60000/60000 [==============================] - 6s 97us/step - loss: 0.2966 - acc: 0.8904\n",
      "Epoch 6/10\n",
      "60000/60000 [==============================] - 6s 99us/step - loss: 0.2822 - acc: 0.8954\n",
      "Epoch 7/10\n",
      "60000/60000 [==============================] - 6s 102us/step - loss: 0.2668 - acc: 0.9011\n",
      "Epoch 8/10\n",
      "60000/60000 [==============================] - 6s 102us/step - loss: 0.2580 - acc: 0.9040\n",
      "Epoch 9/10\n",
      "60000/60000 [==============================] - 6s 105us/step - loss: 0.2476 - acc: 0.9077\n",
      "Epoch 10/10\n",
      "60000/60000 [==============================] - 6s 108us/step - loss: 0.2388 - acc: 0.9115\n"
     ]
    },
    {
     "data": {
      "text/plain": [
       "<tensorflow.python.keras.callbacks.History at 0x1400eef0>"
      ]
     },
     "execution_count": 34,
     "metadata": {},
     "output_type": "execute_result"
    }
   ],
   "source": [
    "model.fit(x=train_images,y=train_labels,epochs=10)"
   ]
  },
  {
   "cell_type": "code",
   "execution_count": 37,
   "metadata": {},
   "outputs": [
    {
     "name": "stdout",
     "output_type": "stream",
     "text": [
      "10000/10000 [==============================] - 0s 31us/step\n",
      "accuracy:0.8849\n"
     ]
    }
   ],
   "source": [
    "a,b = model.evaluate(test_images,test_labels)\n",
    "print('accuracy:%s'%b)"
   ]
  },
  {
   "cell_type": "code",
   "execution_count": 47,
   "metadata": {
    "scrolled": true
   },
   "outputs": [
    {
     "data": {
      "text/plain": [
       "9"
      ]
     },
     "execution_count": 47,
     "metadata": {},
     "output_type": "execute_result"
    }
   ],
   "source": [
    "np.argmax(model.predict(test_images)[0])"
   ]
  },
  {
   "cell_type": "code",
   "execution_count": 65,
   "metadata": {},
   "outputs": [
    {
     "data": {
      "text/plain": [
       "array([[2.4026388e-06, 2.6423947e-09, 8.7004537e-07, 1.8889486e-06,\n",
       "        4.9731705e-07, 4.1201324e-04, 3.6711551e-06, 1.2475329e-02,\n",
       "        9.3390099e-06, 9.8709399e-01]], dtype=float32)"
      ]
     },
     "execution_count": 65,
     "metadata": {},
     "output_type": "execute_result"
    }
   ],
   "source": [
    "model.predict(np.expand_dims(test_images[0],0))"
   ]
  },
  {
   "cell_type": "code",
   "execution_count": null,
   "metadata": {},
   "outputs": [],
   "source": []
  },
  {
   "cell_type": "markdown",
   "metadata": {},
   "source": [
    "## DEF"
   ]
  },
  {
   "cell_type": "code",
   "execution_count": 234,
   "metadata": {},
   "outputs": [],
   "source": [
    "def feature_count_ratio(data,x,xtype,y,value):\n",
    "    '''单个特征-Y值分布统计。y为float型，取值0和1。x为float(数值型)或object(类别型)。xtype:\"numeric\"或其他。value:统计值，如\"LOAN_NO\"\n",
    "    return style形式dataframe 和 overlap'''\n",
    "    counts_ratio=pd.pivot_table(data=data[[x,y,value]],values=value,index=x,columns=y,aggfunc=len,margins=True,fill_value=0)\n",
    "    counts_ratio['one_ratio'] = counts_ratio[1].div(counts_ratio['All'])\n",
    "    counts_ratio = counts_ratio.drop(counts_ratio.index[-1])\n",
    "    if xtype != 'numeric':\n",
    "        counts_ratio = counts_ratio.sort_values('one_ratio')\n",
    "    bar = Bar(x,title_pos='center')\n",
    "    line = Line()\n",
    "    x_len = len(counts_ratio.index)\n",
    "    rotate = 0 if x_len < 15 else 45 if x_len < 30 else 90\n",
    "    bar.add('count', counts_ratio.index, counts_ratio['All'].values, yaxis_min=0, yaxis_max=None, is_label_show=False, label_pos='inside',\n",
    "             legend_pos='right', legend_orient='vertical',is_stack=False,label_color=['#35b0ab'],xaxis_rotate=rotate)\n",
    "    line.add('y=1', counts_ratio.index, counts_ratio['one_ratio'].values, yaxis_min=0, yaxis_max=None, is_label_show=False, label_pos='inside',\n",
    "             legend_pos='right', legend_orient='vertical',is_stack=False,label_color=['#f34573'],line_width=1.5,is_smooth=False)\n",
    "    overlap = Overlap(width='100%')\n",
    "    overlap.add(bar)\n",
    "    overlap.add(line,is_add_yaxis=True,yaxis_index=1)\n",
    "    return counts_ratio.style.bar(subset=['All','one_ratio']), overlap"
   ]
  },
  {
   "cell_type": "code",
   "execution_count": 275,
   "metadata": {},
   "outputs": [],
   "source": [
    "def get_woe_iv(df,x,x_type,y,only_total_iv=False,style=True,sort=False):\n",
    "    '''单个变量WOE和IV值计算。return df 和 overlap。only_total_iv=True时只return总IV。'''\n",
    "    df_concat=df[[x,y]]    \n",
    "    df_concat[y] = df_concat[y].apply(float)\n",
    "    x_values=list(df_concat[x].unique())\n",
    "    if x_type == 'numeric':\n",
    "        x_values.sort()\n",
    "    s_total=df_concat.groupby(y).size()\n",
    "    woe_dic={}\n",
    "    iv_dic={}\n",
    "    total_iv=0\n",
    "    for i in range(len(x_values)):\n",
    "        a=df_concat[df_concat[x]==x_values[i]].groupby(y).size()\n",
    "        aa=a.to_dict()\n",
    "        for k in [0,1]:\n",
    "            if aa.get(k,'null') == 'null':\n",
    "                aa[k]=1\n",
    "        a=pd.Series(aa)\n",
    "        respand_rate=a[1]/s_total[1]\n",
    "        norespand_rate=a[0]/s_total[0]\n",
    "        rate=respand_rate/norespand_rate\n",
    "        woe=math.log(rate,math.e)\n",
    "        iv=(a[1]/s_total[1]-a[0]/s_total[0])*woe\n",
    "        total_iv += iv\n",
    "        woe_dic[x_values[i]]=woe\n",
    "        iv_dic[x_values[i]]=iv\n",
    "    df_woe_iv=pd.DataFrame({x+'_WOE':woe_dic,x+'_IV':iv_dic}).T\n",
    "    x_pivot=df_concat.groupby(y)[x].apply(Counter)\n",
    "    x_pivot=x_pivot.unstack().T\n",
    "    x_pivot.fillna(0,inplace=True)\n",
    "    x_pivot['样本总量']=x_pivot[0]+x_pivot[1]\n",
    "    x_pivot['坏样本占比']=x_pivot[1]/x_pivot['样本总量']\n",
    "    x_des_woe_iv=pd.concat([x_pivot,df_woe_iv.T],axis=1)\n",
    "    if sort:\n",
    "        x_des_woe_iv = x_des_woe_iv.sort_values(by='坏样本占比')\n",
    "    if not only_total_iv:\n",
    "        bar = Bar(x,title_pos='center')  # 绘图\n",
    "        line = Line()\n",
    "        x_len = len(x_des_woe_iv.index)\n",
    "        rotate = 0 if x_len < 15 else 45 if x_len < 30 else 90\n",
    "        bar.add('count', x_des_woe_iv.index, x_des_woe_iv['样本总量'].values, yaxis_min=0, yaxis_max=None, is_label_show=False, label_pos='inside',\n",
    "                 legend_pos='right', legend_orient='vertical',is_stack=False,label_color=['#35b0ab'],xaxis_rotate=rotate)\n",
    "        line.add('bad_ratio', x_des_woe_iv.index, x_des_woe_iv['坏样本占比'].values, yaxis_min=0, yaxis_max=None, is_label_show=False, label_pos='inside',\n",
    "                 legend_pos='right', legend_orient='vertical',is_stack=False,label_color=['#f34573'],line_width=1.5,is_smooth=False)\n",
    "        overlap = Overlap(width='100%')\n",
    "        overlap.add(bar)\n",
    "        overlap.add(line,is_add_yaxis=True,yaxis_index=1)\n",
    "    if only_total_iv:\n",
    "        return total_iv\n",
    "    else:\n",
    "        print('total IV of {} is: {}'.format(x,total_iv))\n",
    "        if style:\n",
    "            return x_des_woe_iv.style.bar(subset=['样本总量','坏样本占比',x+'_IV',x+'_WOE']), overlap\n",
    "        else:\n",
    "            return x_des_woe_iv, overlap"
   ]
  },
  {
   "cell_type": "code",
   "execution_count": 3,
   "metadata": {},
   "outputs": [],
   "source": [
    "class featureCountsDraw():\n",
    "    '''特征与坏账统计。绘图。pyecharts'''\n",
    "    def __init__(self):\n",
    "        pass\n",
    "    def onevar(self,data,x_index,y_index):\n",
    "        '''统计函数\n",
    "        param\n",
    "            data：frame 数据源\n",
    "            x_index：int 特征所在列索引\n",
    "            y_index: int 目标所在列索引\n",
    "        return\n",
    "            A: frame\n",
    "        '''            \n",
    "        A=pd.DataFrame(data.groupby(data.columns[x_index],as_index=False).size())\n",
    "        A.columns=['单量']\n",
    "        B=data[data.iloc[:,y_index]=='1'].groupby(data.columns[x_index]).size()\n",
    "        A['坏账']=B\n",
    "        A=A.reset_index()\n",
    "        A['好客户']=list(map(lambda x,y:x-y,A['单量'],A['坏账']))    \n",
    "        A['坏账率']=list(map(lambda x,y:round(x/y,4),A['坏账'],A['单量']))\n",
    "        A['总体坏账率']=round(A['坏账'].sum()/A['单量'].sum(),4)\n",
    "        A=A.applymap(lambda x:x if pd.notnull(x) else 0)\n",
    "        return A\n",
    "    def drawfunc(self,A,text,yaxis_max=200000,yaxis_force_interval=0.25,width=1000):\n",
    "        '''坏账率绘图函数'''\n",
    "        from pyecharts import Bar,Line,Overlap,Grid,Page\n",
    "        bar = Bar(text,title_pos='center',width='100%')  \n",
    "        line = Line(text,title_pos='center',width='100%') \n",
    "        bar.add(\"好客户\",A.iloc[:,0].tolist(),A['好客户'].tolist(),yaxis_min=0,yaxis_max=yaxis_max,is_label_show=True,label_pos='inside',\n",
    "                label_color=['#FFB6B9'],legend_pos='right', legend_orient='vertical',is_stack=True)\n",
    "        bar.add(\"坏客户\",A.iloc[:,0].tolist(),A['坏账'].tolist(),yaxis_min=0,yaxis_max=yaxis_max,is_label_show=True,label_pos='inside',\n",
    "                label_color=['#BBDED6'],legend_pos='right',legend_orient='vertical',is_stack=True) \n",
    "        line.add('坏账率',A.iloc[:,0].tolist(),A['坏账率'].tolist(),yaxis_min=0,yaxis_max=1,yaxis_force_interval=yaxis_force_interval,is_smooth=True,\n",
    "                legend_pos='right',point_symbol='circle',legend_orient='vertical',line_width =2,is_label_show =True)\n",
    "        line.add('总体坏账率',A.iloc[:,0].tolist(),A['总体坏账率'].tolist(),yaxis_min=0,yaxis_max=1,yaxis_force_interval=yaxis_force_interval,is_smooth=True,\n",
    "                legend_pos='right',legend_orient='vertical',line_width =2,line_type='dotted')\n",
    "        overlap = Overlap(width='100%')\n",
    "        overlap.add(bar)\n",
    "        overlap.add(line,is_add_yaxis=True,yaxis_index=1) \n",
    "        grid=Grid(width=width)\n",
    "        grid.add(overlap,grid_right='10%')\n",
    "        return grid"
   ]
  },
  {
   "cell_type": "code",
   "execution_count": 187,
   "metadata": {},
   "outputs": [],
   "source": [
    "def divide_x_dtype(df):\n",
    "    \"\"\"\n",
    "    划分变量数据类型\n",
    "    注：缺失值需为np.nan\n",
    "    \"\"\"\n",
    "    int_X=[]\n",
    "    float_X=[]\n",
    "    category_X=[]\n",
    "    for i,ds in df.iteritems():\n",
    "        ds = ds[ds.notnull()]\n",
    "        try:\n",
    "            ds = ds.apply(float)\n",
    "        except:\n",
    "            category_X.append(i)\n",
    "        finally:\n",
    "            if i not in category_X:\n",
    "                ds_re = ds.apply(lambda x: x%1)\n",
    "                if ds_re.max()==0:\n",
    "                    int_X.append(i)\n",
    "                else:\n",
    "                    float_X.append(i)\n",
    "    return {'int':int_X,'float':float_X,'category':category_X}"
   ]
  },
  {
   "cell_type": "code",
   "execution_count": null,
   "metadata": {},
   "outputs": [],
   "source": []
  },
  {
   "cell_type": "code",
   "execution_count": null,
   "metadata": {},
   "outputs": [],
   "source": []
  }
 ],
 "metadata": {
  "hide_input": false,
  "kernelspec": {
   "display_name": "Python 3",
   "language": "python",
   "name": "python3"
  },
  "language_info": {
   "codemirror_mode": {
    "name": "ipython",
    "version": 3
   },
   "file_extension": ".py",
   "mimetype": "text/x-python",
   "name": "python",
   "nbconvert_exporter": "python",
   "pygments_lexer": "ipython3",
   "version": "3.7.0"
  },
  "toc": {
   "base_numbering": 1,
   "nav_menu": {},
   "number_sections": true,
   "sideBar": true,
   "skip_h1_title": false,
   "title_cell": "Table of Contents",
   "title_sidebar": "Contents",
   "toc_cell": false,
   "toc_position": {
    "height": "calc(100% - 180px)",
    "left": "10px",
    "top": "150px",
    "width": "226px"
   },
   "toc_section_display": true,
   "toc_window_display": true
  },
  "varInspector": {
   "cols": {
    "lenName": 16,
    "lenType": 16,
    "lenVar": 40
   },
   "kernels_config": {
    "python": {
     "delete_cmd_postfix": "",
     "delete_cmd_prefix": "del ",
     "library": "var_list.py",
     "varRefreshCmd": "print(var_dic_list())"
    },
    "r": {
     "delete_cmd_postfix": ") ",
     "delete_cmd_prefix": "rm(",
     "library": "var_list.r",
     "varRefreshCmd": "cat(var_dic_list()) "
    }
   },
   "types_to_exclude": [
    "module",
    "function",
    "builtin_function_or_method",
    "instance",
    "_Feature"
   ],
   "window_display": false
  }
 },
 "nbformat": 4,
 "nbformat_minor": 2
}
